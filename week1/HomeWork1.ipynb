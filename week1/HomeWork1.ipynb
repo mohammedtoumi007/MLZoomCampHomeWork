{
 "cells": [
  {
   "cell_type": "code",
   "execution_count": 1,
   "metadata": {},
   "outputs": [],
   "source": [
    "import numpy as np\n",
    "import pandas as pd"
   ]
  },
  {
   "cell_type": "markdown",
   "metadata": {},
   "source": [
    "## Getting the data"
   ]
  },
  {
   "cell_type": "code",
   "execution_count": 2,
   "metadata": {},
   "outputs": [
    {
     "name": "stdout",
     "output_type": "stream",
     "text": [
      "  Make       Model  Year             Engine Fuel Type  Engine HP  \\\n",
      "0  BMW  1 Series M  2011  premium unleaded (required)      335.0   \n",
      "1  BMW    1 Series  2011  premium unleaded (required)      300.0   \n",
      "2  BMW    1 Series  2011  premium unleaded (required)      300.0   \n",
      "3  BMW    1 Series  2011  premium unleaded (required)      230.0   \n",
      "4  BMW    1 Series  2011  premium unleaded (required)      230.0   \n",
      "\n",
      "   Engine Cylinders Transmission Type     Driven_Wheels  Number of Doors  \\\n",
      "0               6.0            MANUAL  rear wheel drive              2.0   \n",
      "1               6.0            MANUAL  rear wheel drive              2.0   \n",
      "2               6.0            MANUAL  rear wheel drive              2.0   \n",
      "3               6.0            MANUAL  rear wheel drive              2.0   \n",
      "4               6.0            MANUAL  rear wheel drive              2.0   \n",
      "\n",
      "                         Market Category Vehicle Size Vehicle Style  \\\n",
      "0  Factory Tuner,Luxury,High-Performance      Compact         Coupe   \n",
      "1                     Luxury,Performance      Compact   Convertible   \n",
      "2                Luxury,High-Performance      Compact         Coupe   \n",
      "3                     Luxury,Performance      Compact         Coupe   \n",
      "4                                 Luxury      Compact   Convertible   \n",
      "\n",
      "   highway MPG  city mpg  Popularity   MSRP  \n",
      "0           26        19        3916  46135  \n",
      "1           28        19        3916  40650  \n",
      "2           28        20        3916  36350  \n",
      "3           28        18        3916  29450  \n",
      "4           28        18        3916  34500  \n",
      "          Make       Model  Year                Engine Fuel Type  Engine HP  \\\n",
      "0          BMW  1 Series M  2011     premium unleaded (required)      335.0   \n",
      "1          BMW    1 Series  2011     premium unleaded (required)      300.0   \n",
      "2          BMW    1 Series  2011     premium unleaded (required)      300.0   \n",
      "3          BMW    1 Series  2011     premium unleaded (required)      230.0   \n",
      "4          BMW    1 Series  2011     premium unleaded (required)      230.0   \n",
      "...        ...         ...   ...                             ...        ...   \n",
      "11909    Acura         ZDX  2012     premium unleaded (required)      300.0   \n",
      "11910    Acura         ZDX  2012     premium unleaded (required)      300.0   \n",
      "11911    Acura         ZDX  2012     premium unleaded (required)      300.0   \n",
      "11912    Acura         ZDX  2013  premium unleaded (recommended)      300.0   \n",
      "11913  Lincoln      Zephyr  2006                regular unleaded      221.0   \n",
      "\n",
      "       Engine Cylinders Transmission Type      Driven_Wheels  Number of Doors  \\\n",
      "0                   6.0            MANUAL   rear wheel drive              2.0   \n",
      "1                   6.0            MANUAL   rear wheel drive              2.0   \n",
      "2                   6.0            MANUAL   rear wheel drive              2.0   \n",
      "3                   6.0            MANUAL   rear wheel drive              2.0   \n",
      "4                   6.0            MANUAL   rear wheel drive              2.0   \n",
      "...                 ...               ...                ...              ...   \n",
      "11909               6.0         AUTOMATIC    all wheel drive              4.0   \n",
      "11910               6.0         AUTOMATIC    all wheel drive              4.0   \n",
      "11911               6.0         AUTOMATIC    all wheel drive              4.0   \n",
      "11912               6.0         AUTOMATIC    all wheel drive              4.0   \n",
      "11913               6.0         AUTOMATIC  front wheel drive              4.0   \n",
      "\n",
      "                             Market Category Vehicle Size  Vehicle Style  \\\n",
      "0      Factory Tuner,Luxury,High-Performance      Compact          Coupe   \n",
      "1                         Luxury,Performance      Compact    Convertible   \n",
      "2                    Luxury,High-Performance      Compact          Coupe   \n",
      "3                         Luxury,Performance      Compact          Coupe   \n",
      "4                                     Luxury      Compact    Convertible   \n",
      "...                                      ...          ...            ...   \n",
      "11909             Crossover,Hatchback,Luxury      Midsize  4dr Hatchback   \n",
      "11910             Crossover,Hatchback,Luxury      Midsize  4dr Hatchback   \n",
      "11911             Crossover,Hatchback,Luxury      Midsize  4dr Hatchback   \n",
      "11912             Crossover,Hatchback,Luxury      Midsize  4dr Hatchback   \n",
      "11913                                 Luxury      Midsize          Sedan   \n",
      "\n",
      "       highway MPG  city mpg  Popularity   MSRP  \n",
      "0               26        19        3916  46135  \n",
      "1               28        19        3916  40650  \n",
      "2               28        20        3916  36350  \n",
      "3               28        18        3916  29450  \n",
      "4               28        18        3916  34500  \n",
      "...            ...       ...         ...    ...  \n",
      "11909           23        16         204  46120  \n",
      "11910           23        16         204  56670  \n",
      "11911           23        16         204  50620  \n",
      "11912           23        16         204  50920  \n",
      "11913           26        17          61  28995  \n",
      "\n",
      "[11914 rows x 16 columns]\n"
     ]
    }
   ],
   "source": [
    "df = pd.read_csv('https://raw.githubusercontent.com/alexeygrigorev/mlbookcamp-code/master/chapter-02-car-price/data.csv')\n",
    "print(df.head())\n",
    "print(df)"
   ]
  },
  {
   "cell_type": "markdown",
   "metadata": {},
   "source": [
    "## Q3 : What's the average price of BMW cars in the dataset?"
   ]
  },
  {
   "cell_type": "code",
   "execution_count": 3,
   "metadata": {},
   "outputs": [
    {
     "name": "stdout",
     "output_type": "stream",
     "text": [
      "Average price of the BMW: 61546.76347305389\n"
     ]
    }
   ],
   "source": [
    "df_BMW = df[df['Make'] == 'BMW']\n",
    "print('Average price of the BMW:', df_BMW['MSRP'].mean())"
   ]
  },
  {
   "cell_type": "markdown",
   "metadata": {},
   "source": [
    "## Q4 : Select a subset of cars after year 2015. How many of them have missing values for Engine HP?"
   ]
  },
  {
   "cell_type": "code",
   "execution_count": 4,
   "metadata": {},
   "outputs": [
    {
     "name": "stdout",
     "output_type": "stream",
     "text": [
      "51\n"
     ]
    }
   ],
   "source": [
    "df_2015 = df[df['Year'] >= 2015]\n",
    "print(df_2015['Engine HP'].isnull().sum())"
   ]
  },
  {
   "cell_type": "markdown",
   "metadata": {},
   "source": [
    "## Q5 : Calculate the average \"Engine HP\" in the dataset.\n",
    "##     Use the fillna method and to fill the missing values in \"Engine HP\" with the mean value from the previous step.\n",
    "##     Now, calcualte the average of \"Engine HP\" again.\n",
    "##     Has it changed?"
   ]
  },
  {
   "cell_type": "code",
   "execution_count": 5,
   "metadata": {},
   "outputs": [
    {
     "name": "stdout",
     "output_type": "stream",
     "text": [
      "Engine HP with fillna values: 249.39\n",
      "Engine HP without fillna values: 249.39\n"
     ]
    }
   ],
   "source": [
    "mean_hp_before = df['Engine HP'].mean()\n",
    "print('Engine HP with fillna values:', round(mean_hp_before, 2))\n",
    "\n",
    "df['Engine HP fillna'] = df['Engine HP'].fillna(df['Engine HP'].mean())\n",
    "mean_hp_after = df['Engine HP fillna'].mean()\n",
    "print('Engine HP without fillna values:', round(mean_hp_after, 2))"
   ]
  },
  {
   "cell_type": "markdown",
   "metadata": {},
   "source": [
    "##  Q6 : Select all the \"Rolls-Royce\" cars from the dataset.\n",
    "#     Select only columns \"Engine HP\", \"Engine Cylinders\", \"highway MPG\".\n",
    "#     Now drop all duplicated rows using drop_duplicates method (you should get a dataframe with 7 rows).\n",
    "#     Get the underlying NumPy array. Let's call it X.\n",
    "#     Compute matrix-matrix multiplication between the transpose of X and X. To get the transpose, use X.T. Let's call the result XTX.\n",
    "#     Invert XTX.\n",
    "#     What's the sum of all the elements of the result?"
   ]
  },
  {
   "cell_type": "code",
   "execution_count": 6,
   "metadata": {},
   "outputs": [
    {
     "name": "stdout",
     "output_type": "stream",
     "text": [
      "[[325.   8.  15.]\n",
      " [563.  12.  19.]\n",
      " [563.  12.  21.]\n",
      " [563.  12.  20.]\n",
      " [322.  12.  15.]\n",
      " [453.  12.  19.]\n",
      " [624.  12.  21.]]\n",
      "(7, 3)\n",
      "[[1.754801e+06 3.965600e+04 6.519600e+04]\n",
      " [3.965600e+04 9.280000e+02 1.500000e+03]\n",
      " [6.519600e+04 1.500000e+03 2.454000e+03]]\n",
      "0.032212320677486125\n"
     ]
    }
   ],
   "source": [
    "X = np.array(df[df.Make == \"Rolls-Royce\"][[\"Engine HP\", \"Engine Cylinders\", \"highway MPG\"]].drop_duplicates())\n",
    "print(X)\n",
    "print(X.shape)\n",
    "\n",
    "XTX = X.T.dot(X)\n",
    "print(XTX)\n",
    "\n",
    "XTX_invert = np.linalg.inv(XTX)\n",
    "print(XTX_invert.sum())"
   ]
  },
  {
   "cell_type": "markdown",
   "metadata": {},
   "source": [
    "## Q7 : Create an array y with values [1000, 1100, 900, 1200, 1000, 850, 1300].\n",
    "##     Multiply the inverse of XTX with the transpose of X, and then multiply the result by y. Call the result w.\n",
    "##     What's the value of the first element of w?."
   ]
  },
  {
   "cell_type": "code",
   "execution_count": 7,
   "metadata": {},
   "outputs": [
    {
     "name": "stdout",
     "output_type": "stream",
     "text": [
      "0.19989598183189017\n"
     ]
    }
   ],
   "source": [
    "y = np.array([1000, 1100, 900, 1200, 1000, 850, 1300])\n",
    "w = (XTX_invert.dot(X.T)).dot(y)\n",
    "print(w[0])"
   ]
  }
 ],
 "metadata": {
  "kernelspec": {
   "display_name": "Python 3",
   "language": "python",
   "name": "python3"
  },
  "language_info": {
   "codemirror_mode": {
    "name": "ipython",
    "version": 3
   },
   "file_extension": ".py",
   "mimetype": "text/x-python",
   "name": "python",
   "nbconvert_exporter": "python",
   "pygments_lexer": "ipython3",
   "version": "3.7.6"
  }
 },
 "nbformat": 4,
 "nbformat_minor": 4
}
