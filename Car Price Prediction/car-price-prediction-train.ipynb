{
 "cells": [
  {
   "cell_type": "markdown",
   "id": "a8514d9d",
   "metadata": {
    "_cell_guid": "b1076dfc-b9ad-4769-8c92-a6c4dae69d19",
    "_uuid": "8f2839f25d086af736a60e9eeb907d3b93b6e0e5",
    "papermill": {
     "duration": 0.038529,
     "end_time": "2021-09-19T16:41:31.702167",
     "exception": false,
     "start_time": "2021-09-19T16:41:31.663638",
     "status": "completed"
    },
    "tags": []
   },
   "source": [
    "## Content in this Notebook\n",
    "## Notebook is a part of FREE ML course by Glexey Grigorev. [Link for the Course](https://github.com/alexeygrigorev/mlbookcamp-code/tree/master/course-zoomcamp/02-regression)"
   ]
  },
  {
   "cell_type": "markdown",
   "id": "619ad6a5",
   "metadata": {
    "papermill": {
     "duration": 0.037388,
     "end_time": "2021-09-19T16:41:31.779087",
     "exception": false,
     "start_time": "2021-09-19T16:41:31.741699",
     "status": "completed"
    },
    "tags": []
   },
   "source": [
    "## 1. Introduction\n",
    "Cars dataset with features including make, model, year, engine, and other properties of the car used to predict its price."
   ]
  },
  {
   "cell_type": "markdown",
   "id": "2eeb7d37",
   "metadata": {
    "papermill": {
     "duration": 0.037411,
     "end_time": "2021-09-19T16:41:31.854730",
     "exception": false,
     "start_time": "2021-09-19T16:41:31.817319",
     "status": "completed"
    },
    "tags": []
   },
   "source": [
    "## 2. Importing Libraries"
   ]
  },
  {
   "cell_type": "code",
   "execution_count": 1,
   "id": "2bfd867f",
   "metadata": {
    "execution": {
     "iopub.execute_input": "2021-09-19T16:41:31.935225Z",
     "iopub.status.busy": "2021-09-19T16:41:31.933938Z",
     "iopub.status.idle": "2021-09-19T16:41:32.746303Z",
     "shell.execute_reply": "2021-09-19T16:41:32.744888Z",
     "shell.execute_reply.started": "2021-09-19T16:12:02.64427Z"
    },
    "papermill": {
     "duration": 0.853468,
     "end_time": "2021-09-19T16:41:32.746506",
     "exception": false,
     "start_time": "2021-09-19T16:41:31.893038",
     "status": "completed"
    },
    "tags": []
   },
   "outputs": [],
   "source": [
    "import pandas as pd\n",
    "import numpy as np\n",
    "import matplotlib.pyplot as plt\n",
    "import seaborn as sns"
   ]
  },
  {
   "cell_type": "markdown",
   "id": "e39806e7",
   "metadata": {
    "papermill": {
     "duration": 0.037573,
     "end_time": "2021-09-19T16:41:32.822128",
     "exception": false,
     "start_time": "2021-09-19T16:41:32.784555",
     "status": "completed"
    },
    "tags": []
   },
   "source": [
    "## 3. Loading and Reading Data"
   ]
  },
  {
   "cell_type": "code",
   "execution_count": 2,
   "id": "e61c69ea",
   "metadata": {
    "execution": {
     "iopub.execute_input": "2021-09-19T16:41:32.903900Z",
     "iopub.status.busy": "2021-09-19T16:41:32.903274Z",
     "iopub.status.idle": "2021-09-19T16:41:32.987812Z",
     "shell.execute_reply": "2021-09-19T16:41:32.988297Z",
     "shell.execute_reply.started": "2021-09-19T16:14:03.560101Z"
    },
    "papermill": {
     "duration": 0.128451,
     "end_time": "2021-09-19T16:41:32.988459",
     "exception": false,
     "start_time": "2021-09-19T16:41:32.860008",
     "status": "completed"
    },
    "tags": []
   },
   "outputs": [
    {
     "data": {
      "text/html": [
       "<div>\n",
       "<style scoped>\n",
       "    .dataframe tbody tr th:only-of-type {\n",
       "        vertical-align: middle;\n",
       "    }\n",
       "\n",
       "    .dataframe tbody tr th {\n",
       "        vertical-align: top;\n",
       "    }\n",
       "\n",
       "    .dataframe thead th {\n",
       "        text-align: right;\n",
       "    }\n",
       "</style>\n",
       "<table border=\"1\" class=\"dataframe\">\n",
       "  <thead>\n",
       "    <tr style=\"text-align: right;\">\n",
       "      <th></th>\n",
       "      <th>Make</th>\n",
       "      <th>Model</th>\n",
       "      <th>Year</th>\n",
       "      <th>Engine Fuel Type</th>\n",
       "      <th>Engine HP</th>\n",
       "      <th>Engine Cylinders</th>\n",
       "      <th>Transmission Type</th>\n",
       "      <th>Driven_Wheels</th>\n",
       "      <th>Number of Doors</th>\n",
       "      <th>Market Category</th>\n",
       "      <th>Vehicle Size</th>\n",
       "      <th>Vehicle Style</th>\n",
       "      <th>highway MPG</th>\n",
       "      <th>city mpg</th>\n",
       "      <th>Popularity</th>\n",
       "      <th>MSRP</th>\n",
       "    </tr>\n",
       "  </thead>\n",
       "  <tbody>\n",
       "    <tr>\n",
       "      <th>0</th>\n",
       "      <td>BMW</td>\n",
       "      <td>1 Series M</td>\n",
       "      <td>2011</td>\n",
       "      <td>premium unleaded (required)</td>\n",
       "      <td>335.0</td>\n",
       "      <td>6.0</td>\n",
       "      <td>MANUAL</td>\n",
       "      <td>rear wheel drive</td>\n",
       "      <td>2.0</td>\n",
       "      <td>Factory Tuner,Luxury,High-Performance</td>\n",
       "      <td>Compact</td>\n",
       "      <td>Coupe</td>\n",
       "      <td>26</td>\n",
       "      <td>19</td>\n",
       "      <td>3916</td>\n",
       "      <td>46135</td>\n",
       "    </tr>\n",
       "    <tr>\n",
       "      <th>1</th>\n",
       "      <td>BMW</td>\n",
       "      <td>1 Series</td>\n",
       "      <td>2011</td>\n",
       "      <td>premium unleaded (required)</td>\n",
       "      <td>300.0</td>\n",
       "      <td>6.0</td>\n",
       "      <td>MANUAL</td>\n",
       "      <td>rear wheel drive</td>\n",
       "      <td>2.0</td>\n",
       "      <td>Luxury,Performance</td>\n",
       "      <td>Compact</td>\n",
       "      <td>Convertible</td>\n",
       "      <td>28</td>\n",
       "      <td>19</td>\n",
       "      <td>3916</td>\n",
       "      <td>40650</td>\n",
       "    </tr>\n",
       "    <tr>\n",
       "      <th>2</th>\n",
       "      <td>BMW</td>\n",
       "      <td>1 Series</td>\n",
       "      <td>2011</td>\n",
       "      <td>premium unleaded (required)</td>\n",
       "      <td>300.0</td>\n",
       "      <td>6.0</td>\n",
       "      <td>MANUAL</td>\n",
       "      <td>rear wheel drive</td>\n",
       "      <td>2.0</td>\n",
       "      <td>Luxury,High-Performance</td>\n",
       "      <td>Compact</td>\n",
       "      <td>Coupe</td>\n",
       "      <td>28</td>\n",
       "      <td>20</td>\n",
       "      <td>3916</td>\n",
       "      <td>36350</td>\n",
       "    </tr>\n",
       "    <tr>\n",
       "      <th>3</th>\n",
       "      <td>BMW</td>\n",
       "      <td>1 Series</td>\n",
       "      <td>2011</td>\n",
       "      <td>premium unleaded (required)</td>\n",
       "      <td>230.0</td>\n",
       "      <td>6.0</td>\n",
       "      <td>MANUAL</td>\n",
       "      <td>rear wheel drive</td>\n",
       "      <td>2.0</td>\n",
       "      <td>Luxury,Performance</td>\n",
       "      <td>Compact</td>\n",
       "      <td>Coupe</td>\n",
       "      <td>28</td>\n",
       "      <td>18</td>\n",
       "      <td>3916</td>\n",
       "      <td>29450</td>\n",
       "    </tr>\n",
       "    <tr>\n",
       "      <th>4</th>\n",
       "      <td>BMW</td>\n",
       "      <td>1 Series</td>\n",
       "      <td>2011</td>\n",
       "      <td>premium unleaded (required)</td>\n",
       "      <td>230.0</td>\n",
       "      <td>6.0</td>\n",
       "      <td>MANUAL</td>\n",
       "      <td>rear wheel drive</td>\n",
       "      <td>2.0</td>\n",
       "      <td>Luxury</td>\n",
       "      <td>Compact</td>\n",
       "      <td>Convertible</td>\n",
       "      <td>28</td>\n",
       "      <td>18</td>\n",
       "      <td>3916</td>\n",
       "      <td>34500</td>\n",
       "    </tr>\n",
       "  </tbody>\n",
       "</table>\n",
       "</div>"
      ],
      "text/plain": [
       "  Make       Model  Year             Engine Fuel Type  Engine HP  \\\n",
       "0  BMW  1 Series M  2011  premium unleaded (required)      335.0   \n",
       "1  BMW    1 Series  2011  premium unleaded (required)      300.0   \n",
       "2  BMW    1 Series  2011  premium unleaded (required)      300.0   \n",
       "3  BMW    1 Series  2011  premium unleaded (required)      230.0   \n",
       "4  BMW    1 Series  2011  premium unleaded (required)      230.0   \n",
       "\n",
       "   Engine Cylinders Transmission Type     Driven_Wheels  Number of Doors  \\\n",
       "0               6.0            MANUAL  rear wheel drive              2.0   \n",
       "1               6.0            MANUAL  rear wheel drive              2.0   \n",
       "2               6.0            MANUAL  rear wheel drive              2.0   \n",
       "3               6.0            MANUAL  rear wheel drive              2.0   \n",
       "4               6.0            MANUAL  rear wheel drive              2.0   \n",
       "\n",
       "                         Market Category Vehicle Size Vehicle Style  \\\n",
       "0  Factory Tuner,Luxury,High-Performance      Compact         Coupe   \n",
       "1                     Luxury,Performance      Compact   Convertible   \n",
       "2                Luxury,High-Performance      Compact         Coupe   \n",
       "3                     Luxury,Performance      Compact         Coupe   \n",
       "4                                 Luxury      Compact   Convertible   \n",
       "\n",
       "   highway MPG  city mpg  Popularity   MSRP  \n",
       "0           26        19        3916  46135  \n",
       "1           28        19        3916  40650  \n",
       "2           28        20        3916  36350  \n",
       "3           28        18        3916  29450  \n",
       "4           28        18        3916  34500  "
      ]
     },
     "execution_count": 2,
     "metadata": {},
     "output_type": "execute_result"
    }
   ],
   "source": [
    "df = pd.read_csv('../input/car-price-prediction/data.csv')\n",
    "df.head()"
   ]
  },
  {
   "cell_type": "markdown",
   "id": "eb36a1dd",
   "metadata": {
    "papermill": {
     "duration": 0.037681,
     "end_time": "2021-09-19T16:41:33.064267",
     "exception": false,
     "start_time": "2021-09-19T16:41:33.026586",
     "status": "completed"
    },
    "tags": []
   },
   "source": [
    "## 4. Data Cleaning: Cleaning Strings in Column and values"
   ]
  },
  {
   "cell_type": "code",
   "execution_count": 3,
   "id": "d5349437",
   "metadata": {
    "execution": {
     "iopub.execute_input": "2021-09-19T16:41:33.162698Z",
     "iopub.status.busy": "2021-09-19T16:41:33.161807Z",
     "iopub.status.idle": "2021-09-19T16:41:33.165956Z",
     "shell.execute_reply": "2021-09-19T16:41:33.165384Z",
     "shell.execute_reply.started": "2021-09-19T16:14:38.271526Z"
    },
    "papermill": {
     "duration": 0.063867,
     "end_time": "2021-09-19T16:41:33.166095",
     "exception": false,
     "start_time": "2021-09-19T16:41:33.102228",
     "status": "completed"
    },
    "tags": []
   },
   "outputs": [
    {
     "data": {
      "text/html": [
       "<div>\n",
       "<style scoped>\n",
       "    .dataframe tbody tr th:only-of-type {\n",
       "        vertical-align: middle;\n",
       "    }\n",
       "\n",
       "    .dataframe tbody tr th {\n",
       "        vertical-align: top;\n",
       "    }\n",
       "\n",
       "    .dataframe thead th {\n",
       "        text-align: right;\n",
       "    }\n",
       "</style>\n",
       "<table border=\"1\" class=\"dataframe\">\n",
       "  <thead>\n",
       "    <tr style=\"text-align: right;\">\n",
       "      <th></th>\n",
       "      <th>make</th>\n",
       "      <th>model</th>\n",
       "      <th>year</th>\n",
       "      <th>engine_fuel_type</th>\n",
       "      <th>engine_hp</th>\n",
       "      <th>engine_cylinders</th>\n",
       "      <th>transmission_type</th>\n",
       "      <th>driven_wheels</th>\n",
       "      <th>number_of_doors</th>\n",
       "      <th>market_category</th>\n",
       "      <th>vehicle_size</th>\n",
       "      <th>vehicle_style</th>\n",
       "      <th>highway_mpg</th>\n",
       "      <th>city_mpg</th>\n",
       "      <th>popularity</th>\n",
       "      <th>msrp</th>\n",
       "    </tr>\n",
       "  </thead>\n",
       "  <tbody>\n",
       "    <tr>\n",
       "      <th>0</th>\n",
       "      <td>BMW</td>\n",
       "      <td>1 Series M</td>\n",
       "      <td>2011</td>\n",
       "      <td>premium unleaded (required)</td>\n",
       "      <td>335.0</td>\n",
       "      <td>6.0</td>\n",
       "      <td>MANUAL</td>\n",
       "      <td>rear wheel drive</td>\n",
       "      <td>2.0</td>\n",
       "      <td>Factory Tuner,Luxury,High-Performance</td>\n",
       "      <td>Compact</td>\n",
       "      <td>Coupe</td>\n",
       "      <td>26</td>\n",
       "      <td>19</td>\n",
       "      <td>3916</td>\n",
       "      <td>46135</td>\n",
       "    </tr>\n",
       "    <tr>\n",
       "      <th>1</th>\n",
       "      <td>BMW</td>\n",
       "      <td>1 Series</td>\n",
       "      <td>2011</td>\n",
       "      <td>premium unleaded (required)</td>\n",
       "      <td>300.0</td>\n",
       "      <td>6.0</td>\n",
       "      <td>MANUAL</td>\n",
       "      <td>rear wheel drive</td>\n",
       "      <td>2.0</td>\n",
       "      <td>Luxury,Performance</td>\n",
       "      <td>Compact</td>\n",
       "      <td>Convertible</td>\n",
       "      <td>28</td>\n",
       "      <td>19</td>\n",
       "      <td>3916</td>\n",
       "      <td>40650</td>\n",
       "    </tr>\n",
       "    <tr>\n",
       "      <th>2</th>\n",
       "      <td>BMW</td>\n",
       "      <td>1 Series</td>\n",
       "      <td>2011</td>\n",
       "      <td>premium unleaded (required)</td>\n",
       "      <td>300.0</td>\n",
       "      <td>6.0</td>\n",
       "      <td>MANUAL</td>\n",
       "      <td>rear wheel drive</td>\n",
       "      <td>2.0</td>\n",
       "      <td>Luxury,High-Performance</td>\n",
       "      <td>Compact</td>\n",
       "      <td>Coupe</td>\n",
       "      <td>28</td>\n",
       "      <td>20</td>\n",
       "      <td>3916</td>\n",
       "      <td>36350</td>\n",
       "    </tr>\n",
       "    <tr>\n",
       "      <th>3</th>\n",
       "      <td>BMW</td>\n",
       "      <td>1 Series</td>\n",
       "      <td>2011</td>\n",
       "      <td>premium unleaded (required)</td>\n",
       "      <td>230.0</td>\n",
       "      <td>6.0</td>\n",
       "      <td>MANUAL</td>\n",
       "      <td>rear wheel drive</td>\n",
       "      <td>2.0</td>\n",
       "      <td>Luxury,Performance</td>\n",
       "      <td>Compact</td>\n",
       "      <td>Coupe</td>\n",
       "      <td>28</td>\n",
       "      <td>18</td>\n",
       "      <td>3916</td>\n",
       "      <td>29450</td>\n",
       "    </tr>\n",
       "    <tr>\n",
       "      <th>4</th>\n",
       "      <td>BMW</td>\n",
       "      <td>1 Series</td>\n",
       "      <td>2011</td>\n",
       "      <td>premium unleaded (required)</td>\n",
       "      <td>230.0</td>\n",
       "      <td>6.0</td>\n",
       "      <td>MANUAL</td>\n",
       "      <td>rear wheel drive</td>\n",
       "      <td>2.0</td>\n",
       "      <td>Luxury</td>\n",
       "      <td>Compact</td>\n",
       "      <td>Convertible</td>\n",
       "      <td>28</td>\n",
       "      <td>18</td>\n",
       "      <td>3916</td>\n",
       "      <td>34500</td>\n",
       "    </tr>\n",
       "  </tbody>\n",
       "</table>\n",
       "</div>"
      ],
      "text/plain": [
       "  make       model  year             engine_fuel_type  engine_hp  \\\n",
       "0  BMW  1 Series M  2011  premium unleaded (required)      335.0   \n",
       "1  BMW    1 Series  2011  premium unleaded (required)      300.0   \n",
       "2  BMW    1 Series  2011  premium unleaded (required)      300.0   \n",
       "3  BMW    1 Series  2011  premium unleaded (required)      230.0   \n",
       "4  BMW    1 Series  2011  premium unleaded (required)      230.0   \n",
       "\n",
       "   engine_cylinders transmission_type     driven_wheels  number_of_doors  \\\n",
       "0               6.0            MANUAL  rear wheel drive              2.0   \n",
       "1               6.0            MANUAL  rear wheel drive              2.0   \n",
       "2               6.0            MANUAL  rear wheel drive              2.0   \n",
       "3               6.0            MANUAL  rear wheel drive              2.0   \n",
       "4               6.0            MANUAL  rear wheel drive              2.0   \n",
       "\n",
       "                         market_category vehicle_size vehicle_style  \\\n",
       "0  Factory Tuner,Luxury,High-Performance      Compact         Coupe   \n",
       "1                     Luxury,Performance      Compact   Convertible   \n",
       "2                Luxury,High-Performance      Compact         Coupe   \n",
       "3                     Luxury,Performance      Compact         Coupe   \n",
       "4                                 Luxury      Compact   Convertible   \n",
       "\n",
       "   highway_mpg  city_mpg  popularity   msrp  \n",
       "0           26        19        3916  46135  \n",
       "1           28        19        3916  40650  \n",
       "2           28        20        3916  36350  \n",
       "3           28        18        3916  29450  \n",
       "4           28        18        3916  34500  "
      ]
     },
     "execution_count": 3,
     "metadata": {},
     "output_type": "execute_result"
    }
   ],
   "source": [
    "df.columns = df.columns.str.lower().str.replace(\" \", \"_\")\n",
    "df.head()"
   ]
  },
  {
   "cell_type": "markdown",
   "id": "d1a1c6f2",
   "metadata": {
    "papermill": {
     "duration": 0.038231,
     "end_time": "2021-09-19T16:41:33.243058",
     "exception": false,
     "start_time": "2021-09-19T16:41:33.204827",
     "status": "completed"
    },
    "tags": []
   },
   "source": [
    "### Making List of Categorical Columns"
   ]
  },
  {
   "cell_type": "code",
   "execution_count": 4,
   "id": "fb2fa4eb",
   "metadata": {
    "execution": {
     "iopub.execute_input": "2021-09-19T16:41:33.326806Z",
     "iopub.status.busy": "2021-09-19T16:41:33.325934Z",
     "iopub.status.idle": "2021-09-19T16:41:33.330086Z",
     "shell.execute_reply": "2021-09-19T16:41:33.329488Z",
     "shell.execute_reply.started": "2021-09-19T16:16:24.982768Z"
    },
    "papermill": {
     "duration": 0.048798,
     "end_time": "2021-09-19T16:41:33.330257",
     "exception": false,
     "start_time": "2021-09-19T16:41:33.281459",
     "status": "completed"
    },
    "tags": []
   },
   "outputs": [
    {
     "data": {
      "text/plain": [
       "['make',\n",
       " 'model',\n",
       " 'engine_fuel_type',\n",
       " 'transmission_type',\n",
       " 'driven_wheels',\n",
       " 'market_category',\n",
       " 'vehicle_size',\n",
       " 'vehicle_style']"
      ]
     },
     "execution_count": 4,
     "metadata": {},
     "output_type": "execute_result"
    }
   ],
   "source": [
    "strings = list(df.dtypes[df.dtypes == 'object'].index)\n",
    "strings"
   ]
  },
  {
   "cell_type": "markdown",
   "id": "7c67f172",
   "metadata": {
    "papermill": {
     "duration": 0.038858,
     "end_time": "2021-09-19T16:41:33.407706",
     "exception": false,
     "start_time": "2021-09-19T16:41:33.368848",
     "status": "completed"
    },
    "tags": []
   },
   "source": [
    "### Cleaning Categorical Data in our data set"
   ]
  },
  {
   "cell_type": "code",
   "execution_count": 5,
   "id": "69b44c47",
   "metadata": {
    "execution": {
     "iopub.execute_input": "2021-09-19T16:41:33.495260Z",
     "iopub.status.busy": "2021-09-19T16:41:33.494339Z",
     "iopub.status.idle": "2021-09-19T16:41:33.634377Z",
     "shell.execute_reply": "2021-09-19T16:41:33.633836Z",
     "shell.execute_reply.started": "2021-09-19T16:17:01.289629Z"
    },
    "papermill": {
     "duration": 0.187859,
     "end_time": "2021-09-19T16:41:33.634538",
     "exception": false,
     "start_time": "2021-09-19T16:41:33.446679",
     "status": "completed"
    },
    "tags": []
   },
   "outputs": [
    {
     "data": {
      "text/html": [
       "<div>\n",
       "<style scoped>\n",
       "    .dataframe tbody tr th:only-of-type {\n",
       "        vertical-align: middle;\n",
       "    }\n",
       "\n",
       "    .dataframe tbody tr th {\n",
       "        vertical-align: top;\n",
       "    }\n",
       "\n",
       "    .dataframe thead th {\n",
       "        text-align: right;\n",
       "    }\n",
       "</style>\n",
       "<table border=\"1\" class=\"dataframe\">\n",
       "  <thead>\n",
       "    <tr style=\"text-align: right;\">\n",
       "      <th></th>\n",
       "      <th>make</th>\n",
       "      <th>model</th>\n",
       "      <th>year</th>\n",
       "      <th>engine_fuel_type</th>\n",
       "      <th>engine_hp</th>\n",
       "      <th>engine_cylinders</th>\n",
       "      <th>transmission_type</th>\n",
       "      <th>driven_wheels</th>\n",
       "      <th>number_of_doors</th>\n",
       "      <th>market_category</th>\n",
       "      <th>vehicle_size</th>\n",
       "      <th>vehicle_style</th>\n",
       "      <th>highway_mpg</th>\n",
       "      <th>city_mpg</th>\n",
       "      <th>popularity</th>\n",
       "      <th>msrp</th>\n",
       "    </tr>\n",
       "  </thead>\n",
       "  <tbody>\n",
       "    <tr>\n",
       "      <th>0</th>\n",
       "      <td>bmw</td>\n",
       "      <td>1_series_m</td>\n",
       "      <td>2011</td>\n",
       "      <td>premium_unleaded_(required)</td>\n",
       "      <td>335.0</td>\n",
       "      <td>6.0</td>\n",
       "      <td>manual</td>\n",
       "      <td>rear_wheel_drive</td>\n",
       "      <td>2.0</td>\n",
       "      <td>factory_tuner,luxury,high-performance</td>\n",
       "      <td>compact</td>\n",
       "      <td>coupe</td>\n",
       "      <td>26</td>\n",
       "      <td>19</td>\n",
       "      <td>3916</td>\n",
       "      <td>46135</td>\n",
       "    </tr>\n",
       "    <tr>\n",
       "      <th>1</th>\n",
       "      <td>bmw</td>\n",
       "      <td>1_series</td>\n",
       "      <td>2011</td>\n",
       "      <td>premium_unleaded_(required)</td>\n",
       "      <td>300.0</td>\n",
       "      <td>6.0</td>\n",
       "      <td>manual</td>\n",
       "      <td>rear_wheel_drive</td>\n",
       "      <td>2.0</td>\n",
       "      <td>luxury,performance</td>\n",
       "      <td>compact</td>\n",
       "      <td>convertible</td>\n",
       "      <td>28</td>\n",
       "      <td>19</td>\n",
       "      <td>3916</td>\n",
       "      <td>40650</td>\n",
       "    </tr>\n",
       "    <tr>\n",
       "      <th>2</th>\n",
       "      <td>bmw</td>\n",
       "      <td>1_series</td>\n",
       "      <td>2011</td>\n",
       "      <td>premium_unleaded_(required)</td>\n",
       "      <td>300.0</td>\n",
       "      <td>6.0</td>\n",
       "      <td>manual</td>\n",
       "      <td>rear_wheel_drive</td>\n",
       "      <td>2.0</td>\n",
       "      <td>luxury,high-performance</td>\n",
       "      <td>compact</td>\n",
       "      <td>coupe</td>\n",
       "      <td>28</td>\n",
       "      <td>20</td>\n",
       "      <td>3916</td>\n",
       "      <td>36350</td>\n",
       "    </tr>\n",
       "    <tr>\n",
       "      <th>3</th>\n",
       "      <td>bmw</td>\n",
       "      <td>1_series</td>\n",
       "      <td>2011</td>\n",
       "      <td>premium_unleaded_(required)</td>\n",
       "      <td>230.0</td>\n",
       "      <td>6.0</td>\n",
       "      <td>manual</td>\n",
       "      <td>rear_wheel_drive</td>\n",
       "      <td>2.0</td>\n",
       "      <td>luxury,performance</td>\n",
       "      <td>compact</td>\n",
       "      <td>coupe</td>\n",
       "      <td>28</td>\n",
       "      <td>18</td>\n",
       "      <td>3916</td>\n",
       "      <td>29450</td>\n",
       "    </tr>\n",
       "    <tr>\n",
       "      <th>4</th>\n",
       "      <td>bmw</td>\n",
       "      <td>1_series</td>\n",
       "      <td>2011</td>\n",
       "      <td>premium_unleaded_(required)</td>\n",
       "      <td>230.0</td>\n",
       "      <td>6.0</td>\n",
       "      <td>manual</td>\n",
       "      <td>rear_wheel_drive</td>\n",
       "      <td>2.0</td>\n",
       "      <td>luxury</td>\n",
       "      <td>compact</td>\n",
       "      <td>convertible</td>\n",
       "      <td>28</td>\n",
       "      <td>18</td>\n",
       "      <td>3916</td>\n",
       "      <td>34500</td>\n",
       "    </tr>\n",
       "  </tbody>\n",
       "</table>\n",
       "</div>"
      ],
      "text/plain": [
       "  make       model  year             engine_fuel_type  engine_hp  \\\n",
       "0  bmw  1_series_m  2011  premium_unleaded_(required)      335.0   \n",
       "1  bmw    1_series  2011  premium_unleaded_(required)      300.0   \n",
       "2  bmw    1_series  2011  premium_unleaded_(required)      300.0   \n",
       "3  bmw    1_series  2011  premium_unleaded_(required)      230.0   \n",
       "4  bmw    1_series  2011  premium_unleaded_(required)      230.0   \n",
       "\n",
       "   engine_cylinders transmission_type     driven_wheels  number_of_doors  \\\n",
       "0               6.0            manual  rear_wheel_drive              2.0   \n",
       "1               6.0            manual  rear_wheel_drive              2.0   \n",
       "2               6.0            manual  rear_wheel_drive              2.0   \n",
       "3               6.0            manual  rear_wheel_drive              2.0   \n",
       "4               6.0            manual  rear_wheel_drive              2.0   \n",
       "\n",
       "                         market_category vehicle_size vehicle_style  \\\n",
       "0  factory_tuner,luxury,high-performance      compact         coupe   \n",
       "1                     luxury,performance      compact   convertible   \n",
       "2                luxury,high-performance      compact         coupe   \n",
       "3                     luxury,performance      compact         coupe   \n",
       "4                                 luxury      compact   convertible   \n",
       "\n",
       "   highway_mpg  city_mpg  popularity   msrp  \n",
       "0           26        19        3916  46135  \n",
       "1           28        19        3916  40650  \n",
       "2           28        20        3916  36350  \n",
       "3           28        18        3916  29450  \n",
       "4           28        18        3916  34500  "
      ]
     },
     "execution_count": 5,
     "metadata": {},
     "output_type": "execute_result"
    }
   ],
   "source": [
    "for col in strings:\n",
    "    df[col] = df[col].str.lower().str.replace(\" \", \"_\")\n",
    "    \n",
    "df.head()"
   ]
  },
  {
   "cell_type": "markdown",
   "id": "550e608a",
   "metadata": {
    "papermill": {
     "duration": 0.039668,
     "end_time": "2021-09-19T16:41:33.713532",
     "exception": false,
     "start_time": "2021-09-19T16:41:33.673864",
     "status": "completed"
    },
    "tags": []
   },
   "source": [
    "## 5. Exploratory Data Analysis"
   ]
  },
  {
   "cell_type": "markdown",
   "id": "fce8e2b5",
   "metadata": {
    "execution": {
     "iopub.execute_input": "2021-09-19T16:17:53.535279Z",
     "iopub.status.busy": "2021-09-19T16:17:53.53456Z",
     "iopub.status.idle": "2021-09-19T16:17:53.580362Z",
     "shell.execute_reply": "2021-09-19T16:17:53.5793Z",
     "shell.execute_reply.started": "2021-09-19T16:17:53.535233Z"
    },
    "papermill": {
     "duration": 0.039171,
     "end_time": "2021-09-19T16:41:33.792572",
     "exception": false,
     "start_time": "2021-09-19T16:41:33.753401",
     "status": "completed"
    },
    "tags": []
   },
   "source": [
    "for col in df.columns:\n",
    "    print(col)\n",
    "    print(df[col].unique()[:5])\n",
    "    print(df[col].nunique())\n",
    "    print('\\n')"
   ]
  },
  {
   "cell_type": "markdown",
   "id": "3f5a9a92",
   "metadata": {
    "papermill": {
     "duration": 0.039544,
     "end_time": "2021-09-19T16:41:33.872104",
     "exception": false,
     "start_time": "2021-09-19T16:41:33.832560",
     "status": "completed"
    },
    "tags": []
   },
   "source": [
    "## Distribution of price\n"
   ]
  },
  {
   "cell_type": "code",
   "execution_count": 6,
   "id": "393b76ef",
   "metadata": {
    "execution": {
     "iopub.execute_input": "2021-09-19T16:41:33.966622Z",
     "iopub.status.busy": "2021-09-19T16:41:33.961307Z",
     "iopub.status.idle": "2021-09-19T16:41:34.331376Z",
     "shell.execute_reply": "2021-09-19T16:41:34.331875Z",
     "shell.execute_reply.started": "2021-09-19T16:20:28.640416Z"
    },
    "papermill": {
     "duration": 0.420684,
     "end_time": "2021-09-19T16:41:34.332038",
     "exception": false,
     "start_time": "2021-09-19T16:41:33.911354",
     "status": "completed"
    },
    "tags": []
   },
   "outputs": [
    {
     "data": {
      "text/plain": [
       "<AxesSubplot:xlabel='msrp', ylabel='Count'>"
      ]
     },
     "execution_count": 6,
     "metadata": {},
     "output_type": "execute_result"
    },
    {
     "data": {
      "image/png": "[encoded data removed]",
      "text/plain": [
       "<Figure size 432x288 with 1 Axes>"
      ]
     },
     "metadata": {
      "needs_background": "light"
     },
     "output_type": "display_data"
    }
   ],
   "source": [
    "sns.histplot(df['msrp'], bins = 50)"
   ]
  },
  {
   "cell_type": "markdown",
   "id": "1813c858",
   "metadata": {
    "papermill": {
     "duration": 0.040351,
     "end_time": "2021-09-19T16:41:34.412894",
     "exception": false,
     "start_time": "2021-09-19T16:41:34.372543",
     "status": "completed"
    },
    "tags": []
   },
   "source": [
    "## Distribution of price with msrp less than 100000"
   ]
  },
  {
   "cell_type": "code",
   "execution_count": 7,
   "id": "de9256a7",
   "metadata": {
    "execution": {
     "iopub.execute_input": "2021-09-19T16:41:34.504446Z",
     "iopub.status.busy": "2021-09-19T16:41:34.499105Z",
     "iopub.status.idle": "2021-09-19T16:41:34.838450Z",
     "shell.execute_reply": "2021-09-19T16:41:34.837515Z",
     "shell.execute_reply.started": "2021-09-19T16:21:00.997661Z"
    },
    "papermill": {
     "duration": 0.385202,
     "end_time": "2021-09-19T16:41:34.838619",
     "exception": false,
     "start_time": "2021-09-19T16:41:34.453417",
     "status": "completed"
    },
    "tags": []
   },
   "outputs": [
    {
     "data": {
      "text/plain": [
       "<AxesSubplot:xlabel='msrp', ylabel='Count'>"
      ]
     },
     "execution_count": 7,
     "metadata": {},
     "output_type": "execute_result"
    },
    {
     "data": {
      "image/png": "[encoded data removed]",
      "text/plain": [
       "<Figure size 432x288 with 1 Axes>"
      ]
     },
     "metadata": {
      "needs_background": "light"
     },
     "output_type": "display_data"
    }
   ],
   "source": [
    "sns.histplot(df['msrp'][df['msrp'] < 100000], bins = 50)"
   ]
  },
  {
   "cell_type": "markdown",
   "id": "fd77f7c7",
   "metadata": {
    "papermill": {
     "duration": 0.040964,
     "end_time": "2021-09-19T16:41:34.920888",
     "exception": false,
     "start_time": "2021-09-19T16:41:34.879924",
     "status": "completed"
    },
    "tags": []
   },
   "source": [
    "## Log(msrp +1)"
   ]
  },
  {
   "cell_type": "code",
   "execution_count": 8,
   "id": "3f3f59ac",
   "metadata": {
    "execution": {
     "iopub.execute_input": "2021-09-19T16:41:35.008660Z",
     "iopub.status.busy": "2021-09-19T16:41:35.007957Z",
     "iopub.status.idle": "2021-09-19T16:41:35.343318Z",
     "shell.execute_reply": "2021-09-19T16:41:35.342802Z",
     "shell.execute_reply.started": "2021-09-19T16:21:36.832329Z"
    },
    "papermill": {
     "duration": 0.381966,
     "end_time": "2021-09-19T16:41:35.343454",
     "exception": false,
     "start_time": "2021-09-19T16:41:34.961488",
     "status": "completed"
    },
    "tags": []
   },
   "outputs": [
    {
     "data": {
      "text/plain": [
       "<AxesSubplot:xlabel='msrp', ylabel='Count'>"
      ]
     },
     "execution_count": 8,
     "metadata": {},
     "output_type": "execute_result"
    },
    {
     "data": {
      "image/png": "[encoded data removed]",
      "text/plain": [
       "<Figure size 432x288 with 1 Axes>"
      ]
     },
     "metadata": {
      "needs_background": "light"
     },
     "output_type": "display_data"
    }
   ],
   "source": [
    "\"\"\"\n",
    "Applying log to 'msrp' column\n",
    "\"\"\"\n",
    "price_logs = np.log1p(df['msrp'])\n",
    "sns.histplot(price_logs, bins = 50)"
   ]
  },
  {
   "cell_type": "markdown",
   "id": "51618fea",
   "metadata": {
    "papermill": {
     "duration": 0.042206,
     "end_time": "2021-09-19T16:41:35.427967",
     "exception": false,
     "start_time": "2021-09-19T16:41:35.385761",
     "status": "completed"
    },
    "tags": []
   },
   "source": [
    "## 6. Missing Values"
   ]
  },
  {
   "cell_type": "code",
   "execution_count": 9,
   "id": "1a4d219e",
   "metadata": {
    "execution": {
     "iopub.execute_input": "2021-09-19T16:41:35.527870Z",
     "iopub.status.busy": "2021-09-19T16:41:35.527221Z",
     "iopub.status.idle": "2021-09-19T16:41:35.953437Z",
     "shell.execute_reply": "2021-09-19T16:41:35.953940Z",
     "shell.execute_reply.started": "2021-09-19T16:22:02.67906Z"
    },
    "papermill": {
     "duration": 0.483614,
     "end_time": "2021-09-19T16:41:35.954108",
     "exception": false,
     "start_time": "2021-09-19T16:41:35.470494",
     "status": "completed"
    },
    "tags": []
   },
   "outputs": [
    {
     "name": "stdout",
     "output_type": "stream",
     "text": [
      "make                    0\n",
      "model                   0\n",
      "year                    0\n",
      "engine_fuel_type        3\n",
      "engine_hp              69\n",
      "engine_cylinders       30\n",
      "transmission_type       0\n",
      "driven_wheels           0\n",
      "number_of_doors         6\n",
      "market_category      3742\n",
      "vehicle_size            0\n",
      "vehicle_style           0\n",
      "highway_mpg             0\n",
      "city_mpg                0\n",
      "popularity              0\n",
      "msrp                    0\n",
      "dtype: int64\n"
     ]
    },
    {
     "data": {
      "text/plain": [
       "<AxesSubplot:>"
      ]
     },
     "execution_count": 9,
     "metadata": {},
     "output_type": "execute_result"
    },
    {
     "data": {
      "image/png": "[encoded data removed]",
      "text/plain": [
       "<Figure size 432x288 with 1 Axes>"
      ]
     },
     "metadata": {
      "needs_background": "light"
     },
     "output_type": "display_data"
    }
   ],
   "source": [
    "print(df.isnull().sum())\n",
    "df.isnull().sum().plot(kind = 'bar')"
   ]
  },
  {
   "cell_type": "markdown",
   "id": "a98954b4",
   "metadata": {
    "papermill": {
     "duration": 0.044606,
     "end_time": "2021-09-19T16:41:36.043186",
     "exception": false,
     "start_time": "2021-09-19T16:41:35.998580",
     "status": "completed"
    },
    "tags": []
   },
   "source": [
    "## 7. Validation Framework: Creating Train Validation and Test Split Manually"
   ]
  },
  {
   "cell_type": "code",
   "execution_count": 10,
   "id": "a3347cf4",
   "metadata": {
    "execution": {
     "iopub.execute_input": "2021-09-19T16:41:36.134586Z",
     "iopub.status.busy": "2021-09-19T16:41:36.133908Z",
     "iopub.status.idle": "2021-09-19T16:41:36.157020Z",
     "shell.execute_reply": "2021-09-19T16:41:36.157524Z",
     "shell.execute_reply.started": "2021-09-19T16:24:25.396747Z"
    },
    "papermill": {
     "duration": 0.070315,
     "end_time": "2021-09-19T16:41:36.157686",
     "exception": false,
     "start_time": "2021-09-19T16:41:36.087371",
     "status": "completed"
    },
    "tags": []
   },
   "outputs": [
    {
     "data": {
      "text/plain": [
       "(7150, 2382, 2382)"
      ]
     },
     "execution_count": 10,
     "metadata": {},
     "output_type": "execute_result"
    }
   ],
   "source": [
    "\"\"\"\n",
    "Creating length/number of values of train, validation and test set\n",
    "\"\"\"\n",
    "n  = len(df)    \n",
    "\n",
    "n_val = int(n * 0.2)  # Creating Validation Set\n",
    "n_test = int(n * 0.2) # Creating test set\n",
    "n_train = n - n_val - n_test\n",
    "\n",
    "\"\"\"\n",
    "Setting up for randomizing the values\n",
    "\"\"\"\n",
    "idx = np.arange(n)\n",
    "np.random.seed(2)\n",
    "np.random.shuffle(idx)\n",
    "\n",
    "\n",
    "\"\"\"\n",
    "Creating data set for Train Valid and Test set.\n",
    "Also to randomize the index to avoid bias.\n",
    "\"\"\"\n",
    "\n",
    "df_train = df.iloc[idx[:n_train]]\n",
    "df_val = df.iloc[idx[n_train:n_train+n_val]]\n",
    "df_test = df.iloc[idx[n_train+n_val:]]\n",
    "\n",
    "\n",
    "\"\"\"\n",
    "Dropping the indexes from all the datasets as they are of no use now.\n",
    "\"\"\"\n",
    "\n",
    "df_train = df_train.reset_index(drop = True)\n",
    "df_val = df_val.reset_index(drop = True)\n",
    "df_test = df_test.reset_index(drop = True)\n",
    "\n",
    "\n",
    "\"\"\"\n",
    "Making dependent variables with LOG transformation for all the datasets.\n",
    "\"\"\"\n",
    "\n",
    "y_train = np.log1p(df_train['msrp'].values)\n",
    "y_val = np.log1p(df_val['msrp'].values)\n",
    "y_test = np.log1p(df_test['msrp'].values)\n",
    "\n",
    "\"\"\"\n",
    "Deleting target / dependent variables from training, validation and test sets\n",
    "\"\"\"\n",
    "del df_train['msrp']\n",
    "del df_val['msrp']\n",
    "del df_test['msrp']\n",
    "\n",
    "\"\"\"\n",
    "Finally Checking the Length of Datasets created\n",
    "\"\"\"\n",
    "len(df_train), len(df_val), len(df_test)"
   ]
  },
  {
   "cell_type": "markdown",
   "id": "647fe1e1",
   "metadata": {
    "papermill": {
     "duration": 0.043256,
     "end_time": "2021-09-19T16:41:36.244955",
     "exception": false,
     "start_time": "2021-09-19T16:41:36.201699",
     "status": "completed"
    },
    "tags": []
   },
   "source": [
    "## 8. Linear Regression"
   ]
  },
  {
   "cell_type": "code",
   "execution_count": 11,
   "id": "30b7921b",
   "metadata": {
    "execution": {
     "iopub.execute_input": "2021-09-19T16:41:36.335988Z",
     "iopub.status.busy": "2021-09-19T16:41:36.335339Z",
     "iopub.status.idle": "2021-09-19T16:41:36.343108Z",
     "shell.execute_reply": "2021-09-19T16:41:36.343579Z",
     "shell.execute_reply.started": "2021-09-19T16:25:53.80876Z"
    },
    "papermill": {
     "duration": 0.054469,
     "end_time": "2021-09-19T16:41:36.343754",
     "exception": false,
     "start_time": "2021-09-19T16:41:36.289285",
     "status": "completed"
    },
    "tags": []
   },
   "outputs": [
    {
     "data": {
      "text/plain": [
       "550"
      ]
     },
     "execution_count": 11,
     "metadata": {},
     "output_type": "execute_result"
    }
   ],
   "source": [
    "\"\"\"\n",
    "Taking values of 3 variables for a specific row (10): engine_hp, city_mpg, popularity\n",
    "Declaring Biased Term and Weights for each features\n",
    "\"\"\"\n",
    "xi = [453, 11, 86] \n",
    "\n",
    "\n",
    "w0 = 0\n",
    "\n",
    "\"\"\"\n",
    "Declaring Weights for each features\n",
    "\"\"\"\n",
    "w =  [1, 1, 1]\n",
    "\n",
    "\"\"\"\n",
    "Creating Linear Regression Function\n",
    "\"\"\"\n",
    "def linear_regression(xi):\n",
    "    n =len(xi)                # Number of features used\n",
    "    \n",
    "    pred = w0                 # Initial / Base prediction\n",
    "    \n",
    "    for j in range(n):\n",
    "        pred += w[j]*xi[j]     # Formula = w0 +sigma[0:n-1]{w[j]*xi[j]}\n",
    "    \n",
    "    return pred\n",
    "\n",
    "\"\"\"\n",
    "Calling linear_regression function on xi\n",
    "\"\"\"\n",
    "linear_regression(xi)"
   ]
  },
  {
   "cell_type": "code",
   "execution_count": 12,
   "id": "5baba239",
   "metadata": {
    "execution": {
     "iopub.execute_input": "2021-09-19T16:41:36.440047Z",
     "iopub.status.busy": "2021-09-19T16:41:36.439200Z",
     "iopub.status.idle": "2021-09-19T16:41:36.443085Z",
     "shell.execute_reply": "2021-09-19T16:41:36.442595Z",
     "shell.execute_reply.started": "2021-09-19T16:26:16.570524Z"
    },
    "papermill": {
     "duration": 0.054893,
     "end_time": "2021-09-19T16:41:36.443233",
     "exception": false,
     "start_time": "2021-09-19T16:41:36.388340",
     "status": "completed"
    },
    "tags": []
   },
   "outputs": [
    {
     "data": {
      "text/plain": [
       "12.312"
      ]
     },
     "execution_count": 12,
     "metadata": {},
     "output_type": "execute_result"
    }
   ],
   "source": [
    "\"\"\"\n",
    "Changing the bias terms and checking the prediction\n",
    "\"\"\"\n",
    "\n",
    "\"\"\"Biased Term :\"\"\"\n",
    "w0 = 7.17\n",
    "\n",
    "\"\"\"#Declaring Weights for each features\"\"\"\n",
    "w =  [0.01, 0.04, 0.002]\n",
    "\n",
    "\"\"\"\n",
    "Calling linear_regression function again on xi\n",
    "\"\"\"\n",
    "linear_regression(xi)\n"
   ]
  },
  {
   "cell_type": "code",
   "execution_count": 13,
   "id": "634a1578",
   "metadata": {
    "execution": {
     "iopub.execute_input": "2021-09-19T16:41:36.538265Z",
     "iopub.status.busy": "2021-09-19T16:41:36.537655Z",
     "iopub.status.idle": "2021-09-19T16:41:36.540971Z",
     "shell.execute_reply": "2021-09-19T16:41:36.540123Z",
     "shell.execute_reply.started": "2021-09-19T16:26:25.263535Z"
    },
    "papermill": {
     "duration": 0.052895,
     "end_time": "2021-09-19T16:41:36.541143",
     "exception": false,
     "start_time": "2021-09-19T16:41:36.488248",
     "status": "completed"
    },
    "tags": []
   },
   "outputs": [
    {
     "name": "stdout",
     "output_type": "stream",
     "text": [
      "predicted prices:  222347.2221101062\n"
     ]
    }
   ],
   "source": [
    "\"\"\"\n",
    "Using exponent to undo the logrithm which we did initially\n",
    "Also recall we did log(1 + msrp). Therefore we will need subtract 1.\n",
    "\"\"\"\n",
    "print(\"predicted prices: \", np.expm1(12.312))"
   ]
  },
  {
   "cell_type": "markdown",
   "id": "76e92e0d",
   "metadata": {
    "papermill": {
     "duration": 0.045283,
     "end_time": "2021-09-19T16:41:36.632653",
     "exception": false,
     "start_time": "2021-09-19T16:41:36.587370",
     "status": "completed"
    },
    "tags": []
   },
   "source": [
    "## 9. Linear Regression Vector Form"
   ]
  },
  {
   "cell_type": "markdown",
   "id": "2633a492",
   "metadata": {
    "papermill": {
     "duration": 0.045173,
     "end_time": "2021-09-19T16:41:36.722808",
     "exception": false,
     "start_time": "2021-09-19T16:41:36.677635",
     "status": "completed"
    },
    "tags": []
   },
   "source": [
    "### Generalized Linear Regression"
   ]
  },
  {
   "cell_type": "code",
   "execution_count": 14,
   "id": "ef4f5bdd",
   "metadata": {
    "execution": {
     "iopub.execute_input": "2021-09-19T16:41:36.822092Z",
     "iopub.status.busy": "2021-09-19T16:41:36.816435Z",
     "iopub.status.idle": "2021-09-19T16:41:36.826452Z",
     "shell.execute_reply": "2021-09-19T16:41:36.825811Z",
     "shell.execute_reply.started": "2021-09-19T16:27:29.484494Z"
    },
    "papermill": {
     "duration": 0.0582,
     "end_time": "2021-09-19T16:41:36.826585",
     "exception": false,
     "start_time": "2021-09-19T16:41:36.768385",
     "status": "completed"
    },
    "tags": []
   },
   "outputs": [
    {
     "data": {
      "text/plain": [
       "12.312"
      ]
     },
     "execution_count": 14,
     "metadata": {},
     "output_type": "execute_result"
    }
   ],
   "source": [
    "\"\"\"\n",
    "Defining a function for dot product\n",
    "\"\"\"\n",
    "def dot(xi,w):\n",
    "    n = len(xi)\n",
    "    \n",
    "    res = 0.0\n",
    "    \n",
    "    for j in range(n):\n",
    "        res += xi[j]*w[j]\n",
    "    return res\n",
    "\n",
    "\"\"\"\n",
    "Improvising linear_regression\n",
    "\"\"\"\n",
    "def linear_regression(xi):\n",
    "    return w0 + dot(xi,w)\n",
    "\"\"\"\n",
    "More Improvising : using W.T Xi = Xi W.T = w0 + dot product as done before\n",
    "We add weight of 1 to bias term and add 1 to xis also.\n",
    "\"\"\"\n",
    "w_new = [w0] + w\n",
    "def linear_regression(xi):\n",
    "    xi = [1] + xi\n",
    "    return dot(xi,w_new)\n",
    "\n",
    "\n",
    "\"\"\"\n",
    "checking the function again\n",
    "\"\"\"\n",
    "linear_regression(xi)"
   ]
  },
  {
   "cell_type": "markdown",
   "id": "3418f53a",
   "metadata": {
    "papermill": {
     "duration": 0.045165,
     "end_time": "2021-09-19T16:41:36.917232",
     "exception": false,
     "start_time": "2021-09-19T16:41:36.872067",
     "status": "completed"
    },
    "tags": []
   },
   "source": [
    "### Linear Regression with Multiple Variables"
   ]
  },
  {
   "cell_type": "code",
   "execution_count": 15,
   "id": "128a47df",
   "metadata": {
    "execution": {
     "iopub.execute_input": "2021-09-19T16:41:37.017714Z",
     "iopub.status.busy": "2021-09-19T16:41:37.010983Z",
     "iopub.status.idle": "2021-09-19T16:41:37.020745Z",
     "shell.execute_reply": "2021-09-19T16:41:37.021174Z",
     "shell.execute_reply.started": "2021-09-19T16:28:46.589589Z"
    },
    "papermill": {
     "duration": 0.058336,
     "end_time": "2021-09-19T16:41:37.021328",
     "exception": false,
     "start_time": "2021-09-19T16:41:36.962992",
     "status": "completed"
    },
    "tags": []
   },
   "outputs": [
    {
     "data": {
      "text/plain": [
       "array([12.38 , 13.552, 12.312])"
      ]
     },
     "execution_count": 15,
     "metadata": {},
     "output_type": "execute_result"
    }
   ],
   "source": [
    "\"\"\"\n",
    "Making final model with multiple vectors.\n",
    "\"\"\"\n",
    "\n",
    "\"\"\"Biased Term :\"\"\"\n",
    "w0 = 7.17\n",
    "\n",
    "\"\"\"#Declaring Weights for each features\"\"\"\n",
    "w =  [0.01, 0.04, 0.002]\n",
    "\n",
    "\"\"\"We add weight of 1 to bias term\"\"\"\n",
    "w_new = [w0] + w\n",
    "\n",
    "\"\"\"Making Variables\"\"\"\n",
    "x1 = [1, 148, 24, 1385]\n",
    "x2 = [1, 132, 25, 2031]\n",
    "x10 = [1, 453, 11, 86]\n",
    "\"\"\"Making X: independent variables array\"\"\"\n",
    "X= [x1, x2, x10]\n",
    "X = np.array(X)\n",
    "\n",
    "\"\"\"\n",
    "Linear Regression with multiple vectors\n",
    "\"\"\"\n",
    "def linear_regression(X):\n",
    "    return X.dot(w_new)\n",
    "\n",
    "\"\"\"\n",
    "Predicting Values\n",
    "\"\"\"\n",
    "linear_regression(X)"
   ]
  },
  {
   "cell_type": "markdown",
   "id": "01f9c930",
   "metadata": {
    "papermill": {
     "duration": 0.045451,
     "end_time": "2021-09-19T16:41:37.112412",
     "exception": false,
     "start_time": "2021-09-19T16:41:37.066961",
     "status": "completed"
    },
    "tags": []
   },
   "source": [
    "## Training Linear Regression - Normal Equationraining Linear Regression - Normal Equation"
   ]
  },
  {
   "cell_type": "code",
   "execution_count": 16,
   "id": "2c1b7dd8",
   "metadata": {
    "execution": {
     "iopub.execute_input": "2021-09-19T16:41:37.210862Z",
     "iopub.status.busy": "2021-09-19T16:41:37.210109Z",
     "iopub.status.idle": "2021-09-19T16:41:37.212419Z",
     "shell.execute_reply": "2021-09-19T16:41:37.212890Z",
     "shell.execute_reply.started": "2021-09-19T16:30:26.844098Z"
    },
    "papermill": {
     "duration": 0.055007,
     "end_time": "2021-09-19T16:41:37.213053",
     "exception": false,
     "start_time": "2021-09-19T16:41:37.158046",
     "status": "completed"
    },
    "tags": []
   },
   "outputs": [],
   "source": [
    "\"\"\"Making Variables\"\"\"\n",
    "X = [\n",
    "    [148, 24, 1385],\n",
    "    [132, 25, 2031],\n",
    "    [453, 11, 86],\n",
    "    [158, 24, 185],\n",
    "    [172, 25, 201],\n",
    "    [413, 11, 86],\n",
    "    [38, 54, 185],\n",
    "    [142, 25, 431],\n",
    "    [453, 31, 86]\n",
    "]\n",
    " \n",
    "\"\"\"Making X: independent variables array\"\"\"\n",
    "X = np.array(X)\n",
    "\"\"\"Declaring Target Variable\"\"\"\n",
    "y = [10000, 20000, 15000, 20050, 10000, 20000, 15000, 25000, 12000]"
   ]
  },
  {
   "cell_type": "code",
   "execution_count": 17,
   "id": "73940ae5",
   "metadata": {
    "execution": {
     "iopub.execute_input": "2021-09-19T16:41:37.320331Z",
     "iopub.status.busy": "2021-09-19T16:41:37.319313Z",
     "iopub.status.idle": "2021-09-19T16:41:37.323071Z",
     "shell.execute_reply": "2021-09-19T16:41:37.323856Z",
     "shell.execute_reply.started": "2021-09-19T16:30:49.655016Z"
    },
    "papermill": {
     "duration": 0.064368,
     "end_time": "2021-09-19T16:41:37.324100",
     "exception": false,
     "start_time": "2021-09-19T16:41:37.259732",
     "status": "completed"
    },
    "tags": []
   },
   "outputs": [
    {
     "data": {
      "text/plain": [
       "(26.08419497680291, array([286.12285934,   3.93813107]))"
      ]
     },
     "execution_count": 17,
     "metadata": {},
     "output_type": "execute_result"
    }
   ],
   "source": [
    "\"\"\"\n",
    "Gram Matrix\n",
    "\"\"\"\n",
    "XTX = X.T.dot(X)\n",
    "\n",
    "\"\"\"inverse of Gram Matrix\"\"\"\n",
    "XTX_inv = np.linalg.inv(XTX)\n",
    "\n",
    "\"\"\"\n",
    "Not exactly identity matrix but the numbers here are very small. Hence can be treated as 0s and 1s\n",
    "\"\"\"\n",
    "# XTX.dot(XTX_inv).round(1)\n",
    "XTX.dot(XTX_inv)\n",
    "\n",
    "\"\"\" Model\"\"\"\n",
    "w_full = XTX_inv.dot(X.T).dot(y)\n",
    "\n",
    "\n",
    "\"\"\"\n",
    "Creating Coefficients\n",
    "\"\"\"\n",
    "w0 = w_full[0]\n",
    "w = w_full[1:]\n",
    "\n",
    "\"\"\"\n",
    "printing Coefficient\n",
    "\"\"\"\n",
    "w0, w"
   ]
  },
  {
   "cell_type": "code",
   "execution_count": 18,
   "id": "5ceb3374",
   "metadata": {
    "execution": {
     "iopub.execute_input": "2021-09-19T16:41:37.471796Z",
     "iopub.status.busy": "2021-09-19T16:41:37.471060Z",
     "iopub.status.idle": "2021-09-19T16:41:37.474296Z",
     "shell.execute_reply": "2021-09-19T16:41:37.473697Z",
     "shell.execute_reply.started": "2021-09-19T16:31:19.514809Z"
    },
    "papermill": {
     "duration": 0.068468,
     "end_time": "2021-09-19T16:41:37.474428",
     "exception": false,
     "start_time": "2021-09-19T16:41:37.405960",
     "status": "completed"
    },
    "tags": []
   },
   "outputs": [
    {
     "data": {
      "text/plain": [
       "'Training the Model'"
      ]
     },
     "execution_count": 18,
     "metadata": {},
     "output_type": "execute_result"
    }
   ],
   "source": [
    "\"\"\"Creating a function for Training Linear Regression Model\"\"\"\n",
    "def train_linear_regression(X,y):\n",
    "    \"\"\"\n",
    "    Including a biased term\n",
    "    \"\"\"\n",
    "    ones = np.ones(X.shape[0])\n",
    "    X = np.column_stack([ones, X])\n",
    "    \n",
    "    \"\"\"\n",
    "    Gram Matrix\n",
    "    \"\"\"\n",
    "    XTX = X.T.dot(X)\n",
    "    \n",
    "    \"\"\"inverse of Gram Matrix\"\"\"\n",
    "    XTX_inv = np.linalg.inv(XTX)\n",
    "    w_full = XTX_inv.dot(X.T).dot(y)\n",
    "    \n",
    "    return w_full[0], w_full[1:]   \n",
    "\n",
    "\n",
    "\"\"\"Training the Model\"\"\""
   ]
  },
  {
   "cell_type": "markdown",
   "id": "a3c3a2c6",
   "metadata": {
    "papermill": {
     "duration": 0.045996,
     "end_time": "2021-09-19T16:41:37.567209",
     "exception": false,
     "start_time": "2021-09-19T16:41:37.521213",
     "status": "completed"
    },
    "tags": []
   },
   "source": [
    "## 11. Car Price Baseline Model"
   ]
  },
  {
   "cell_type": "code",
   "execution_count": 19,
   "id": "51c0a015",
   "metadata": {
    "execution": {
     "iopub.execute_input": "2021-09-19T16:41:37.671724Z",
     "iopub.status.busy": "2021-09-19T16:41:37.670637Z",
     "iopub.status.idle": "2021-09-19T16:41:37.681091Z",
     "shell.execute_reply": "2021-09-19T16:41:37.680117Z",
     "shell.execute_reply.started": "2021-09-19T16:32:08.423882Z"
    },
    "papermill": {
     "duration": 0.067643,
     "end_time": "2021-09-19T16:41:37.681311",
     "exception": false,
     "start_time": "2021-09-19T16:41:37.613668",
     "status": "completed"
    },
    "tags": []
   },
   "outputs": [
    {
     "data": {
      "text/plain": [
       "(nan, array([nan, nan, nan, nan, nan]))"
      ]
     },
     "execution_count": 19,
     "metadata": {},
     "output_type": "execute_result"
    }
   ],
   "source": [
    "\"\"\"\n",
    "We need only numerical columns\n",
    "\"\"\"\n",
    "df_train.dtypes\n",
    "\n",
    "\"\"\"\n",
    "Creating subset of only Numerical Columns\n",
    "\"\"\"\n",
    "base = ['engine_hp','engine_cylinders','highway_mpg', 'city_mpg', 'popularity']\n",
    "\n",
    "\"\"\"\n",
    "Creating subset of Dataframe to be used as X.\n",
    "\"\"\"\n",
    "X_train = df_train[base].values\n",
    "\n",
    "\"\"\" Training model will throw error b'coz of missing values\"\"\"\n",
    "train_linear_regression(X_train,y_train)"
   ]
  },
  {
   "cell_type": "code",
   "execution_count": 20,
   "id": "801e6238",
   "metadata": {
    "execution": {
     "iopub.execute_input": "2021-09-19T16:41:37.832423Z",
     "iopub.status.busy": "2021-09-19T16:41:37.831678Z",
     "iopub.status.idle": "2021-09-19T16:41:37.835068Z",
     "shell.execute_reply": "2021-09-19T16:41:37.835540Z",
     "shell.execute_reply.started": "2021-09-19T16:32:19.751817Z"
    },
    "papermill": {
     "duration": 0.07125,
     "end_time": "2021-09-19T16:41:37.835714",
     "exception": false,
     "start_time": "2021-09-19T16:41:37.764464",
     "status": "completed"
    },
    "tags": []
   },
   "outputs": [
    {
     "data": {
      "text/plain": [
       "engine_hp           40\n",
       "engine_cylinders    14\n",
       "highway_mpg          0\n",
       "city_mpg             0\n",
       "popularity           0\n",
       "dtype: int64"
      ]
     },
     "execution_count": 20,
     "metadata": {},
     "output_type": "execute_result"
    }
   ],
   "source": [
    "\"\"\"\n",
    "checking missing values in our subset\n",
    "\"\"\"\n",
    "df_train[base].isnull().sum()"
   ]
  },
  {
   "cell_type": "code",
   "execution_count": 21,
   "id": "d8d63e29",
   "metadata": {
    "execution": {
     "iopub.execute_input": "2021-09-19T16:41:37.937340Z",
     "iopub.status.busy": "2021-09-19T16:41:37.936664Z",
     "iopub.status.idle": "2021-09-19T16:41:37.939699Z",
     "shell.execute_reply": "2021-09-19T16:41:37.939114Z",
     "shell.execute_reply.started": "2021-09-19T16:32:28.972751Z"
    },
    "papermill": {
     "duration": 0.056291,
     "end_time": "2021-09-19T16:41:37.939827",
     "exception": false,
     "start_time": "2021-09-19T16:41:37.883536",
     "status": "completed"
    },
    "tags": []
   },
   "outputs": [],
   "source": [
    "\"\"\"Imputing Missing values with 0 \"\"\"\n",
    "X_train = df_train[base].fillna(0).values"
   ]
  },
  {
   "cell_type": "code",
   "execution_count": 22,
   "id": "bb6c2824",
   "metadata": {
    "execution": {
     "iopub.execute_input": "2021-09-19T16:41:38.046569Z",
     "iopub.status.busy": "2021-09-19T16:41:38.045557Z",
     "iopub.status.idle": "2021-09-19T16:41:38.507126Z",
     "shell.execute_reply": "2021-09-19T16:41:38.507652Z",
     "shell.execute_reply.started": "2021-09-19T16:32:39.520775Z"
    },
    "papermill": {
     "duration": 0.520914,
     "end_time": "2021-09-19T16:41:38.507825",
     "exception": false,
     "start_time": "2021-09-19T16:41:37.986911",
     "status": "completed"
    },
    "tags": []
   },
   "outputs": [
    {
     "data": {
      "image/png": "[encoded data removed]",
      "text/plain": [
       "<Figure size 432x288 with 1 Axes>"
      ]
     },
     "metadata": {
      "needs_background": "light"
     },
     "output_type": "display_data"
    }
   ],
   "source": [
    "\"\"\"Building and Training the model \"\"\"\n",
    "w0, w = train_linear_regression(X_train,y_train)\n",
    "\n",
    "\"\"\" Prediction\"\"\"\n",
    "y_pred =  w0 + X_train.dot(w)\n",
    "\n",
    "\"\"\"Visualizing the Predictions\"\"\"\n",
    "sns.histplot(y_pred, color = 'red', alpha = 0.5, bins = 50)\n",
    "sns.histplot(y_train, color = 'blue', alpha = 0.5, bins = 50);"
   ]
  },
  {
   "cell_type": "markdown",
   "id": "752eae11",
   "metadata": {
    "papermill": {
     "duration": 0.047686,
     "end_time": "2021-09-19T16:41:38.603659",
     "exception": false,
     "start_time": "2021-09-19T16:41:38.555973",
     "status": "completed"
    },
    "tags": []
   },
   "source": [
    "## 12. Root Mean Squared Error (RMSE)"
   ]
  },
  {
   "cell_type": "code",
   "execution_count": 23,
   "id": "082a533f",
   "metadata": {
    "execution": {
     "iopub.execute_input": "2021-09-19T16:41:38.705482Z",
     "iopub.status.busy": "2021-09-19T16:41:38.704824Z",
     "iopub.status.idle": "2021-09-19T16:41:38.706626Z",
     "shell.execute_reply": "2021-09-19T16:41:38.707088Z",
     "shell.execute_reply.started": "2021-09-19T16:33:12.199768Z"
    },
    "papermill": {
     "duration": 0.055269,
     "end_time": "2021-09-19T16:41:38.707255",
     "exception": false,
     "start_time": "2021-09-19T16:41:38.651986",
     "status": "completed"
    },
    "tags": []
   },
   "outputs": [],
   "source": [
    "def rmse(y,y_pred):\n",
    "    error  = y- y_pred\n",
    "    squared_error = error ** 2\n",
    "    mse = squared_error.mean()\n",
    "    return np.sqrt(mse)  "
   ]
  },
  {
   "cell_type": "code",
   "execution_count": 24,
   "id": "12e6de68",
   "metadata": {
    "execution": {
     "iopub.execute_input": "2021-09-19T16:41:38.806543Z",
     "iopub.status.busy": "2021-09-19T16:41:38.805924Z",
     "iopub.status.idle": "2021-09-19T16:41:38.810688Z",
     "shell.execute_reply": "2021-09-19T16:41:38.811154Z",
     "shell.execute_reply.started": "2021-09-19T16:33:20.941595Z"
    },
    "papermill": {
     "duration": 0.056168,
     "end_time": "2021-09-19T16:41:38.811324",
     "exception": false,
     "start_time": "2021-09-19T16:41:38.755156",
     "status": "completed"
    },
    "tags": []
   },
   "outputs": [
    {
     "data": {
      "text/plain": [
       "0.7554192603920132"
      ]
     },
     "execution_count": 24,
     "metadata": {},
     "output_type": "execute_result"
    }
   ],
   "source": [
    "rmse(y_train,y_pred)"
   ]
  },
  {
   "cell_type": "markdown",
   "id": "b40251d5",
   "metadata": {
    "papermill": {
     "duration": 0.048101,
     "end_time": "2021-09-19T16:41:38.908495",
     "exception": false,
     "start_time": "2021-09-19T16:41:38.860394",
     "status": "completed"
    },
    "tags": []
   },
   "source": [
    "## 13. Validating the Model using RMSE"
   ]
  },
  {
   "cell_type": "code",
   "execution_count": 25,
   "id": "fe90bea5",
   "metadata": {
    "execution": {
     "iopub.execute_input": "2021-09-19T16:41:39.010280Z",
     "iopub.status.busy": "2021-09-19T16:41:39.009607Z",
     "iopub.status.idle": "2021-09-19T16:41:39.013999Z",
     "shell.execute_reply": "2021-09-19T16:41:39.014561Z",
     "shell.execute_reply.started": "2021-09-19T16:33:56.402729Z"
    },
    "papermill": {
     "duration": 0.057396,
     "end_time": "2021-09-19T16:41:39.014738",
     "exception": false,
     "start_time": "2021-09-19T16:41:38.957342",
     "status": "completed"
    },
    "tags": []
   },
   "outputs": [],
   "source": [
    "\"\"\"\n",
    "Creating subset of only Numerical Columns\n",
    "\"\"\"\n",
    "base = ['engine_hp','engine_cylinders','highway_mpg', 'city_mpg', 'popularity']\n",
    "\n",
    "def prepare_X(df):\n",
    "    df_num = df[base]\n",
    "    df_num = df_num.fillna(0)\n",
    "    X = df_num.values\n",
    "    return X"
   ]
  },
  {
   "cell_type": "code",
   "execution_count": 26,
   "id": "01794d89",
   "metadata": {
    "execution": {
     "iopub.execute_input": "2021-09-19T16:41:39.127561Z",
     "iopub.status.busy": "2021-09-19T16:41:39.120133Z",
     "iopub.status.idle": "2021-09-19T16:41:39.134233Z",
     "shell.execute_reply": "2021-09-19T16:41:39.135836Z",
     "shell.execute_reply.started": "2021-09-19T16:35:04.629411Z"
    },
    "papermill": {
     "duration": 0.072516,
     "end_time": "2021-09-19T16:41:39.136098",
     "exception": false,
     "start_time": "2021-09-19T16:41:39.063582",
     "status": "completed"
    },
    "tags": []
   },
   "outputs": [
    {
     "data": {
      "text/plain": [
       "0.761653099130156"
      ]
     },
     "execution_count": 26,
     "metadata": {},
     "output_type": "execute_result"
    }
   ],
   "source": [
    "\"\"\"Preparing Training set\"\"\"\n",
    "X_train = prepare_X(df_train)                            \n",
    "\n",
    "\"\"\"Building and Training the model on training set\"\"\"\n",
    "w0,w = w0, w = train_linear_regression(X_train,y_train) \n",
    "\n",
    "\"\"\"Prediction the values of Validation Set\"\"\"\n",
    "X_val = prepare_X(df_val)                                 \n",
    "y_pred = w0 + X_val.dot(w)                                \n",
    "\n",
    "\"\"\"Evaluation on Validation set\"\"\"\n",
    "rmse(y_val, y_pred)                                      "
   ]
  },
  {
   "cell_type": "markdown",
   "id": "368d5595",
   "metadata": {
    "papermill": {
     "duration": 0.058562,
     "end_time": "2021-09-19T16:41:39.281098",
     "exception": false,
     "start_time": "2021-09-19T16:41:39.222536",
     "status": "completed"
    },
    "tags": []
   },
   "source": [
    "## 14. Feature Engineering"
   ]
  },
  {
   "cell_type": "code",
   "execution_count": 27,
   "id": "d840afa8",
   "metadata": {
    "execution": {
     "iopub.execute_input": "2021-09-19T16:41:39.383790Z",
     "iopub.status.busy": "2021-09-19T16:41:39.382912Z",
     "iopub.status.idle": "2021-09-19T16:41:39.385905Z",
     "shell.execute_reply": "2021-09-19T16:41:39.385350Z",
     "shell.execute_reply.started": "2021-09-19T16:35:31.494701Z"
    },
    "papermill": {
     "duration": 0.056456,
     "end_time": "2021-09-19T16:41:39.386036",
     "exception": false,
     "start_time": "2021-09-19T16:41:39.329580",
     "status": "completed"
    },
    "tags": []
   },
   "outputs": [],
   "source": [
    "\"\"\"\n",
    "Modifying prepare_S function to include Feature engineering step\n",
    "\"\"\"\n",
    "def prepare_X(df):\n",
    "    df = df.copy()\n",
    "    df['age'] = max(df['year']) - df['year']\n",
    "    features = base + ['age']\n",
    "    df_num = df[features]\n",
    "    df_num = df_num.fillna(0)\n",
    "    X = df_num.values\n",
    "    return X"
   ]
  },
  {
   "cell_type": "code",
   "execution_count": 28,
   "id": "125d8b7d",
   "metadata": {
    "execution": {
     "iopub.execute_input": "2021-09-19T16:41:39.487941Z",
     "iopub.status.busy": "2021-09-19T16:41:39.487358Z",
     "iopub.status.idle": "2021-09-19T16:41:39.497104Z",
     "shell.execute_reply": "2021-09-19T16:41:39.497613Z",
     "shell.execute_reply.started": "2021-09-19T16:35:39.248039Z"
    },
    "papermill": {
     "duration": 0.062312,
     "end_time": "2021-09-19T16:41:39.497771",
     "exception": false,
     "start_time": "2021-09-19T16:41:39.435459",
     "status": "completed"
    },
    "tags": []
   },
   "outputs": [],
   "source": [
    "X_train = prepare_X(df_train)"
   ]
  },
  {
   "cell_type": "code",
   "execution_count": 29,
   "id": "ce908112",
   "metadata": {
    "execution": {
     "iopub.execute_input": "2021-09-19T16:41:39.600630Z",
     "iopub.status.busy": "2021-09-19T16:41:39.599983Z",
     "iopub.status.idle": "2021-09-19T16:41:39.623302Z",
     "shell.execute_reply": "2021-09-19T16:41:39.624223Z",
     "shell.execute_reply.started": "2021-09-19T16:36:18.816326Z"
    },
    "papermill": {
     "duration": 0.078197,
     "end_time": "2021-09-19T16:41:39.624467",
     "exception": false,
     "start_time": "2021-09-19T16:41:39.546270",
     "status": "completed"
    },
    "tags": []
   },
   "outputs": [
    {
     "data": {
      "text/plain": [
       "0.5172055461058299"
      ]
     },
     "execution_count": 29,
     "metadata": {},
     "output_type": "execute_result"
    }
   ],
   "source": [
    "\"\"\"Preparing Training set\"\"\"\n",
    "X_train = prepare_X(df_train)                            \n",
    "\n",
    "\"\"\"Building and Training the model on training set\"\"\"\n",
    "w0,w = w0, w = train_linear_regression(X_train,y_train)  \n",
    "\n",
    "\"\"\"Prediction the values of Validation Set\"\"\"\n",
    "X_val = prepare_X(df_val)                                \n",
    "y_pred = w0 + X_val.dot(w)                                \n",
    "\n",
    "\"\"\"Evaluation on Validation set\"\"\"\n",
    "rmse(y_val, y_pred)                                       "
   ]
  },
  {
   "cell_type": "code",
   "execution_count": 30,
   "id": "305ff06d",
   "metadata": {
    "execution": {
     "iopub.execute_input": "2021-09-19T16:41:39.802710Z",
     "iopub.status.busy": "2021-09-19T16:41:39.800715Z",
     "iopub.status.idle": "2021-09-19T16:41:40.212932Z",
     "shell.execute_reply": "2021-09-19T16:41:40.212316Z",
     "shell.execute_reply.started": "2021-09-19T16:36:27.770616Z"
    },
    "papermill": {
     "duration": 0.501959,
     "end_time": "2021-09-19T16:41:40.213068",
     "exception": false,
     "start_time": "2021-09-19T16:41:39.711109",
     "status": "completed"
    },
    "tags": []
   },
   "outputs": [
    {
     "data": {
      "image/png": "[encoded data removed]",
      "text/plain": [
       "<Figure size 432x288 with 1 Axes>"
      ]
     },
     "metadata": {
      "needs_background": "light"
     },
     "output_type": "display_data"
    }
   ],
   "source": [
    "\"\"\"Visualizing the Predictions\"\"\"\n",
    "sns.histplot(y_pred, color = 'red', alpha = 0.5, bins = 50)\n",
    "sns.histplot(y_val, color = 'blue', alpha = 0.5, bins = 50);"
   ]
  },
  {
   "cell_type": "markdown",
   "id": "4fff8f3c",
   "metadata": {
    "papermill": {
     "duration": 0.049243,
     "end_time": "2021-09-19T16:41:40.312741",
     "exception": false,
     "start_time": "2021-09-19T16:41:40.263498",
     "status": "completed"
    },
    "tags": []
   },
   "source": [
    "## 15. Categorical Variables"
   ]
  },
  {
   "cell_type": "markdown",
   "id": "d29acc79",
   "metadata": {
    "papermill": {
     "duration": 0.048411,
     "end_time": "2021-09-19T16:41:40.410336",
     "exception": false,
     "start_time": "2021-09-19T16:41:40.361925",
     "status": "completed"
    },
    "tags": []
   },
   "source": [
    "## 16. Regularization"
   ]
  },
  {
   "cell_type": "markdown",
   "id": "c09e09a7",
   "metadata": {
    "papermill": {
     "duration": 0.048769,
     "end_time": "2021-09-19T16:41:40.508279",
     "exception": false,
     "start_time": "2021-09-19T16:41:40.459510",
     "status": "completed"
    },
    "tags": []
   },
   "source": [
    "## 17. Tuning the Model"
   ]
  },
  {
   "cell_type": "markdown",
   "id": "1551435a",
   "metadata": {
    "papermill": {
     "duration": 0.048669,
     "end_time": "2021-09-19T16:41:40.605991",
     "exception": false,
     "start_time": "2021-09-19T16:41:40.557322",
     "status": "completed"
    },
    "tags": []
   },
   "source": [
    "## 18. Using the model"
   ]
  },
  {
   "cell_type": "code",
   "execution_count": null,
   "id": "61a629bc",
   "metadata": {
    "papermill": {
     "duration": 0.04897,
     "end_time": "2021-09-19T16:41:40.704336",
     "exception": false,
     "start_time": "2021-09-19T16:41:40.655366",
     "status": "completed"
    },
    "tags": []
   },
   "outputs": [],
   "source": []
  }
 ],
 "metadata": {
  "kernelspec": {
   "display_name": "Python 3",
   "language": "python",
   "name": "python3"
  },
  "language_info": {
   "codemirror_mode": {
    "name": "ipython",
    "version": 3
   },
   "file_extension": ".py",
   "mimetype": "text/x-python",
   "name": "python",
   "nbconvert_exporter": "python",
   "pygments_lexer": "ipython3",
   "version": "3.7.10"
  },
  "papermill": {
   "default_parameters": {},
   "duration": 17.22657,
   "end_time": "2021-09-19T16:41:41.363265",
   "environment_variables": {},
   "exception": null,
   "input_path": "__notebook__.ipynb",
   "output_path": "__notebook__.ipynb",
   "parameters": {},
   "start_time": "2021-09-19T16:41:24.136695",
   "version": "2.3.3"
  }
 },
 "nbformat": 4,
 "nbformat_minor": 5
}
