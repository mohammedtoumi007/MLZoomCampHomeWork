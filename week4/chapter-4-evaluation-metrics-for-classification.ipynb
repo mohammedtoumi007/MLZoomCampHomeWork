{
 "cells": [
  {
   "cell_type": "markdown",
   "id": "0828f3e6",
   "metadata": {
    "_cell_guid": "b1076dfc-b9ad-4769-8c92-a6c4dae69d19",
    "_uuid": "8f2839f25d086af736a60e9eeb907d3b93b6e0e5",
    "papermill": {
     "duration": 0.056655,
     "end_time": "2021-10-01T17:00:47.953571",
     "exception": false,
     "start_time": "2021-10-01T17:00:47.896916",
     "status": "completed"
    },
    "tags": []
   },
   "source": [
    "## Content in this Notebook\n",
    "## Notebook is a part of FREE ML course by Glexey Grigorev. [Link for the Course](https://github.com/alexeygrigorev/mlbookcamp-code/tree/master/course-zoomcamp/04-evaluation)\n",
    "## Evaluation Metrics for Classification\n"
   ]
  },
  {
   "cell_type": "markdown",
   "id": "cf7a46cb",
   "metadata": {
    "papermill": {
     "duration": 0.052951,
     "end_time": "2021-10-01T17:00:48.063450",
     "exception": false,
     "start_time": "2021-10-01T17:00:48.010499",
     "status": "completed"
    },
    "tags": []
   },
   "source": [
    "## 1. Introduction\n",
    "\n",
    "*Context*\n",
    "\n",
    "\"Predict behavior to retain customers. You can analyze all relevant customer data and develop focused customer retention programs.\" [IBM Sample Data Sets]\n",
    "\n",
    "*Content*\n",
    "\n",
    "Each row represents a customer, each column contains customer’s attributes described on the column Metadata.\n",
    "\n",
    "The data set includes information about:\n",
    "\n",
    "    - Customers who left within the last month – the column is called Churn\n",
    "    - Services that each customer has signed up for – phone, multiple lines, internet, online security, online backup, device protection, tech support, and streaming TV and movies\n",
    "    - Customer account information – how long they’ve been a customer, contract, payment method, paperless billing, monthly charges, and total charges\n",
    "    - Demographic info about customers – gender, age range, and if they have partners and dependents"
   ]
  },
  {
   "cell_type": "markdown",
   "id": "d81a4b2e",
   "metadata": {
    "papermill": {
     "duration": 0.053046,
     "end_time": "2021-10-01T17:00:48.169414",
     "exception": false,
     "start_time": "2021-10-01T17:00:48.116368",
     "status": "completed"
    },
    "tags": []
   },
   "source": [
    "## 2. Importing Libraries"
   ]
  },
  {
   "cell_type": "code",
   "execution_count": 1,
   "id": "9b6a4621",
   "metadata": {
    "execution": {
     "iopub.execute_input": "2021-10-01T17:00:48.279584Z",
     "iopub.status.busy": "2021-10-01T17:00:48.278398Z",
     "iopub.status.idle": "2021-10-01T17:00:48.288885Z",
     "shell.execute_reply": "2021-10-01T17:00:48.289681Z",
     "shell.execute_reply.started": "2021-10-01T15:49:24.897245Z"
    },
    "papermill": {
     "duration": 0.067926,
     "end_time": "2021-10-01T17:00:48.289999",
     "exception": false,
     "start_time": "2021-10-01T17:00:48.222073",
     "status": "completed"
    },
    "tags": []
   },
   "outputs": [],
   "source": [
    "import pandas as pd\n",
    "import numpy as np\n",
    "import matplotlib.pyplot as plt"
   ]
  },
  {
   "cell_type": "code",
   "execution_count": 2,
   "id": "c0943ff8",
   "metadata": {
    "execution": {
     "iopub.execute_input": "2021-10-01T17:00:48.398709Z",
     "iopub.status.busy": "2021-10-01T17:00:48.398053Z",
     "iopub.status.idle": "2021-10-01T17:00:49.462754Z",
     "shell.execute_reply": "2021-10-01T17:00:49.461893Z",
     "shell.execute_reply.started": "2021-10-01T15:49:24.927171Z"
    },
    "papermill": {
     "duration": 1.120093,
     "end_time": "2021-10-01T17:00:49.462898",
     "exception": false,
     "start_time": "2021-10-01T17:00:48.342805",
     "status": "completed"
    },
    "tags": []
   },
   "outputs": [],
   "source": [
    "from sklearn.model_selection import train_test_split\n",
    "from sklearn.feature_extraction import DictVectorizer\n",
    "from sklearn.linear_model import LogisticRegression"
   ]
  },
  {
   "cell_type": "markdown",
   "id": "cb12571a",
   "metadata": {
    "papermill": {
     "duration": 0.05254,
     "end_time": "2021-10-01T17:00:49.569731",
     "exception": false,
     "start_time": "2021-10-01T17:00:49.517191",
     "status": "completed"
    },
    "tags": []
   },
   "source": [
    "## 3. Data Preparation"
   ]
  },
  {
   "cell_type": "code",
   "execution_count": 3,
   "id": "9dc08873",
   "metadata": {
    "execution": {
     "iopub.execute_input": "2021-10-01T17:00:49.682642Z",
     "iopub.status.busy": "2021-10-01T17:00:49.681931Z",
     "iopub.status.idle": "2021-10-01T17:00:49.935911Z",
     "shell.execute_reply": "2021-10-01T17:00:49.935294Z",
     "shell.execute_reply.started": "2021-10-01T15:49:26.110328Z"
    },
    "papermill": {
     "duration": 0.313927,
     "end_time": "2021-10-01T17:00:49.936085",
     "exception": false,
     "start_time": "2021-10-01T17:00:49.622158",
     "status": "completed"
    },
    "tags": []
   },
   "outputs": [],
   "source": [
    "df = pd.read_csv('../input/telco-customer-churn/WA_Fn-UseC_-Telco-Customer-Churn.csv')\n",
    "\n",
    "df.columns = df.columns.str.lower().str.replace(' ', '_')\n",
    "\n",
    "categorical_columns = list(df.dtypes[df.dtypes == 'object'].index)\n",
    "\n",
    "for c in categorical_columns:\n",
    "    df[c] = df[c].str.lower().str.replace(' ', '_')\n",
    "\n",
    "df.totalcharges = pd.to_numeric(df.totalcharges, errors='coerce')\n",
    "df.totalcharges = df.totalcharges.fillna(0)\n",
    "\n",
    "df.churn = (df.churn == 'yes').astype(int)"
   ]
  },
  {
   "cell_type": "code",
   "execution_count": 4,
   "id": "ad72e908",
   "metadata": {
    "execution": {
     "iopub.execute_input": "2021-10-01T17:00:50.059663Z",
     "iopub.status.busy": "2021-10-01T17:00:50.058944Z",
     "iopub.status.idle": "2021-10-01T17:00:50.083093Z",
     "shell.execute_reply": "2021-10-01T17:00:50.082445Z",
     "shell.execute_reply.started": "2021-10-01T15:49:26.367398Z"
    },
    "papermill": {
     "duration": 0.089694,
     "end_time": "2021-10-01T17:00:50.083243",
     "exception": false,
     "start_time": "2021-10-01T17:00:49.993549",
     "status": "completed"
    },
    "tags": []
   },
   "outputs": [],
   "source": [
    "df_full_train, df_test = train_test_split(df, test_size=0.2, random_state=1)\n",
    "df_train, df_val = train_test_split(df_full_train, test_size=0.25, random_state=1)\n",
    "\n",
    "df_train = df_train.reset_index(drop=True)\n",
    "df_val = df_val.reset_index(drop=True)\n",
    "df_test = df_test.reset_index(drop=True)\n",
    "\n",
    "y_train = df_train.churn.values\n",
    "y_val = df_val.churn.values\n",
    "y_test = df_test.churn.values\n",
    "\n",
    "del df_train['churn']\n",
    "del df_val['churn']\n",
    "del df_test['churn']"
   ]
  },
  {
   "cell_type": "code",
   "execution_count": 5,
   "id": "d896e268",
   "metadata": {
    "execution": {
     "iopub.execute_input": "2021-10-01T17:00:50.195898Z",
     "iopub.status.busy": "2021-10-01T17:00:50.195082Z",
     "iopub.status.idle": "2021-10-01T17:00:50.198634Z",
     "shell.execute_reply": "2021-10-01T17:00:50.198075Z",
     "shell.execute_reply.started": "2021-10-01T15:49:26.401676Z"
    },
    "papermill": {
     "duration": 0.062306,
     "end_time": "2021-10-01T17:00:50.198793",
     "exception": false,
     "start_time": "2021-10-01T17:00:50.136487",
     "status": "completed"
    },
    "tags": []
   },
   "outputs": [],
   "source": [
    "numerical = ['tenure', 'monthlycharges', 'totalcharges']\n",
    "\n",
    "categorical = [\n",
    "    'gender',\n",
    "    'seniorcitizen',\n",
    "    'partner',\n",
    "    'dependents',\n",
    "    'phoneservice',\n",
    "    'multiplelines',\n",
    "    'internetservice',\n",
    "    'onlinesecurity',\n",
    "    'onlinebackup',\n",
    "    'deviceprotection',\n",
    "    'techsupport',\n",
    "    'streamingtv',\n",
    "    'streamingmovies',\n",
    "    'contract',\n",
    "    'paperlessbilling',\n",
    "    'paymentmethod',\n",
    "]"
   ]
  },
  {
   "cell_type": "code",
   "execution_count": 6,
   "id": "7c936172",
   "metadata": {
    "execution": {
     "iopub.execute_input": "2021-10-01T17:00:50.309235Z",
     "iopub.status.busy": "2021-10-01T17:00:50.308564Z",
     "iopub.status.idle": "2021-10-01T17:00:50.724004Z",
     "shell.execute_reply": "2021-10-01T17:00:50.724892Z",
     "shell.execute_reply.started": "2021-10-01T15:49:26.410540Z"
    },
    "papermill": {
     "duration": 0.472332,
     "end_time": "2021-10-01T17:00:50.725176",
     "exception": false,
     "start_time": "2021-10-01T17:00:50.252844",
     "status": "completed"
    },
    "tags": []
   },
   "outputs": [
    {
     "data": {
      "text/plain": [
       "LogisticRegression()"
      ]
     },
     "execution_count": 6,
     "metadata": {},
     "output_type": "execute_result"
    }
   ],
   "source": [
    "dv = DictVectorizer(sparse=False)\n",
    "\n",
    "train_dict = df_train[categorical + numerical].to_dict(orient='records')\n",
    "X_train = dv.fit_transform(train_dict)\n",
    "\n",
    "model = LogisticRegression()\n",
    "model.fit(X_train, y_train)"
   ]
  },
  {
   "cell_type": "code",
   "execution_count": 7,
   "id": "bcd59416",
   "metadata": {
    "execution": {
     "iopub.execute_input": "2021-10-01T17:00:50.887809Z",
     "iopub.status.busy": "2021-10-01T17:00:50.887076Z",
     "iopub.status.idle": "2021-10-01T17:00:50.971756Z",
     "shell.execute_reply": "2021-10-01T17:00:50.972651Z",
     "shell.execute_reply.started": "2021-10-01T15:49:26.834916Z"
    },
    "papermill": {
     "duration": 0.148684,
     "end_time": "2021-10-01T17:00:50.972935",
     "exception": false,
     "start_time": "2021-10-01T17:00:50.824251",
     "status": "completed"
    },
    "tags": []
   },
   "outputs": [
    {
     "data": {
      "text/plain": [
       "0.8034066713981547"
      ]
     },
     "execution_count": 7,
     "metadata": {},
     "output_type": "execute_result"
    }
   ],
   "source": [
    "val_dict = df_val[categorical + numerical].to_dict(orient='records')\n",
    "X_val = dv.transform(val_dict)\n",
    "\n",
    "y_pred = model.predict_proba(X_val)[:, 1]\n",
    "churn_decision = (y_pred >= 0.5)\n",
    "(y_val == churn_decision).mean()"
   ]
  },
  {
   "cell_type": "markdown",
   "id": "3b40dd99",
   "metadata": {
    "papermill": {
     "duration": 0.056987,
     "end_time": "2021-10-01T17:00:51.128080",
     "exception": false,
     "start_time": "2021-10-01T17:00:51.071093",
     "status": "completed"
    },
    "tags": []
   },
   "source": [
    "## 4. Accuracy and dummy model\n",
    "* Evaluate the model on different thresholds\n",
    "* Check the accuracy of dummy baselines"
   ]
  },
  {
   "cell_type": "code",
   "execution_count": 8,
   "id": "b06b7dc2",
   "metadata": {
    "execution": {
     "iopub.execute_input": "2021-10-01T17:00:51.239913Z",
     "iopub.status.busy": "2021-10-01T17:00:51.239219Z",
     "iopub.status.idle": "2021-10-01T17:00:51.242200Z",
     "shell.execute_reply": "2021-10-01T17:00:51.242742Z",
     "shell.execute_reply.started": "2021-10-01T15:49:26.968933Z"
    },
    "papermill": {
     "duration": 0.061811,
     "end_time": "2021-10-01T17:00:51.242927",
     "exception": false,
     "start_time": "2021-10-01T17:00:51.181116",
     "status": "completed"
    },
    "tags": []
   },
   "outputs": [
    {
     "data": {
      "text/plain": [
       "1409"
      ]
     },
     "execution_count": 8,
     "metadata": {},
     "output_type": "execute_result"
    }
   ],
   "source": [
    "len(y_val)"
   ]
  },
  {
   "cell_type": "code",
   "execution_count": 9,
   "id": "b8a7ba2b",
   "metadata": {
    "execution": {
     "iopub.execute_input": "2021-10-01T17:00:51.354739Z",
     "iopub.status.busy": "2021-10-01T17:00:51.354068Z",
     "iopub.status.idle": "2021-10-01T17:00:51.359664Z",
     "shell.execute_reply": "2021-10-01T17:00:51.359152Z",
     "shell.execute_reply.started": "2021-10-01T15:49:26.992435Z"
    },
    "papermill": {
     "duration": 0.062627,
     "end_time": "2021-10-01T17:00:51.359802",
     "exception": false,
     "start_time": "2021-10-01T17:00:51.297175",
     "status": "completed"
    },
    "tags": []
   },
   "outputs": [
    {
     "data": {
      "text/plain": [
       "0.8034066713981547"
      ]
     },
     "execution_count": 9,
     "metadata": {},
     "output_type": "execute_result"
    }
   ],
   "source": [
    "(y_val == churn_decision).mean()"
   ]
  },
  {
   "cell_type": "code",
   "execution_count": 10,
   "id": "28b7740e",
   "metadata": {
    "execution": {
     "iopub.execute_input": "2021-10-01T17:00:51.472279Z",
     "iopub.status.busy": "2021-10-01T17:00:51.471117Z",
     "iopub.status.idle": "2021-10-01T17:00:51.473722Z",
     "shell.execute_reply": "2021-10-01T17:00:51.474245Z",
     "shell.execute_reply.started": "2021-10-01T15:49:27.010128Z"
    },
    "papermill": {
     "duration": 0.060748,
     "end_time": "2021-10-01T17:00:51.474444",
     "exception": false,
     "start_time": "2021-10-01T17:00:51.413696",
     "status": "completed"
    },
    "tags": []
   },
   "outputs": [],
   "source": [
    "from sklearn.metrics import accuracy_score"
   ]
  },
  {
   "cell_type": "code",
   "execution_count": 11,
   "id": "81e3bcaa",
   "metadata": {
    "execution": {
     "iopub.execute_input": "2021-10-01T17:00:51.587670Z",
     "iopub.status.busy": "2021-10-01T17:00:51.586998Z",
     "iopub.status.idle": "2021-10-01T17:00:51.592132Z",
     "shell.execute_reply": "2021-10-01T17:00:51.592663Z",
     "shell.execute_reply.started": "2021-10-01T15:49:27.021755Z"
    },
    "papermill": {
     "duration": 0.062735,
     "end_time": "2021-10-01T17:00:51.592831",
     "exception": false,
     "start_time": "2021-10-01T17:00:51.530096",
     "status": "completed"
    },
    "tags": []
   },
   "outputs": [
    {
     "data": {
      "text/plain": [
       "0.8034066713981547"
      ]
     },
     "execution_count": 11,
     "metadata": {},
     "output_type": "execute_result"
    }
   ],
   "source": [
    "accuracy_score(y_val, y_pred >= 0.5)"
   ]
  },
  {
   "cell_type": "code",
   "execution_count": 12,
   "id": "9edccf2f",
   "metadata": {
    "execution": {
     "iopub.execute_input": "2021-10-01T17:00:51.708286Z",
     "iopub.status.busy": "2021-10-01T17:00:51.707639Z",
     "iopub.status.idle": "2021-10-01T17:00:51.720206Z",
     "shell.execute_reply": "2021-10-01T17:00:51.719549Z",
     "shell.execute_reply.started": "2021-10-01T15:49:27.037998Z"
    },
    "papermill": {
     "duration": 0.073191,
     "end_time": "2021-10-01T17:00:51.720385",
     "exception": false,
     "start_time": "2021-10-01T17:00:51.647194",
     "status": "completed"
    },
    "tags": []
   },
   "outputs": [
    {
     "name": "stdout",
     "output_type": "stream",
     "text": [
      "0.00 0.274\n",
      "0.05 0.509\n",
      "0.10 0.591\n",
      "0.15 0.666\n",
      "0.20 0.710\n",
      "0.25 0.739\n",
      "0.30 0.760\n",
      "0.35 0.772\n",
      "0.40 0.785\n",
      "0.45 0.793\n",
      "0.50 0.803\n",
      "0.55 0.801\n",
      "0.60 0.795\n",
      "0.65 0.786\n",
      "0.70 0.766\n",
      "0.75 0.744\n",
      "0.80 0.735\n",
      "0.85 0.726\n",
      "0.90 0.726\n",
      "0.95 0.726\n",
      "1.00 0.726\n"
     ]
    }
   ],
   "source": [
    "# Check the accuracy with different threshold\n",
    "thresholds = np.linspace(0, 1, 21)\n",
    "\n",
    "scores = []\n",
    "\n",
    "for t in thresholds:\n",
    "    score = accuracy_score(y_val, y_pred >= t)\n",
    "    print('%.2f %.3f' % (t, score))\n",
    "    scores.append(score)"
   ]
  },
  {
   "cell_type": "code",
   "execution_count": 13,
   "id": "cd68824b",
   "metadata": {
    "execution": {
     "iopub.execute_input": "2021-10-01T17:00:51.850678Z",
     "iopub.status.busy": "2021-10-01T17:00:51.849646Z",
     "iopub.status.idle": "2021-10-01T17:00:52.054726Z",
     "shell.execute_reply": "2021-10-01T17:00:52.055192Z",
     "shell.execute_reply.started": "2021-10-01T15:49:27.067452Z"
    },
    "papermill": {
     "duration": 0.280281,
     "end_time": "2021-10-01T17:00:52.055380",
     "exception": false,
     "start_time": "2021-10-01T17:00:51.775099",
     "status": "completed"
    },
    "tags": []
   },
   "outputs": [
    {
     "data": {
      "text/plain": [
       "[<matplotlib.lines.Line2D at 0x7f460d5dcc10>]"
      ]
     },
     "execution_count": 13,
     "metadata": {},
     "output_type": "execute_result"
    },
    {
     "data": {
      "image/png": "[encoded data removed]",
      "text/plain": [
       "<Figure size 432x288 with 1 Axes>"
      ]
     },
     "metadata": {
      "needs_background": "light"
     },
     "output_type": "display_data"
    }
   ],
   "source": [
    "# Plot these results\n",
    "plt.plot(thresholds, scores)"
   ]
  },
  {
   "cell_type": "code",
   "execution_count": 14,
   "id": "657e7737",
   "metadata": {
    "execution": {
     "iopub.execute_input": "2021-10-01T17:00:52.170886Z",
     "iopub.status.busy": "2021-10-01T17:00:52.170261Z",
     "iopub.status.idle": "2021-10-01T17:00:52.173900Z",
     "shell.execute_reply": "2021-10-01T17:00:52.174393Z",
     "shell.execute_reply.started": "2021-10-01T15:49:27.314881Z"
    },
    "papermill": {
     "duration": 0.062668,
     "end_time": "2021-10-01T17:00:52.174569",
     "exception": false,
     "start_time": "2021-10-01T17:00:52.111901",
     "status": "completed"
    },
    "tags": []
   },
   "outputs": [],
   "source": [
    "from collections import Counter"
   ]
  },
  {
   "cell_type": "code",
   "execution_count": 15,
   "id": "7af38673",
   "metadata": {
    "execution": {
     "iopub.execute_input": "2021-10-01T17:00:52.291465Z",
     "iopub.status.busy": "2021-10-01T17:00:52.290735Z",
     "iopub.status.idle": "2021-10-01T17:00:52.293367Z",
     "shell.execute_reply": "2021-10-01T17:00:52.293869Z",
     "shell.execute_reply.started": "2021-10-01T15:49:27.322400Z"
    },
    "papermill": {
     "duration": 0.063907,
     "end_time": "2021-10-01T17:00:52.294031",
     "exception": false,
     "start_time": "2021-10-01T17:00:52.230124",
     "status": "completed"
    },
    "tags": []
   },
   "outputs": [
    {
     "data": {
      "text/plain": [
       "Counter({False: 1409})"
      ]
     },
     "execution_count": 15,
     "metadata": {},
     "output_type": "execute_result"
    }
   ],
   "source": [
    "Counter(y_pred >= 1.0)"
   ]
  },
  {
   "cell_type": "code",
   "execution_count": 16,
   "id": "28fe2f20",
   "metadata": {
    "execution": {
     "iopub.execute_input": "2021-10-01T17:00:52.412853Z",
     "iopub.status.busy": "2021-10-01T17:00:52.412108Z",
     "iopub.status.idle": "2021-10-01T17:00:52.417004Z",
     "shell.execute_reply": "2021-10-01T17:00:52.417517Z",
     "shell.execute_reply.started": "2021-10-01T15:49:27.336518Z"
    },
    "papermill": {
     "duration": 0.06668,
     "end_time": "2021-10-01T17:00:52.417695",
     "exception": false,
     "start_time": "2021-10-01T17:00:52.351015",
     "status": "completed"
    },
    "tags": []
   },
   "outputs": [
    {
     "data": {
      "text/plain": [
       "0.7260468417317246"
      ]
     },
     "execution_count": 16,
     "metadata": {},
     "output_type": "execute_result"
    }
   ],
   "source": [
    "1 - y_val.mean()"
   ]
  },
  {
   "cell_type": "code",
   "execution_count": 17,
   "id": "74b5d8c9",
   "metadata": {
    "execution": {
     "iopub.execute_input": "2021-10-01T17:00:52.537096Z",
     "iopub.status.busy": "2021-10-01T17:00:52.536451Z",
     "iopub.status.idle": "2021-10-01T17:00:52.539208Z",
     "shell.execute_reply": "2021-10-01T17:00:52.539734Z",
     "shell.execute_reply.started": "2021-10-01T15:49:27.350359Z"
    },
    "papermill": {
     "duration": 0.065485,
     "end_time": "2021-10-01T17:00:52.539905",
     "exception": false,
     "start_time": "2021-10-01T17:00:52.474420",
     "status": "completed"
    },
    "tags": []
   },
   "outputs": [
    {
     "data": {
      "text/plain": [
       "0.2739531582682754"
      ]
     },
     "execution_count": 17,
     "metadata": {},
     "output_type": "execute_result"
    }
   ],
   "source": [
    "y_val.mean()"
   ]
  },
  {
   "cell_type": "markdown",
   "id": "667778db",
   "metadata": {
    "papermill": {
     "duration": 0.055979,
     "end_time": "2021-10-01T17:00:52.652509",
     "exception": false,
     "start_time": "2021-10-01T17:00:52.596530",
     "status": "completed"
    },
    "tags": []
   },
   "source": [
    "### We can see that when all the predictions are False and the accuracy of the model : 0.726 are not churning\n",
    "### and the actuel model : 0.273 are churning , this is because our data is not balanced."
   ]
  },
  {
   "cell_type": "markdown",
   "id": "95ff4e68",
   "metadata": {
    "papermill": {
     "duration": 0.056074,
     "end_time": "2021-10-01T17:00:52.768666",
     "exception": false,
     "start_time": "2021-10-01T17:00:52.712592",
     "status": "completed"
    },
    "tags": []
   },
   "source": [
    "## 5.  Confusion Table\n",
    "* Different types of errors and correct decisions\n",
    "* Arranging them in a table"
   ]
  },
  {
   "cell_type": "code",
   "execution_count": 18,
   "id": "7bbd0767",
   "metadata": {
    "execution": {
     "iopub.execute_input": "2021-10-01T17:00:52.886089Z",
     "iopub.status.busy": "2021-10-01T17:00:52.885091Z",
     "iopub.status.idle": "2021-10-01T17:00:52.888526Z",
     "shell.execute_reply": "2021-10-01T17:00:52.889024Z",
     "shell.execute_reply.started": "2021-10-01T15:49:27.363134Z"
    },
    "papermill": {
     "duration": 0.064191,
     "end_time": "2021-10-01T17:00:52.889185",
     "exception": false,
     "start_time": "2021-10-01T17:00:52.824994",
     "status": "completed"
    },
    "tags": []
   },
   "outputs": [],
   "source": [
    "actual_positive = (y_val == 1)\n",
    "actual_negative = (y_val == 0)"
   ]
  },
  {
   "cell_type": "code",
   "execution_count": 19,
   "id": "2946c897",
   "metadata": {
    "execution": {
     "iopub.execute_input": "2021-10-01T17:00:53.006864Z",
     "iopub.status.busy": "2021-10-01T17:00:53.004778Z",
     "iopub.status.idle": "2021-10-01T17:00:53.009721Z",
     "shell.execute_reply": "2021-10-01T17:00:53.009145Z",
     "shell.execute_reply.started": "2021-10-01T15:49:27.373529Z"
    },
    "papermill": {
     "duration": 0.064243,
     "end_time": "2021-10-01T17:00:53.009879",
     "exception": false,
     "start_time": "2021-10-01T17:00:52.945636",
     "status": "completed"
    },
    "tags": []
   },
   "outputs": [],
   "source": [
    "t = 0.5\n",
    "predict_positive = (y_pred >= t)\n",
    "predict_negative = (y_pred < t)"
   ]
  },
  {
   "cell_type": "code",
   "execution_count": 20,
   "id": "8aaa01a0",
   "metadata": {
    "execution": {
     "iopub.execute_input": "2021-10-01T17:00:53.131899Z",
     "iopub.status.busy": "2021-10-01T17:00:53.131062Z",
     "iopub.status.idle": "2021-10-01T17:00:53.133166Z",
     "shell.execute_reply": "2021-10-01T17:00:53.133679Z",
     "shell.execute_reply.started": "2021-10-01T15:49:27.386163Z"
    },
    "papermill": {
     "duration": 0.06542,
     "end_time": "2021-10-01T17:00:53.133865",
     "exception": false,
     "start_time": "2021-10-01T17:00:53.068445",
     "status": "completed"
    },
    "tags": []
   },
   "outputs": [],
   "source": [
    "tp = (predict_positive & actual_positive).sum()\n",
    "tn = (predict_negative & actual_negative).sum()\n",
    "\n",
    "fp = (predict_positive & actual_negative).sum()\n",
    "fn = (predict_negative & actual_positive).sum()"
   ]
  },
  {
   "cell_type": "code",
   "execution_count": 21,
   "id": "fa144d04",
   "metadata": {
    "execution": {
     "iopub.execute_input": "2021-10-01T17:00:53.251361Z",
     "iopub.status.busy": "2021-10-01T17:00:53.250698Z",
     "iopub.status.idle": "2021-10-01T17:00:53.255842Z",
     "shell.execute_reply": "2021-10-01T17:00:53.256410Z",
     "shell.execute_reply.started": "2021-10-01T15:49:27.399938Z"
    },
    "papermill": {
     "duration": 0.065007,
     "end_time": "2021-10-01T17:00:53.256590",
     "exception": false,
     "start_time": "2021-10-01T17:00:53.191583",
     "status": "completed"
    },
    "tags": []
   },
   "outputs": [
    {
     "data": {
      "text/plain": [
       "array([[922, 101],\n",
       "       [176, 210]])"
      ]
     },
     "execution_count": 21,
     "metadata": {},
     "output_type": "execute_result"
    }
   ],
   "source": [
    "confusion_matrix = np.array([\n",
    "    [tn, fp],\n",
    "    [fn, tp]\n",
    "])\n",
    "confusion_matrix"
   ]
  },
  {
   "cell_type": "code",
   "execution_count": 22,
   "id": "b503d6e5",
   "metadata": {
    "execution": {
     "iopub.execute_input": "2021-10-01T17:00:53.374694Z",
     "iopub.status.busy": "2021-10-01T17:00:53.374066Z",
     "iopub.status.idle": "2021-10-01T17:00:53.379613Z",
     "shell.execute_reply": "2021-10-01T17:00:53.380055Z",
     "shell.execute_reply.started": "2021-10-01T15:49:27.413490Z"
    },
    "papermill": {
     "duration": 0.065786,
     "end_time": "2021-10-01T17:00:53.380224",
     "exception": false,
     "start_time": "2021-10-01T17:00:53.314438",
     "status": "completed"
    },
    "tags": []
   },
   "outputs": [
    {
     "data": {
      "text/plain": [
       "array([[0.65, 0.07],\n",
       "       [0.12, 0.15]])"
      ]
     },
     "execution_count": 22,
     "metadata": {},
     "output_type": "execute_result"
    }
   ],
   "source": [
    "# Confusion Matrix in percentage Form\n",
    "(confusion_matrix / confusion_matrix.sum()).round(2)"
   ]
  },
  {
   "cell_type": "markdown",
   "id": "42de2b93",
   "metadata": {
    "papermill": {
     "duration": 0.057269,
     "end_time": "2021-10-01T17:00:53.495204",
     "exception": false,
     "start_time": "2021-10-01T17:00:53.437935",
     "status": "completed"
    },
    "tags": []
   },
   "source": [
    "## 6. Precision and Recall"
   ]
  },
  {
   "cell_type": "code",
   "execution_count": 23,
   "id": "7289a770",
   "metadata": {
    "execution": {
     "iopub.execute_input": "2021-10-01T17:00:53.617170Z",
     "iopub.status.busy": "2021-10-01T17:00:53.616351Z",
     "iopub.status.idle": "2021-10-01T17:00:53.619444Z",
     "shell.execute_reply": "2021-10-01T17:00:53.619920Z",
     "shell.execute_reply.started": "2021-10-01T15:49:27.426900Z"
    },
    "papermill": {
     "duration": 0.066414,
     "end_time": "2021-10-01T17:00:53.620090",
     "exception": false,
     "start_time": "2021-10-01T17:00:53.553676",
     "status": "completed"
    },
    "tags": []
   },
   "outputs": [
    {
     "data": {
      "text/plain": [
       "0.6752411575562701"
      ]
     },
     "execution_count": 23,
     "metadata": {},
     "output_type": "execute_result"
    }
   ],
   "source": [
    "# Precision\n",
    "p = tp / (tp + fp)\n",
    "p"
   ]
  },
  {
   "cell_type": "code",
   "execution_count": 24,
   "id": "c36bba74",
   "metadata": {
    "execution": {
     "iopub.execute_input": "2021-10-01T17:00:53.739761Z",
     "iopub.status.busy": "2021-10-01T17:00:53.738625Z",
     "iopub.status.idle": "2021-10-01T17:00:53.744354Z",
     "shell.execute_reply": "2021-10-01T17:00:53.744821Z",
     "shell.execute_reply.started": "2021-10-01T15:49:27.440859Z"
    },
    "papermill": {
     "duration": 0.06698,
     "end_time": "2021-10-01T17:00:53.745001",
     "exception": false,
     "start_time": "2021-10-01T17:00:53.678021",
     "status": "completed"
    },
    "tags": []
   },
   "outputs": [
    {
     "data": {
      "text/plain": [
       "0.5440414507772021"
      ]
     },
     "execution_count": 24,
     "metadata": {},
     "output_type": "execute_result"
    }
   ],
   "source": [
    "# Recull\n",
    "r = tp / (tp + fn)\n",
    "r"
   ]
  },
  {
   "cell_type": "code",
   "execution_count": 25,
   "id": "4a1e2848",
   "metadata": {
    "execution": {
     "iopub.execute_input": "2021-10-01T17:00:53.892021Z",
     "iopub.status.busy": "2021-10-01T17:00:53.891054Z",
     "iopub.status.idle": "2021-10-01T17:00:53.896152Z",
     "shell.execute_reply": "2021-10-01T17:00:53.896669Z",
     "shell.execute_reply.started": "2021-10-01T15:49:27.452485Z"
    },
    "papermill": {
     "duration": 0.076119,
     "end_time": "2021-10-01T17:00:53.896861",
     "exception": false,
     "start_time": "2021-10-01T17:00:53.820742",
     "status": "completed"
    },
    "tags": []
   },
   "outputs": [
    {
     "data": {
      "text/plain": [
       "386"
      ]
     },
     "execution_count": 25,
     "metadata": {},
     "output_type": "execute_result"
    }
   ],
   "source": [
    "tp + fn"
   ]
  },
  {
   "cell_type": "markdown",
   "id": "10846027",
   "metadata": {
    "papermill": {
     "duration": 0.065153,
     "end_time": "2021-10-01T17:00:54.021778",
     "exception": false,
     "start_time": "2021-10-01T17:00:53.956625",
     "status": "completed"
    },
    "tags": []
   },
   "source": [
    "## 7. ROC Curves"
   ]
  },
  {
   "cell_type": "markdown",
   "id": "8539be2f",
   "metadata": {
    "papermill": {
     "duration": 0.063133,
     "end_time": "2021-10-01T17:00:54.150005",
     "exception": false,
     "start_time": "2021-10-01T17:00:54.086872",
     "status": "completed"
    },
    "tags": []
   },
   "source": [
    "### 7.1 TPR and FRP"
   ]
  },
  {
   "cell_type": "code",
   "execution_count": 26,
   "id": "93c7cd7b",
   "metadata": {
    "execution": {
     "iopub.execute_input": "2021-10-01T17:00:54.273668Z",
     "iopub.status.busy": "2021-10-01T17:00:54.272858Z",
     "iopub.status.idle": "2021-10-01T17:00:54.279720Z",
     "shell.execute_reply": "2021-10-01T17:00:54.280163Z",
     "shell.execute_reply.started": "2021-10-01T15:49:27.465111Z"
    },
    "papermill": {
     "duration": 0.070309,
     "end_time": "2021-10-01T17:00:54.280359",
     "exception": false,
     "start_time": "2021-10-01T17:00:54.210050",
     "status": "completed"
    },
    "tags": []
   },
   "outputs": [
    {
     "data": {
      "text/plain": [
       "0.5440414507772021"
      ]
     },
     "execution_count": 26,
     "metadata": {},
     "output_type": "execute_result"
    }
   ],
   "source": [
    "# TPR\n",
    "tpr = tp / (tp + fn)\n",
    "tpr"
   ]
  },
  {
   "cell_type": "code",
   "execution_count": 27,
   "id": "4bbf48a3",
   "metadata": {
    "execution": {
     "iopub.execute_input": "2021-10-01T17:00:54.405234Z",
     "iopub.status.busy": "2021-10-01T17:00:54.404340Z",
     "iopub.status.idle": "2021-10-01T17:00:54.408605Z",
     "shell.execute_reply": "2021-10-01T17:00:54.407935Z",
     "shell.execute_reply.started": "2021-10-01T15:49:27.482028Z"
    },
    "papermill": {
     "duration": 0.068564,
     "end_time": "2021-10-01T17:00:54.408747",
     "exception": false,
     "start_time": "2021-10-01T17:00:54.340183",
     "status": "completed"
    },
    "tags": []
   },
   "outputs": [
    {
     "data": {
      "text/plain": [
       "0.09872922776148582"
      ]
     },
     "execution_count": 27,
     "metadata": {},
     "output_type": "execute_result"
    }
   ],
   "source": [
    "# FPR\n",
    "fpr = fp / (fp + tn)\n",
    "fpr"
   ]
  },
  {
   "cell_type": "code",
   "execution_count": 28,
   "id": "ef0be002",
   "metadata": {
    "execution": {
     "iopub.execute_input": "2021-10-01T17:00:54.538590Z",
     "iopub.status.busy": "2021-10-01T17:00:54.537872Z",
     "iopub.status.idle": "2021-10-01T17:00:54.543861Z",
     "shell.execute_reply": "2021-10-01T17:00:54.544408Z",
     "shell.execute_reply.started": "2021-10-01T15:49:27.495259Z"
    },
    "papermill": {
     "duration": 0.076131,
     "end_time": "2021-10-01T17:00:54.544584",
     "exception": false,
     "start_time": "2021-10-01T17:00:54.468453",
     "status": "completed"
    },
    "tags": []
   },
   "outputs": [],
   "source": [
    "scores = []\n",
    "\n",
    "thresholds = np.linspace(0, 1, 101)\n",
    "\n",
    "for t in thresholds:\n",
    "    actual_positive = (y_val == 1)\n",
    "    actual_negative = (y_val == 0)\n",
    "    \n",
    "    predict_positive = (y_pred >= t)\n",
    "    predict_negative = (y_pred < t)\n",
    "\n",
    "    tp = (predict_positive & actual_positive).sum()\n",
    "    tn = (predict_negative & actual_negative).sum()\n",
    "\n",
    "    fp = (predict_positive & actual_negative).sum()\n",
    "    fn = (predict_negative & actual_positive).sum()\n",
    "    \n",
    "    scores.append((t, tp, fp, fn, tn))"
   ]
  },
  {
   "cell_type": "code",
   "execution_count": 29,
   "id": "967ef453",
   "metadata": {
    "execution": {
     "iopub.execute_input": "2021-10-01T17:00:54.672577Z",
     "iopub.status.busy": "2021-10-01T17:00:54.667276Z",
     "iopub.status.idle": "2021-10-01T17:00:54.674363Z",
     "shell.execute_reply": "2021-10-01T17:00:54.674813Z",
     "shell.execute_reply.started": "2021-10-01T15:49:27.512081Z"
    },
    "papermill": {
     "duration": 0.071114,
     "end_time": "2021-10-01T17:00:54.674993",
     "exception": false,
     "start_time": "2021-10-01T17:00:54.603879",
     "status": "completed"
    },
    "tags": []
   },
   "outputs": [],
   "source": [
    "columns = ['threshold', 'tp', 'fp', 'fn', 'tn']\n",
    "df_scores = pd.DataFrame(scores, columns=columns)\n",
    "\n",
    "df_scores['tpr'] = df_scores.tp / (df_scores.tp + df_scores.fn)\n",
    "df_scores['fpr'] = df_scores.fp / (df_scores.fp + df_scores.tn)"
   ]
  },
  {
   "cell_type": "code",
   "execution_count": 30,
   "id": "f3cea7ac",
   "metadata": {
    "execution": {
     "iopub.execute_input": "2021-10-01T17:00:54.795116Z",
     "iopub.status.busy": "2021-10-01T17:00:54.794485Z",
     "iopub.status.idle": "2021-10-01T17:00:55.034496Z",
     "shell.execute_reply": "2021-10-01T17:00:55.033913Z",
     "shell.execute_reply.started": "2021-10-01T15:49:27.525549Z"
    },
    "papermill": {
     "duration": 0.300974,
     "end_time": "2021-10-01T17:00:55.034633",
     "exception": false,
     "start_time": "2021-10-01T17:00:54.733659",
     "status": "completed"
    },
    "tags": []
   },
   "outputs": [
    {
     "data": {
      "text/plain": [
       "<matplotlib.legend.Legend at 0x7f4617d3a710>"
      ]
     },
     "execution_count": 30,
     "metadata": {},
     "output_type": "execute_result"
    },
    {
     "data": {
      "image/png": "[encoded data removed]",
      "text/plain": [
       "<Figure size 432x288 with 1 Axes>"
      ]
     },
     "metadata": {
      "needs_background": "light"
     },
     "output_type": "display_data"
    }
   ],
   "source": [
    "plt.plot(df_scores.threshold, df_scores['tpr'], label='TPR')\n",
    "plt.plot(df_scores.threshold, df_scores['fpr'], label='FPR')\n",
    "plt.legend()"
   ]
  },
  {
   "cell_type": "markdown",
   "id": "793005c3",
   "metadata": {
    "papermill": {
     "duration": 0.060532,
     "end_time": "2021-10-01T17:00:55.156682",
     "exception": false,
     "start_time": "2021-10-01T17:00:55.096150",
     "status": "completed"
    },
    "tags": []
   },
   "source": [
    "### 7.2 Random model"
   ]
  },
  {
   "cell_type": "code",
   "execution_count": 31,
   "id": "ca136f17",
   "metadata": {
    "execution": {
     "iopub.execute_input": "2021-10-01T17:00:55.284907Z",
     "iopub.status.busy": "2021-10-01T17:00:55.283818Z",
     "iopub.status.idle": "2021-10-01T17:00:55.287273Z",
     "shell.execute_reply": "2021-10-01T17:00:55.287771Z",
     "shell.execute_reply.started": "2021-10-01T15:49:27.782399Z"
    },
    "papermill": {
     "duration": 0.070994,
     "end_time": "2021-10-01T17:00:55.287948",
     "exception": false,
     "start_time": "2021-10-01T17:00:55.216954",
     "status": "completed"
    },
    "tags": []
   },
   "outputs": [
    {
     "data": {
      "text/plain": [
       "0.5017743080198722"
      ]
     },
     "execution_count": 31,
     "metadata": {},
     "output_type": "execute_result"
    }
   ],
   "source": [
    "np.random.seed(1)\n",
    "y_rand = np.random.uniform(0, 1, size=len(y_val))\n",
    "((y_rand >= 0.5) == y_val).mean()"
   ]
  },
  {
   "cell_type": "code",
   "execution_count": 32,
   "id": "1ff391fd",
   "metadata": {
    "execution": {
     "iopub.execute_input": "2021-10-01T17:00:55.413165Z",
     "iopub.status.busy": "2021-10-01T17:00:55.412179Z",
     "iopub.status.idle": "2021-10-01T17:00:55.420780Z",
     "shell.execute_reply": "2021-10-01T17:00:55.421268Z",
     "shell.execute_reply.started": "2021-10-01T15:49:27.792689Z"
    },
    "papermill": {
     "duration": 0.07202,
     "end_time": "2021-10-01T17:00:55.421473",
     "exception": false,
     "start_time": "2021-10-01T17:00:55.349453",
     "status": "completed"
    },
    "tags": []
   },
   "outputs": [],
   "source": [
    "def tpr_fpr_dataframe(y_val, y_pred):\n",
    "    scores = []\n",
    "\n",
    "    thresholds = np.linspace(0, 1, 101)\n",
    "\n",
    "    for t in thresholds:\n",
    "        actual_positive = (y_val == 1)\n",
    "        actual_negative = (y_val == 0)\n",
    "\n",
    "        predict_positive = (y_pred >= t)\n",
    "        predict_negative = (y_pred < t)\n",
    "\n",
    "        tp = (predict_positive & actual_positive).sum()\n",
    "        tn = (predict_negative & actual_negative).sum()\n",
    "\n",
    "        fp = (predict_positive & actual_negative).sum()\n",
    "        fn = (predict_negative & actual_positive).sum()\n",
    "\n",
    "        scores.append((t, tp, fp, fn, tn))\n",
    "\n",
    "    columns = ['threshold', 'tp', 'fp', 'fn', 'tn']\n",
    "    df_scores = pd.DataFrame(scores, columns=columns)\n",
    "\n",
    "    df_scores['tpr'] = df_scores.tp / (df_scores.tp + df_scores.fn)\n",
    "    df_scores['fpr'] = df_scores.fp / (df_scores.fp + df_scores.tn)\n",
    "    \n",
    "    return df_scores"
   ]
  },
  {
   "cell_type": "code",
   "execution_count": 33,
   "id": "d0f5e589",
   "metadata": {
    "execution": {
     "iopub.execute_input": "2021-10-01T17:00:55.548348Z",
     "iopub.status.busy": "2021-10-01T17:00:55.547669Z",
     "iopub.status.idle": "2021-10-01T17:00:55.788002Z",
     "shell.execute_reply": "2021-10-01T17:00:55.787499Z",
     "shell.execute_reply.started": "2021-10-01T15:49:27.808452Z"
    },
    "papermill": {
     "duration": 0.30524,
     "end_time": "2021-10-01T17:00:55.788143",
     "exception": false,
     "start_time": "2021-10-01T17:00:55.482903",
     "status": "completed"
    },
    "tags": []
   },
   "outputs": [
    {
     "data": {
      "text/plain": [
       "<matplotlib.legend.Legend at 0x7f460d7e2690>"
      ]
     },
     "execution_count": 33,
     "metadata": {},
     "output_type": "execute_result"
    },
    {
     "data": {
      "image/png": "[encoded data removed]",
      "text/plain": [
       "<Figure size 432x288 with 1 Axes>"
      ]
     },
     "metadata": {
      "needs_background": "light"
     },
     "output_type": "display_data"
    }
   ],
   "source": [
    "df_rand = tpr_fpr_dataframe(y_val, y_rand)\n",
    "plt.plot(df_rand.threshold, df_rand['tpr'], label='TPR')\n",
    "plt.plot(df_rand.threshold, df_rand['fpr'], label='FPR')\n",
    "plt.legend()"
   ]
  },
  {
   "cell_type": "markdown",
   "id": "092937c5",
   "metadata": {
    "papermill": {
     "duration": 0.061768,
     "end_time": "2021-10-01T17:00:55.911613",
     "exception": false,
     "start_time": "2021-10-01T17:00:55.849845",
     "status": "completed"
    },
    "tags": []
   },
   "source": [
    "### 7.3 Ideal model"
   ]
  },
  {
   "cell_type": "code",
   "execution_count": 34,
   "id": "b83556b0",
   "metadata": {
    "execution": {
     "iopub.execute_input": "2021-10-01T17:00:56.041587Z",
     "iopub.status.busy": "2021-10-01T17:00:56.040922Z",
     "iopub.status.idle": "2021-10-01T17:00:56.044662Z",
     "shell.execute_reply": "2021-10-01T17:00:56.044123Z",
     "shell.execute_reply.started": "2021-10-01T15:49:28.071530Z"
    },
    "papermill": {
     "duration": 0.070821,
     "end_time": "2021-10-01T17:00:56.044798",
     "exception": false,
     "start_time": "2021-10-01T17:00:55.973977",
     "status": "completed"
    },
    "tags": []
   },
   "outputs": [
    {
     "data": {
      "text/plain": [
       "(1023, 386)"
      ]
     },
     "execution_count": 34,
     "metadata": {},
     "output_type": "execute_result"
    }
   ],
   "source": [
    "num_neg = (y_val == 0).sum()\n",
    "num_pos = (y_val == 1).sum()\n",
    "num_neg, num_pos"
   ]
  },
  {
   "cell_type": "code",
   "execution_count": 35,
   "id": "f407e4bf",
   "metadata": {
    "execution": {
     "iopub.execute_input": "2021-10-01T17:00:56.174736Z",
     "iopub.status.busy": "2021-10-01T17:00:56.174056Z",
     "iopub.status.idle": "2021-10-01T17:00:56.176996Z",
     "shell.execute_reply": "2021-10-01T17:00:56.176476Z",
     "shell.execute_reply.started": "2021-10-01T15:49:28.080276Z"
    },
    "papermill": {
     "duration": 0.06973,
     "end_time": "2021-10-01T17:00:56.177128",
     "exception": false,
     "start_time": "2021-10-01T17:00:56.107398",
     "status": "completed"
    },
    "tags": []
   },
   "outputs": [],
   "source": [
    "y_ideal = np.repeat([0, 1], [num_neg, num_pos])\n",
    "y_ideal_pred = np.linspace(0, 1, len(y_val))"
   ]
  },
  {
   "cell_type": "code",
   "execution_count": 36,
   "id": "4411e9c1",
   "metadata": {
    "execution": {
     "iopub.execute_input": "2021-10-01T17:00:56.306435Z",
     "iopub.status.busy": "2021-10-01T17:00:56.305747Z",
     "iopub.status.idle": "2021-10-01T17:00:56.310243Z",
     "shell.execute_reply": "2021-10-01T17:00:56.309629Z",
     "shell.execute_reply.started": "2021-10-01T15:49:28.093581Z"
    },
    "papermill": {
     "duration": 0.071482,
     "end_time": "2021-10-01T17:00:56.310393",
     "exception": false,
     "start_time": "2021-10-01T17:00:56.238911",
     "status": "completed"
    },
    "tags": []
   },
   "outputs": [
    {
     "data": {
      "text/plain": [
       "0.7260468417317246"
      ]
     },
     "execution_count": 36,
     "metadata": {},
     "output_type": "execute_result"
    }
   ],
   "source": [
    "1 - y_val.mean()"
   ]
  },
  {
   "cell_type": "code",
   "execution_count": 37,
   "id": "903e7991",
   "metadata": {
    "execution": {
     "iopub.execute_input": "2021-10-01T17:00:56.440259Z",
     "iopub.status.busy": "2021-10-01T17:00:56.437489Z",
     "iopub.status.idle": "2021-10-01T17:00:56.444290Z",
     "shell.execute_reply": "2021-10-01T17:00:56.443754Z",
     "shell.execute_reply.started": "2021-10-01T15:49:28.108368Z"
    },
    "papermill": {
     "duration": 0.072,
     "end_time": "2021-10-01T17:00:56.444440",
     "exception": false,
     "start_time": "2021-10-01T17:00:56.372440",
     "status": "completed"
    },
    "tags": []
   },
   "outputs": [
    {
     "data": {
      "text/plain": [
       "1.0"
      ]
     },
     "execution_count": 37,
     "metadata": {},
     "output_type": "execute_result"
    }
   ],
   "source": [
    "accuracy_score(y_ideal, y_ideal_pred >= 0.726)"
   ]
  },
  {
   "cell_type": "code",
   "execution_count": 38,
   "id": "d3c83224",
   "metadata": {
    "execution": {
     "iopub.execute_input": "2021-10-01T17:00:56.578743Z",
     "iopub.status.busy": "2021-10-01T17:00:56.572826Z",
     "iopub.status.idle": "2021-10-01T17:00:56.598740Z",
     "shell.execute_reply": "2021-10-01T17:00:56.599234Z",
     "shell.execute_reply.started": "2021-10-01T15:49:28.124715Z"
    },
    "papermill": {
     "duration": 0.09279,
     "end_time": "2021-10-01T17:00:56.599434",
     "exception": false,
     "start_time": "2021-10-01T17:00:56.506644",
     "status": "completed"
    },
    "tags": []
   },
   "outputs": [
    {
     "data": {
      "text/html": [
       "<div>\n",
       "<style scoped>\n",
       "    .dataframe tbody tr th:only-of-type {\n",
       "        vertical-align: middle;\n",
       "    }\n",
       "\n",
       "    .dataframe tbody tr th {\n",
       "        vertical-align: top;\n",
       "    }\n",
       "\n",
       "    .dataframe thead th {\n",
       "        text-align: right;\n",
       "    }\n",
       "</style>\n",
       "<table border=\"1\" class=\"dataframe\">\n",
       "  <thead>\n",
       "    <tr style=\"text-align: right;\">\n",
       "      <th></th>\n",
       "      <th>threshold</th>\n",
       "      <th>tp</th>\n",
       "      <th>fp</th>\n",
       "      <th>fn</th>\n",
       "      <th>tn</th>\n",
       "      <th>tpr</th>\n",
       "      <th>fpr</th>\n",
       "    </tr>\n",
       "  </thead>\n",
       "  <tbody>\n",
       "    <tr>\n",
       "      <th>0</th>\n",
       "      <td>0.0</td>\n",
       "      <td>386</td>\n",
       "      <td>1023</td>\n",
       "      <td>0</td>\n",
       "      <td>0</td>\n",
       "      <td>1.000000</td>\n",
       "      <td>1.000000</td>\n",
       "    </tr>\n",
       "    <tr>\n",
       "      <th>10</th>\n",
       "      <td>0.1</td>\n",
       "      <td>386</td>\n",
       "      <td>882</td>\n",
       "      <td>0</td>\n",
       "      <td>141</td>\n",
       "      <td>1.000000</td>\n",
       "      <td>0.862170</td>\n",
       "    </tr>\n",
       "    <tr>\n",
       "      <th>20</th>\n",
       "      <td>0.2</td>\n",
       "      <td>386</td>\n",
       "      <td>741</td>\n",
       "      <td>0</td>\n",
       "      <td>282</td>\n",
       "      <td>1.000000</td>\n",
       "      <td>0.724340</td>\n",
       "    </tr>\n",
       "    <tr>\n",
       "      <th>30</th>\n",
       "      <td>0.3</td>\n",
       "      <td>386</td>\n",
       "      <td>600</td>\n",
       "      <td>0</td>\n",
       "      <td>423</td>\n",
       "      <td>1.000000</td>\n",
       "      <td>0.586510</td>\n",
       "    </tr>\n",
       "    <tr>\n",
       "      <th>40</th>\n",
       "      <td>0.4</td>\n",
       "      <td>386</td>\n",
       "      <td>459</td>\n",
       "      <td>0</td>\n",
       "      <td>564</td>\n",
       "      <td>1.000000</td>\n",
       "      <td>0.448680</td>\n",
       "    </tr>\n",
       "    <tr>\n",
       "      <th>50</th>\n",
       "      <td>0.5</td>\n",
       "      <td>386</td>\n",
       "      <td>319</td>\n",
       "      <td>0</td>\n",
       "      <td>704</td>\n",
       "      <td>1.000000</td>\n",
       "      <td>0.311828</td>\n",
       "    </tr>\n",
       "    <tr>\n",
       "      <th>60</th>\n",
       "      <td>0.6</td>\n",
       "      <td>386</td>\n",
       "      <td>178</td>\n",
       "      <td>0</td>\n",
       "      <td>845</td>\n",
       "      <td>1.000000</td>\n",
       "      <td>0.173998</td>\n",
       "    </tr>\n",
       "    <tr>\n",
       "      <th>70</th>\n",
       "      <td>0.7</td>\n",
       "      <td>386</td>\n",
       "      <td>37</td>\n",
       "      <td>0</td>\n",
       "      <td>986</td>\n",
       "      <td>1.000000</td>\n",
       "      <td>0.036168</td>\n",
       "    </tr>\n",
       "    <tr>\n",
       "      <th>80</th>\n",
       "      <td>0.8</td>\n",
       "      <td>282</td>\n",
       "      <td>0</td>\n",
       "      <td>104</td>\n",
       "      <td>1023</td>\n",
       "      <td>0.730570</td>\n",
       "      <td>0.000000</td>\n",
       "    </tr>\n",
       "    <tr>\n",
       "      <th>90</th>\n",
       "      <td>0.9</td>\n",
       "      <td>141</td>\n",
       "      <td>0</td>\n",
       "      <td>245</td>\n",
       "      <td>1023</td>\n",
       "      <td>0.365285</td>\n",
       "      <td>0.000000</td>\n",
       "    </tr>\n",
       "    <tr>\n",
       "      <th>100</th>\n",
       "      <td>1.0</td>\n",
       "      <td>1</td>\n",
       "      <td>0</td>\n",
       "      <td>385</td>\n",
       "      <td>1023</td>\n",
       "      <td>0.002591</td>\n",
       "      <td>0.000000</td>\n",
       "    </tr>\n",
       "  </tbody>\n",
       "</table>\n",
       "</div>"
      ],
      "text/plain": [
       "     threshold   tp    fp   fn    tn       tpr       fpr\n",
       "0          0.0  386  1023    0     0  1.000000  1.000000\n",
       "10         0.1  386   882    0   141  1.000000  0.862170\n",
       "20         0.2  386   741    0   282  1.000000  0.724340\n",
       "30         0.3  386   600    0   423  1.000000  0.586510\n",
       "40         0.4  386   459    0   564  1.000000  0.448680\n",
       "50         0.5  386   319    0   704  1.000000  0.311828\n",
       "60         0.6  386   178    0   845  1.000000  0.173998\n",
       "70         0.7  386    37    0   986  1.000000  0.036168\n",
       "80         0.8  282     0  104  1023  0.730570  0.000000\n",
       "90         0.9  141     0  245  1023  0.365285  0.000000\n",
       "100        1.0    1     0  385  1023  0.002591  0.000000"
      ]
     },
     "execution_count": 38,
     "metadata": {},
     "output_type": "execute_result"
    }
   ],
   "source": [
    "df_ideal = tpr_fpr_dataframe(y_ideal, y_ideal_pred)\n",
    "df_ideal[::10]"
   ]
  },
  {
   "cell_type": "code",
   "execution_count": 39,
   "id": "0f238638",
   "metadata": {
    "execution": {
     "iopub.execute_input": "2021-10-01T17:00:56.761267Z",
     "iopub.status.busy": "2021-10-01T17:00:56.749645Z",
     "iopub.status.idle": "2021-10-01T17:00:56.967123Z",
     "shell.execute_reply": "2021-10-01T17:00:56.966581Z",
     "shell.execute_reply.started": "2021-10-01T15:49:28.164494Z"
    },
    "papermill": {
     "duration": 0.304442,
     "end_time": "2021-10-01T17:00:56.967258",
     "exception": false,
     "start_time": "2021-10-01T17:00:56.662816",
     "status": "completed"
    },
    "tags": []
   },
   "outputs": [
    {
     "data": {
      "text/plain": [
       "<matplotlib.legend.Legend at 0x7f460d7ede50>"
      ]
     },
     "execution_count": 39,
     "metadata": {},
     "output_type": "execute_result"
    },
    {
     "data": {
      "image/png": "[encoded data removed]",
      "text/plain": [
       "<Figure size 432x288 with 1 Axes>"
      ]
     },
     "metadata": {
      "needs_background": "light"
     },
     "output_type": "display_data"
    }
   ],
   "source": [
    "plt.plot(df_ideal.threshold, df_ideal['tpr'], label='TPR')\n",
    "plt.plot(df_ideal.threshold, df_ideal['fpr'], label='FPR')\n",
    "plt.legend()"
   ]
  },
  {
   "cell_type": "markdown",
   "id": "81b6d669",
   "metadata": {
    "papermill": {
     "duration": 0.065003,
     "end_time": "2021-10-01T17:00:57.100836",
     "exception": false,
     "start_time": "2021-10-01T17:00:57.035833",
     "status": "completed"
    },
    "tags": []
   },
   "source": [
    "### 7.4 Putting everything together"
   ]
  },
  {
   "cell_type": "code",
   "execution_count": 40,
   "id": "a0da40d1",
   "metadata": {
    "execution": {
     "iopub.execute_input": "2021-10-01T17:00:57.374963Z",
     "iopub.status.busy": "2021-10-01T17:00:57.374279Z",
     "iopub.status.idle": "2021-10-01T17:00:57.602434Z",
     "shell.execute_reply": "2021-10-01T17:00:57.602915Z",
     "shell.execute_reply.started": "2021-10-01T15:49:28.422377Z"
    },
    "papermill": {
     "duration": 0.437763,
     "end_time": "2021-10-01T17:00:57.603097",
     "exception": false,
     "start_time": "2021-10-01T17:00:57.165334",
     "status": "completed"
    },
    "tags": []
   },
   "outputs": [
    {
     "data": {
      "text/plain": [
       "<matplotlib.legend.Legend at 0x7f460cf7ead0>"
      ]
     },
     "execution_count": 40,
     "metadata": {},
     "output_type": "execute_result"
    },
    {
     "data": {
      "image/png": "[encoded data removed]",
      "text/plain": [
       "<Figure size 432x288 with 1 Axes>"
      ]
     },
     "metadata": {
      "needs_background": "light"
     },
     "output_type": "display_data"
    }
   ],
   "source": [
    "plt.plot(df_scores.threshold, df_scores['tpr'], label='TPR', color='black')\n",
    "plt.plot(df_scores.threshold, df_scores['fpr'], label='FPR', color='blue')\n",
    "\n",
    "plt.plot(df_ideal.threshold, df_ideal['tpr'], label='TPR ideal')\n",
    "plt.plot(df_ideal.threshold, df_ideal['fpr'], label='FPR ideal')\n",
    "\n",
    "# plt.plot(df_rand.threshold, df_rand['tpr'], label='TPR random', color='grey')\n",
    "# plt.plot(df_rand.threshold, df_rand['fpr'], label='FPR random', color='grey')\n",
    "\n",
    "plt.legend()"
   ]
  },
  {
   "cell_type": "code",
   "execution_count": 41,
   "id": "468afe9e",
   "metadata": {
    "execution": {
     "iopub.execute_input": "2021-10-01T17:00:57.761383Z",
     "iopub.status.busy": "2021-10-01T17:00:57.756741Z",
     "iopub.status.idle": "2021-10-01T17:00:57.984659Z",
     "shell.execute_reply": "2021-10-01T17:00:57.984120Z",
     "shell.execute_reply.started": "2021-10-01T15:49:28.886695Z"
    },
    "papermill": {
     "duration": 0.315345,
     "end_time": "2021-10-01T17:00:57.984814",
     "exception": false,
     "start_time": "2021-10-01T17:00:57.669469",
     "status": "completed"
    },
    "tags": []
   },
   "outputs": [
    {
     "data": {
      "text/plain": [
       "<matplotlib.legend.Legend at 0x7f460cf9b290>"
      ]
     },
     "execution_count": 41,
     "metadata": {},
     "output_type": "execute_result"
    },
    {
     "data": {
      "image/png": "[encoded data removed]",
      "text/plain": [
       "<Figure size 360x360 with 1 Axes>"
      ]
     },
     "metadata": {
      "needs_background": "light"
     },
     "output_type": "display_data"
    }
   ],
   "source": [
    "plt.figure(figsize=(5, 5))\n",
    "\n",
    "plt.plot(df_scores.fpr, df_scores.tpr, label='Model')\n",
    "plt.plot([0, 1], [0, 1], label='Random', linestyle='--')\n",
    "\n",
    "plt.xlabel('FPR')\n",
    "plt.ylabel('TPR')\n",
    "\n",
    "plt.legend()"
   ]
  },
  {
   "cell_type": "code",
   "execution_count": 42,
   "id": "0db4158f",
   "metadata": {
    "execution": {
     "iopub.execute_input": "2021-10-01T17:00:58.125920Z",
     "iopub.status.busy": "2021-10-01T17:00:58.125209Z",
     "iopub.status.idle": "2021-10-01T17:00:58.359686Z",
     "shell.execute_reply": "2021-10-01T17:00:58.359061Z",
     "shell.execute_reply.started": "2021-10-01T15:58:21.569651Z"
    },
    "papermill": {
     "duration": 0.307586,
     "end_time": "2021-10-01T17:00:58.359838",
     "exception": false,
     "start_time": "2021-10-01T17:00:58.052252",
     "status": "completed"
    },
    "tags": []
   },
   "outputs": [
    {
     "data": {
      "text/plain": [
       "<matplotlib.legend.Legend at 0x7f460ce8a590>"
      ]
     },
     "execution_count": 42,
     "metadata": {},
     "output_type": "execute_result"
    },
    {
     "data": {
      "image/png": "[encoded data removed]",
      "text/plain": [
       "<Figure size 360x360 with 1 Axes>"
      ]
     },
     "metadata": {
      "needs_background": "light"
     },
     "output_type": "display_data"
    }
   ],
   "source": [
    "from sklearn.metrics import roc_curve\n",
    "fpr, tpr, thresholds = roc_curve(y_val, y_pred)\n",
    "plt.figure(figsize=(5, 5))\n",
    "\n",
    "plt.plot(fpr, tpr, label='Model')\n",
    "plt.plot([0, 1], [0, 1], label='Random', linestyle='--')\n",
    "\n",
    "plt.xlabel('FPR')\n",
    "plt.ylabel('TPR')\n",
    "\n",
    "plt.legend()"
   ]
  },
  {
   "cell_type": "markdown",
   "id": "ad5fa794",
   "metadata": {
    "papermill": {
     "duration": 0.070975,
     "end_time": "2021-10-01T17:00:58.502674",
     "exception": false,
     "start_time": "2021-10-01T17:00:58.431699",
     "status": "completed"
    },
    "tags": []
   },
   "source": [
    "## 8. ROC AUC\n",
    "* Area under the ROC curve - useful metric\n",
    "* Interpretation of AUC"
   ]
  },
  {
   "cell_type": "code",
   "execution_count": 43,
   "id": "0cfb334e",
   "metadata": {
    "execution": {
     "iopub.execute_input": "2021-10-01T17:00:58.646646Z",
     "iopub.status.busy": "2021-10-01T17:00:58.645986Z",
     "iopub.status.idle": "2021-10-01T17:00:58.649174Z",
     "shell.execute_reply": "2021-10-01T17:00:58.648691Z",
     "shell.execute_reply.started": "2021-10-01T16:09:38.118986Z"
    },
    "papermill": {
     "duration": 0.075591,
     "end_time": "2021-10-01T17:00:58.649327",
     "exception": false,
     "start_time": "2021-10-01T17:00:58.573736",
     "status": "completed"
    },
    "tags": []
   },
   "outputs": [],
   "source": [
    "from sklearn.metrics import auc"
   ]
  },
  {
   "cell_type": "code",
   "execution_count": 44,
   "id": "10158ba7",
   "metadata": {
    "execution": {
     "iopub.execute_input": "2021-10-01T17:00:58.796424Z",
     "iopub.status.busy": "2021-10-01T17:00:58.795441Z",
     "iopub.status.idle": "2021-10-01T17:00:58.799344Z",
     "shell.execute_reply": "2021-10-01T17:00:58.798852Z",
     "shell.execute_reply.started": "2021-10-01T16:09:45.550980Z"
    },
    "papermill": {
     "duration": 0.079965,
     "end_time": "2021-10-01T17:00:58.799479",
     "exception": false,
     "start_time": "2021-10-01T17:00:58.719514",
     "status": "completed"
    },
    "tags": []
   },
   "outputs": [
    {
     "data": {
      "text/plain": [
       "0.8438732975754537"
      ]
     },
     "execution_count": 44,
     "metadata": {},
     "output_type": "execute_result"
    }
   ],
   "source": [
    "auc(fpr, tpr) # Score from implementation\n",
    "auc(df_scores.fpr, df_scores.tpr) #score from sklearn model"
   ]
  },
  {
   "cell_type": "code",
   "execution_count": 45,
   "id": "5f18739e",
   "metadata": {
    "execution": {
     "iopub.execute_input": "2021-10-01T17:00:58.943152Z",
     "iopub.status.busy": "2021-10-01T17:00:58.942524Z",
     "iopub.status.idle": "2021-10-01T17:00:58.944980Z",
     "shell.execute_reply": "2021-10-01T17:00:58.945465Z",
     "shell.execute_reply.started": "2021-10-01T16:10:30.475522Z"
    },
    "papermill": {
     "duration": 0.076764,
     "end_time": "2021-10-01T17:00:58.945620",
     "exception": false,
     "start_time": "2021-10-01T17:00:58.868856",
     "status": "completed"
    },
    "tags": []
   },
   "outputs": [
    {
     "data": {
      "text/plain": [
       "0.9999430203759136"
      ]
     },
     "execution_count": 45,
     "metadata": {},
     "output_type": "execute_result"
    }
   ],
   "source": [
    "auc(df_ideal.fpr, df_ideal.tpr) # score from ideal model"
   ]
  },
  {
   "cell_type": "code",
   "execution_count": 46,
   "id": "9165b4b5",
   "metadata": {
    "execution": {
     "iopub.execute_input": "2021-10-01T17:00:59.089778Z",
     "iopub.status.busy": "2021-10-01T17:00:59.089128Z",
     "iopub.status.idle": "2021-10-01T17:00:59.095847Z",
     "shell.execute_reply": "2021-10-01T17:00:59.095271Z",
     "shell.execute_reply.started": "2021-10-01T16:11:18.669473Z"
    },
    "papermill": {
     "duration": 0.078044,
     "end_time": "2021-10-01T17:00:59.095996",
     "exception": false,
     "start_time": "2021-10-01T17:00:59.017952",
     "status": "completed"
    },
    "tags": []
   },
   "outputs": [
    {
     "data": {
      "text/plain": [
       "0.8438454408703447"
      ]
     },
     "execution_count": 46,
     "metadata": {},
     "output_type": "execute_result"
    }
   ],
   "source": [
    "fpr, tpr, thresholds = roc_curve(y_val, y_pred)\n",
    "auc(fpr, tpr) # Calculating auc from fpr and tpr generated from previous step"
   ]
  },
  {
   "cell_type": "code",
   "execution_count": 47,
   "id": "302bc665",
   "metadata": {
    "execution": {
     "iopub.execute_input": "2021-10-01T17:00:59.241960Z",
     "iopub.status.busy": "2021-10-01T17:00:59.241245Z",
     "iopub.status.idle": "2021-10-01T17:00:59.247137Z",
     "shell.execute_reply": "2021-10-01T17:00:59.246558Z",
     "shell.execute_reply.started": "2021-10-01T16:12:25.395858Z"
    },
    "papermill": {
     "duration": 0.081683,
     "end_time": "2021-10-01T17:00:59.247273",
     "exception": false,
     "start_time": "2021-10-01T17:00:59.165590",
     "status": "completed"
    },
    "tags": []
   },
   "outputs": [
    {
     "data": {
      "text/plain": [
       "0.8438454408703447"
      ]
     },
     "execution_count": 47,
     "metadata": {},
     "output_type": "execute_result"
    }
   ],
   "source": [
    "from sklearn.metrics import roc_auc_score\n",
    "roc_auc_score(y_val, y_pred) # Calculate area under curve directly"
   ]
  },
  {
   "cell_type": "code",
   "execution_count": 48,
   "id": "830776a0",
   "metadata": {
    "execution": {
     "iopub.execute_input": "2021-10-01T17:00:59.389466Z",
     "iopub.status.busy": "2021-10-01T17:00:59.388823Z",
     "iopub.status.idle": "2021-10-01T17:00:59.392788Z",
     "shell.execute_reply": "2021-10-01T17:00:59.393256Z",
     "shell.execute_reply.started": "2021-10-01T16:16:25.435157Z"
    },
    "papermill": {
     "duration": 0.076614,
     "end_time": "2021-10-01T17:00:59.393434",
     "exception": false,
     "start_time": "2021-10-01T17:00:59.316820",
     "status": "completed"
    },
    "tags": []
   },
   "outputs": [],
   "source": [
    "neg = y_pred[y_val == 0] # Score for negative exemples\n",
    "pos = y_pred[y_val == 1] # Score for positive exemples"
   ]
  },
  {
   "cell_type": "code",
   "execution_count": 49,
   "id": "26367252",
   "metadata": {
    "execution": {
     "iopub.execute_input": "2021-10-01T17:00:59.535539Z",
     "iopub.status.busy": "2021-10-01T17:00:59.534914Z",
     "iopub.status.idle": "2021-10-01T17:00:59.537880Z",
     "shell.execute_reply": "2021-10-01T17:00:59.538379Z",
     "shell.execute_reply.started": "2021-10-01T16:17:34.821013Z"
    },
    "papermill": {
     "duration": 0.075667,
     "end_time": "2021-10-01T17:00:59.538546",
     "exception": false,
     "start_time": "2021-10-01T17:00:59.462879",
     "status": "completed"
    },
    "tags": []
   },
   "outputs": [],
   "source": [
    "import random"
   ]
  },
  {
   "cell_type": "code",
   "execution_count": 50,
   "id": "b08df9cf",
   "metadata": {
    "execution": {
     "iopub.execute_input": "2021-10-01T17:00:59.681555Z",
     "iopub.status.busy": "2021-10-01T17:00:59.680921Z",
     "iopub.status.idle": "2021-10-01T17:01:00.232177Z",
     "shell.execute_reply": "2021-10-01T17:01:00.232716Z",
     "shell.execute_reply.started": "2021-10-01T16:17:40.415466Z"
    },
    "papermill": {
     "duration": 0.623845,
     "end_time": "2021-10-01T17:01:00.232896",
     "exception": false,
     "start_time": "2021-10-01T17:00:59.609051",
     "status": "completed"
    },
    "tags": []
   },
   "outputs": [
    {
     "data": {
      "text/plain": [
       "0.84459"
      ]
     },
     "execution_count": 50,
     "metadata": {},
     "output_type": "execute_result"
    }
   ],
   "source": [
    "# Randomly selecting postive and negetive class and checking\n",
    "# If we get postive probability greater than negative probability we increment the score by 1\n",
    "\n",
    "n = 100000\n",
    "success = 0 \n",
    "\n",
    "for i in range(n):\n",
    "    pos_ind = random.randint(0, len(pos) - 1)\n",
    "    neg_ind = random.randint(0, len(neg) - 1)\n",
    "\n",
    "    if pos[pos_ind] > neg[neg_ind]:\n",
    "        success = success + 1\n",
    "\n",
    "success / n"
   ]
  },
  {
   "cell_type": "code",
   "execution_count": 51,
   "id": "da1df3b4",
   "metadata": {
    "execution": {
     "iopub.execute_input": "2021-10-01T17:01:00.380022Z",
     "iopub.status.busy": "2021-10-01T17:01:00.376925Z",
     "iopub.status.idle": "2021-10-01T17:01:00.386970Z",
     "shell.execute_reply": "2021-10-01T17:01:00.386413Z",
     "shell.execute_reply.started": "2021-10-01T16:17:56.965843Z"
    },
    "papermill": {
     "duration": 0.083395,
     "end_time": "2021-10-01T17:01:00.387137",
     "exception": false,
     "start_time": "2021-10-01T17:01:00.303742",
     "status": "completed"
    },
    "tags": []
   },
   "outputs": [
    {
     "data": {
      "text/plain": [
       "0.84646"
      ]
     },
     "execution_count": 51,
     "metadata": {},
     "output_type": "execute_result"
    }
   ],
   "source": [
    "n = 50000\n",
    "\n",
    "np.random.seed(1)\n",
    "pos_ind = np.random.randint(0, len(pos), size=n)\n",
    "neg_ind = np.random.randint(0, len(neg), size=n)\n",
    "\n",
    "(pos[pos_ind] > neg[neg_ind]).mean()"
   ]
  },
  {
   "cell_type": "markdown",
   "id": "4e66613e",
   "metadata": {
    "papermill": {
     "duration": 0.069623,
     "end_time": "2021-10-01T17:01:00.527177",
     "exception": false,
     "start_time": "2021-10-01T17:01:00.457554",
     "status": "completed"
    },
    "tags": []
   },
   "source": [
    "## 9. Cross-Validation\n",
    "* Evaluating the same model on different subsets of data\n",
    "* Getting the average prediction and the spread within predictions"
   ]
  },
  {
   "cell_type": "code",
   "execution_count": 52,
   "id": "afab78dc",
   "metadata": {
    "execution": {
     "iopub.execute_input": "2021-10-01T17:01:00.672187Z",
     "iopub.status.busy": "2021-10-01T17:01:00.671572Z",
     "iopub.status.idle": "2021-10-01T17:01:00.676276Z",
     "shell.execute_reply": "2021-10-01T17:01:00.676863Z",
     "shell.execute_reply.started": "2021-10-01T16:36:03.500558Z"
    },
    "papermill": {
     "duration": 0.078478,
     "end_time": "2021-10-01T17:01:00.677038",
     "exception": false,
     "start_time": "2021-10-01T17:01:00.598560",
     "status": "completed"
    },
    "tags": []
   },
   "outputs": [],
   "source": [
    "def train(df_train, y_train, C=1.0):\n",
    "    dicts = df_train[categorical + numerical].to_dict(orient='records')\n",
    "\n",
    "    dv = DictVectorizer(sparse=False)\n",
    "    X_train = dv.fit_transform(dicts)\n",
    "\n",
    "    model = LogisticRegression(C=C, max_iter=1000)\n",
    "    model.fit(X_train, y_train)\n",
    "    \n",
    "    return dv, model"
   ]
  },
  {
   "cell_type": "code",
   "execution_count": 53,
   "id": "eb168f14",
   "metadata": {
    "execution": {
     "iopub.execute_input": "2021-10-01T17:01:00.823230Z",
     "iopub.status.busy": "2021-10-01T17:01:00.822524Z",
     "iopub.status.idle": "2021-10-01T17:01:01.132608Z",
     "shell.execute_reply": "2021-10-01T17:01:01.133534Z",
     "shell.execute_reply.started": "2021-10-01T16:36:30.530159Z"
    },
    "papermill": {
     "duration": 0.385193,
     "end_time": "2021-10-01T17:01:01.133825",
     "exception": false,
     "start_time": "2021-10-01T17:01:00.748632",
     "status": "completed"
    },
    "tags": []
   },
   "outputs": [],
   "source": [
    "dv, model = train(df_train, y_train, C=0.001)"
   ]
  },
  {
   "cell_type": "code",
   "execution_count": 54,
   "id": "cc4f56c2",
   "metadata": {
    "execution": {
     "iopub.execute_input": "2021-10-01T17:01:01.330938Z",
     "iopub.status.busy": "2021-10-01T17:01:01.328150Z",
     "iopub.status.idle": "2021-10-01T17:01:01.332711Z",
     "shell.execute_reply": "2021-10-01T17:01:01.333159Z",
     "shell.execute_reply.started": "2021-10-01T16:36:43.890756Z"
    },
    "papermill": {
     "duration": 0.078208,
     "end_time": "2021-10-01T17:01:01.333366",
     "exception": false,
     "start_time": "2021-10-01T17:01:01.255158",
     "status": "completed"
    },
    "tags": []
   },
   "outputs": [],
   "source": [
    "def predict(df, dv, model):\n",
    "    dicts = df[categorical + numerical].to_dict(orient='records')\n",
    "\n",
    "    X = dv.transform(dicts)\n",
    "    y_pred = model.predict_proba(X)[:, 1]\n",
    "\n",
    "    return y_pred"
   ]
  },
  {
   "cell_type": "code",
   "execution_count": 55,
   "id": "ef75d6f3",
   "metadata": {
    "execution": {
     "iopub.execute_input": "2021-10-01T17:01:01.477427Z",
     "iopub.status.busy": "2021-10-01T17:01:01.476765Z",
     "iopub.status.idle": "2021-10-01T17:01:01.554897Z",
     "shell.execute_reply": "2021-10-01T17:01:01.555733Z",
     "shell.execute_reply.started": "2021-10-01T16:37:04.761471Z"
    },
    "papermill": {
     "duration": 0.15205,
     "end_time": "2021-10-01T17:01:01.556034",
     "exception": false,
     "start_time": "2021-10-01T17:01:01.403984",
     "status": "completed"
    },
    "tags": []
   },
   "outputs": [],
   "source": [
    "y_pred = predict(df_val, dv, model)"
   ]
  },
  {
   "cell_type": "code",
   "execution_count": 56,
   "id": "e089c93b",
   "metadata": {
    "execution": {
     "iopub.execute_input": "2021-10-01T17:01:01.753881Z",
     "iopub.status.busy": "2021-10-01T17:01:01.753141Z",
     "iopub.status.idle": "2021-10-01T17:01:01.831796Z",
     "shell.execute_reply": "2021-10-01T17:01:01.831221Z",
     "shell.execute_reply.started": "2021-10-01T16:38:50.758662Z"
    },
    "papermill": {
     "duration": 0.153859,
     "end_time": "2021-10-01T17:01:01.831947",
     "exception": false,
     "start_time": "2021-10-01T17:01:01.678088",
     "status": "completed"
    },
    "tags": []
   },
   "outputs": [],
   "source": [
    "from sklearn.model_selection import KFold\n",
    "from tqdm.auto import tqdm"
   ]
  },
  {
   "cell_type": "code",
   "execution_count": 57,
   "id": "683b1418",
   "metadata": {
    "execution": {
     "iopub.execute_input": "2021-10-01T17:01:01.983360Z",
     "iopub.status.busy": "2021-10-01T17:01:01.982612Z",
     "iopub.status.idle": "2021-10-01T17:01:25.270296Z",
     "shell.execute_reply": "2021-10-01T17:01:25.271355Z",
     "shell.execute_reply.started": "2021-10-01T16:41:01.025196Z"
    },
    "papermill": {
     "duration": 23.368571,
     "end_time": "2021-10-01T17:01:25.271664",
     "exception": false,
     "start_time": "2021-10-01T17:01:01.903093",
     "status": "completed"
    },
    "tags": []
   },
   "outputs": [
    {
     "data": {
      "application/vnd.jupyter.widget-view+json": {
       "model_id": "c2962f96037345d2afc32837299cbef9",
       "version_major": 2,
       "version_minor": 0
      },
      "text/plain": [
       "  0%|          | 0/7 [00:00<?, ?it/s]"
      ]
     },
     "metadata": {},
     "output_type": "display_data"
    },
    {
     "name": "stdout",
     "output_type": "stream",
     "text": [
      "C=0.001 0.825 +- 0.009\n",
      "C=0.01 0.840 +- 0.009\n",
      "C=0.1 0.841 +- 0.008\n",
      "C=0.5 0.840 +- 0.007\n",
      "C=1 0.841 +- 0.008\n",
      "C=5 0.841 +- 0.007\n",
      "C=10 0.841 +- 0.008\n"
     ]
    }
   ],
   "source": [
    "n_splits = 5\n",
    "\n",
    "for C in tqdm([0.001, 0.01, 0.1, 0.5, 1, 5, 10]):\n",
    "    kfold = KFold(n_splits=n_splits, shuffle=True, random_state=1)\n",
    "\n",
    "    scores = []\n",
    "\n",
    "    for train_idx, val_idx in kfold.split(df_full_train):\n",
    "        df_train = df_full_train.iloc[train_idx]\n",
    "        df_val = df_full_train.iloc[val_idx]\n",
    "\n",
    "        y_train = df_train.churn.values\n",
    "        y_val = df_val.churn.values\n",
    "\n",
    "        dv, model = train(df_train, y_train, C=C)\n",
    "        y_pred = predict(df_val, dv, model)\n",
    "\n",
    "        auc = roc_auc_score(y_val, y_pred)\n",
    "        scores.append(auc)\n",
    "\n",
    "    print('C=%s %.3f +- %.3f' % (C, np.mean(scores), np.std(scores)))"
   ]
  },
  {
   "cell_type": "code",
   "execution_count": 58,
   "id": "32950789",
   "metadata": {
    "execution": {
     "iopub.execute_input": "2021-10-01T17:01:25.517483Z",
     "iopub.status.busy": "2021-10-01T17:01:25.514744Z",
     "iopub.status.idle": "2021-10-01T17:01:25.521522Z",
     "shell.execute_reply": "2021-10-01T17:01:25.520920Z",
     "shell.execute_reply.started": "2021-10-01T16:41:31.874267Z"
    },
    "papermill": {
     "duration": 0.087634,
     "end_time": "2021-10-01T17:01:25.521668",
     "exception": false,
     "start_time": "2021-10-01T17:01:25.434034",
     "status": "completed"
    },
    "tags": []
   },
   "outputs": [
    {
     "data": {
      "text/plain": [
       "[0.8423515004984653,\n",
       " 0.8458461627598993,\n",
       " 0.8325105358217941,\n",
       " 0.8319990247489928,\n",
       " 0.8522089046468577]"
      ]
     },
     "execution_count": 58,
     "metadata": {},
     "output_type": "execute_result"
    }
   ],
   "source": [
    "scores"
   ]
  },
  {
   "cell_type": "code",
   "execution_count": 59,
   "id": "60701691",
   "metadata": {
    "execution": {
     "iopub.execute_input": "2021-10-01T17:01:25.694847Z",
     "iopub.status.busy": "2021-10-01T17:01:25.694148Z",
     "iopub.status.idle": "2021-10-01T17:01:26.284561Z",
     "shell.execute_reply": "2021-10-01T17:01:26.285995Z",
     "shell.execute_reply.started": "2021-10-01T16:41:51.360667Z"
    },
    "papermill": {
     "duration": 0.688252,
     "end_time": "2021-10-01T17:01:26.286281",
     "exception": false,
     "start_time": "2021-10-01T17:01:25.598029",
     "status": "completed"
    },
    "tags": []
   },
   "outputs": [
    {
     "data": {
      "text/plain": [
       "0.8572386167896259"
      ]
     },
     "execution_count": 59,
     "metadata": {},
     "output_type": "execute_result"
    }
   ],
   "source": [
    "dv, model = train(df_full_train, df_full_train.churn.values, C=1.0)\n",
    "y_pred = predict(df_test, dv, model)\n",
    "\n",
    "auc = roc_auc_score(y_test, y_pred)\n",
    "auc"
   ]
  }
 ],
 "metadata": {
  "kernelspec": {
   "display_name": "Python 3",
   "language": "python",
   "name": "python3"
  },
  "language_info": {
   "codemirror_mode": {
    "name": "ipython",
    "version": 3
   },
   "file_extension": ".py",
   "mimetype": "text/x-python",
   "name": "python",
   "nbconvert_exporter": "python",
   "pygments_lexer": "ipython3",
   "version": "3.7.10"
  },
  "papermill": {
   "default_parameters": {},
   "duration": 47.856008,
   "end_time": "2021-10-01T17:01:27.574248",
   "environment_variables": {},
   "exception": null,
   "input_path": "__notebook__.ipynb",
   "output_path": "__notebook__.ipynb",
   "parameters": {},
   "start_time": "2021-10-01T17:00:39.718240",
   "version": "2.3.3"
  },
  "widgets": {
   "application/vnd.jupyter.widget-state+json": {
    "state": {
     "09fad49bbf7948d6aea060caf372f4f0": {
      "model_module": "@jupyter-widgets/base",
      "model_module_version": "1.2.0",
      "model_name": "LayoutModel",
      "state": {
       "_model_module": "@jupyter-widgets/base",
       "_model_module_version": "1.2.0",
       "_model_name": "LayoutModel",
       "_view_count": null,
       "_view_module": "@jupyter-widgets/base",
       "_view_module_version": "1.2.0",
       "_view_name": "LayoutView",
       "align_content": null,
       "align_items": null,
       "align_self": null,
       "border": null,
       "bottom": null,
       "display": null,
       "flex": null,
       "flex_flow": null,
       "grid_area": null,
       "grid_auto_columns": null,
       "grid_auto_flow": null,
       "grid_auto_rows": null,
       "grid_column": null,
       "grid_gap": null,
       "grid_row": null,
       "grid_template_areas": null,
       "grid_template_columns": null,
       "grid_template_rows": null,
       "height": null,
       "justify_content": null,
       "justify_items": null,
       "left": null,
       "margin": null,
       "max_height": null,
       "max_width": null,
       "min_height": null,
       "min_width": null,
       "object_fit": null,
       "object_position": null,
       "order": null,
       "overflow": null,
       "overflow_x": null,
       "overflow_y": null,
       "padding": null,
       "right": null,
       "top": null,
       "visibility": null,
       "width": null
      }
     },
     "16f19fd28a384e92bf901999e81499aa": {
      "model_module": "@jupyter-widgets/controls",
      "model_module_version": "1.5.0",
      "model_name": "DescriptionStyleModel",
      "state": {
       "_model_module": "@jupyter-widgets/controls",
       "_model_module_version": "1.5.0",
       "_model_name": "DescriptionStyleModel",
       "_view_count": null,
       "_view_module": "@jupyter-widgets/base",
       "_view_module_version": "1.2.0",
       "_view_name": "StyleView",
       "description_width": ""
      }
     },
     "55a69351be3e410cbc6fc2d771243e73": {
      "model_module": "@jupyter-widgets/base",
      "model_module_version": "1.2.0",
      "model_name": "LayoutModel",
      "state": {
       "_model_module": "@jupyter-widgets/base",
       "_model_module_version": "1.2.0",
       "_model_name": "LayoutModel",
       "_view_count": null,
       "_view_module": "@jupyter-widgets/base",
       "_view_module_version": "1.2.0",
       "_view_name": "LayoutView",
       "align_content": null,
       "align_items": null,
       "align_self": null,
       "border": null,
       "bottom": null,
       "display": null,
       "flex": null,
       "flex_flow": null,
       "grid_area": null,
       "grid_auto_columns": null,
       "grid_auto_flow": null,
       "grid_auto_rows": null,
       "grid_column": null,
       "grid_gap": null,
       "grid_row": null,
       "grid_template_areas": null,
       "grid_template_columns": null,
       "grid_template_rows": null,
       "height": null,
       "justify_content": null,
       "justify_items": null,
       "left": null,
       "margin": null,
       "max_height": null,
       "max_width": null,
       "min_height": null,
       "min_width": null,
       "object_fit": null,
       "object_position": null,
       "order": null,
       "overflow": null,
       "overflow_x": null,
       "overflow_y": null,
       "padding": null,
       "right": null,
       "top": null,
       "visibility": null,
       "width": null
      }
     },
     "76f44a2094184748bc50aa739101fbf9": {
      "model_module": "@jupyter-widgets/controls",
      "model_module_version": "1.5.0",
      "model_name": "ProgressStyleModel",
      "state": {
       "_model_module": "@jupyter-widgets/controls",
       "_model_module_version": "1.5.0",
       "_model_name": "ProgressStyleModel",
       "_view_count": null,
       "_view_module": "@jupyter-widgets/base",
       "_view_module_version": "1.2.0",
       "_view_name": "StyleView",
       "bar_color": null,
       "description_width": ""
      }
     },
     "95702640a8714c66ad8cb81be3d28bd1": {
      "model_module": "@jupyter-widgets/controls",
      "model_module_version": "1.5.0",
      "model_name": "HTMLModel",
      "state": {
       "_dom_classes": [],
       "_model_module": "@jupyter-widgets/controls",
       "_model_module_version": "1.5.0",
       "_model_name": "HTMLModel",
       "_view_count": null,
       "_view_module": "@jupyter-widgets/controls",
       "_view_module_version": "1.5.0",
       "_view_name": "HTMLView",
       "description": "",
       "description_tooltip": null,
       "layout": "IPY_MODEL_09fad49bbf7948d6aea060caf372f4f0",
       "placeholder": "​",
       "style": "IPY_MODEL_cad6eb49038943328985487611b0a6a7",
       "value": "100%"
      }
     },
     "99c546f243524116b1b782499c97f724": {
      "model_module": "@jupyter-widgets/controls",
      "model_module_version": "1.5.0",
      "model_name": "HTMLModel",
      "state": {
       "_dom_classes": [],
       "_model_module": "@jupyter-widgets/controls",
       "_model_module_version": "1.5.0",
       "_model_name": "HTMLModel",
       "_view_count": null,
       "_view_module": "@jupyter-widgets/controls",
       "_view_module_version": "1.5.0",
       "_view_name": "HTMLView",
       "description": "",
       "description_tooltip": null,
       "layout": "IPY_MODEL_ca787e0290ab4b42af82b940701b78ab",
       "placeholder": "​",
       "style": "IPY_MODEL_16f19fd28a384e92bf901999e81499aa",
       "value": " 7/7 [00:23&lt;00:00,  3.39s/it]"
      }
     },
     "c2962f96037345d2afc32837299cbef9": {
      "model_module": "@jupyter-widgets/controls",
      "model_module_version": "1.5.0",
      "model_name": "HBoxModel",
      "state": {
       "_dom_classes": [],
       "_model_module": "@jupyter-widgets/controls",
       "_model_module_version": "1.5.0",
       "_model_name": "HBoxModel",
       "_view_count": null,
       "_view_module": "@jupyter-widgets/controls",
       "_view_module_version": "1.5.0",
       "_view_name": "HBoxView",
       "box_style": "",
       "children": [
        "IPY_MODEL_95702640a8714c66ad8cb81be3d28bd1",
        "IPY_MODEL_edb60cdf64ca45c7a2ccee34b998ec50",
        "IPY_MODEL_99c546f243524116b1b782499c97f724"
       ],
       "layout": "IPY_MODEL_55a69351be3e410cbc6fc2d771243e73"
      }
     },
     "ca787e0290ab4b42af82b940701b78ab": {
      "model_module": "@jupyter-widgets/base",
      "model_module_version": "1.2.0",
      "model_name": "LayoutModel",
      "state": {
       "_model_module": "@jupyter-widgets/base",
       "_model_module_version": "1.2.0",
       "_model_name": "LayoutModel",
       "_view_count": null,
       "_view_module": "@jupyter-widgets/base",
       "_view_module_version": "1.2.0",
       "_view_name": "LayoutView",
       "align_content": null,
       "align_items": null,
       "align_self": null,
       "border": null,
       "bottom": null,
       "display": null,
       "flex": null,
       "flex_flow": null,
       "grid_area": null,
       "grid_auto_columns": null,
       "grid_auto_flow": null,
       "grid_auto_rows": null,
       "grid_column": null,
       "grid_gap": null,
       "grid_row": null,
       "grid_template_areas": null,
       "grid_template_columns": null,
       "grid_template_rows": null,
       "height": null,
       "justify_content": null,
       "justify_items": null,
       "left": null,
       "margin": null,
       "max_height": null,
       "max_width": null,
       "min_height": null,
       "min_width": null,
       "object_fit": null,
       "object_position": null,
       "order": null,
       "overflow": null,
       "overflow_x": null,
       "overflow_y": null,
       "padding": null,
       "right": null,
       "top": null,
       "visibility": null,
       "width": null
      }
     },
     "cad6eb49038943328985487611b0a6a7": {
      "model_module": "@jupyter-widgets/controls",
      "model_module_version": "1.5.0",
      "model_name": "DescriptionStyleModel",
      "state": {
       "_model_module": "@jupyter-widgets/controls",
       "_model_module_version": "1.5.0",
       "_model_name": "DescriptionStyleModel",
       "_view_count": null,
       "_view_module": "@jupyter-widgets/base",
       "_view_module_version": "1.2.0",
       "_view_name": "StyleView",
       "description_width": ""
      }
     },
     "d1eaed76b041403d8753f84575823c33": {
      "model_module": "@jupyter-widgets/base",
      "model_module_version": "1.2.0",
      "model_name": "LayoutModel",
      "state": {
       "_model_module": "@jupyter-widgets/base",
       "_model_module_version": "1.2.0",
       "_model_name": "LayoutModel",
       "_view_count": null,
       "_view_module": "@jupyter-widgets/base",
       "_view_module_version": "1.2.0",
       "_view_name": "LayoutView",
       "align_content": null,
       "align_items": null,
       "align_self": null,
       "border": null,
       "bottom": null,
       "display": null,
       "flex": null,
       "flex_flow": null,
       "grid_area": null,
       "grid_auto_columns": null,
       "grid_auto_flow": null,
       "grid_auto_rows": null,
       "grid_column": null,
       "grid_gap": null,
       "grid_row": null,
       "grid_template_areas": null,
       "grid_template_columns": null,
       "grid_template_rows": null,
       "height": null,
       "justify_content": null,
       "justify_items": null,
       "left": null,
       "margin": null,
       "max_height": null,
       "max_width": null,
       "min_height": null,
       "min_width": null,
       "object_fit": null,
       "object_position": null,
       "order": null,
       "overflow": null,
       "overflow_x": null,
       "overflow_y": null,
       "padding": null,
       "right": null,
       "top": null,
       "visibility": null,
       "width": null
      }
     },
     "edb60cdf64ca45c7a2ccee34b998ec50": {
      "model_module": "@jupyter-widgets/controls",
      "model_module_version": "1.5.0",
      "model_name": "FloatProgressModel",
      "state": {
       "_dom_classes": [],
       "_model_module": "@jupyter-widgets/controls",
       "_model_module_version": "1.5.0",
       "_model_name": "FloatProgressModel",
       "_view_count": null,
       "_view_module": "@jupyter-widgets/controls",
       "_view_module_version": "1.5.0",
       "_view_name": "ProgressView",
       "bar_style": "success",
       "description": "",
       "description_tooltip": null,
       "layout": "IPY_MODEL_d1eaed76b041403d8753f84575823c33",
       "max": 7.0,
       "min": 0.0,
       "orientation": "horizontal",
       "style": "IPY_MODEL_76f44a2094184748bc50aa739101fbf9",
       "value": 7.0
      }
     }
    },
    "version_major": 2,
    "version_minor": 0
   }
  }
 },
 "nbformat": 4,
 "nbformat_minor": 5
}
