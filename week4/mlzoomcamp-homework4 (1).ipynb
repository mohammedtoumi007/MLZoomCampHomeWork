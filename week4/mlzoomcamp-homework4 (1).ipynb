{
 "cells": [
  {
   "cell_type": "markdown",
   "id": "0994b29d",
   "metadata": {
    "_cell_guid": "b1076dfc-b9ad-4769-8c92-a6c4dae69d19",
    "_uuid": "8f2839f25d086af736a60e9eeb907d3b93b6e0e5",
    "papermill": {
     "duration": 0.038643,
     "end_time": "2021-10-03T15:34:01.787971",
     "exception": false,
     "start_time": "2021-10-03T15:34:01.749328",
     "status": "completed"
    },
    "tags": []
   },
   "source": [
    "## Homework 4\n",
    "\n",
    "Use this notebook as a starter"
   ]
  },
  {
   "cell_type": "code",
   "execution_count": 1,
   "id": "8cb6e49f",
   "metadata": {
    "execution": {
     "iopub.execute_input": "2021-10-03T15:34:01.874263Z",
     "iopub.status.busy": "2021-10-03T15:34:01.873019Z",
     "iopub.status.idle": "2021-10-03T15:34:02.785718Z",
     "shell.execute_reply": "2021-10-03T15:34:02.786258Z",
     "shell.execute_reply.started": "2021-10-03T15:31:56.146609Z"
    },
    "papermill": {
     "duration": 0.958008,
     "end_time": "2021-10-03T15:34:02.786589",
     "exception": false,
     "start_time": "2021-10-03T15:34:01.828581",
     "status": "completed"
    },
    "tags": []
   },
   "outputs": [],
   "source": [
    "import pandas as pd\n",
    "import numpy as np\n",
    "\n",
    "import matplotlib.pyplot as plt\n",
    "import seaborn as sns\n",
    "\n",
    "%matplotlib inline"
   ]
  },
  {
   "cell_type": "markdown",
   "id": "23b22ce3",
   "metadata": {
    "papermill": {
     "duration": 0.035222,
     "end_time": "2021-10-03T15:34:02.858953",
     "exception": false,
     "start_time": "2021-10-03T15:34:02.823731",
     "status": "completed"
    },
    "tags": []
   },
   "source": [
    "Data:\n",
    "\n",
    "* https://github.com/gastonstat/CreditScoring\n",
    "\n",
    "* Also available [here](https://raw.githubusercontent.com/alexeygrigorev/mlbookcamp-code/master/chapter-06-trees/CreditScoring.csv)"
   ]
  },
  {
   "cell_type": "code",
   "execution_count": 2,
   "id": "e26590b9",
   "metadata": {
    "execution": {
     "iopub.execute_input": "2021-10-03T15:34:02.933964Z",
     "iopub.status.busy": "2021-10-03T15:34:02.933306Z",
     "iopub.status.idle": "2021-10-03T15:34:04.377404Z",
     "shell.execute_reply": "2021-10-03T15:34:04.376789Z",
     "shell.execute_reply.started": "2021-10-03T15:31:56.167742Z"
    },
    "papermill": {
     "duration": 1.483034,
     "end_time": "2021-10-03T15:34:04.377554",
     "exception": false,
     "start_time": "2021-10-03T15:34:02.894520",
     "status": "completed"
    },
    "tags": []
   },
   "outputs": [
    {
     "name": "stdout",
     "output_type": "stream",
     "text": [
      "--2021-10-03 15:34:03--  https://raw.githubusercontent.com/alexeygrigorev/mlbookcamp-code/master/chapter-06-trees/CreditScoring.csv\r\n",
      "Resolving raw.githubusercontent.com (raw.githubusercontent.com)... 185.199.111.133, 185.199.108.133, 185.199.109.133, ...\r\n",
      "Connecting to raw.githubusercontent.com (raw.githubusercontent.com)|185.199.111.133|:443... connected.\r\n",
      "HTTP request sent, awaiting response... 200 OK\r\n",
      "Length: 182489 (178K) [text/plain]\r\n",
      "Saving to: ‘CreditScoring.csv’\r\n",
      "\r\n",
      "CreditScoring.csv   100%[===================>] 178.21K  --.-KB/s    in 0.03s   \r\n",
      "\r\n",
      "2021-10-03 15:34:04 (5.78 MB/s) - ‘CreditScoring.csv’ saved [182489/182489]\r\n",
      "\r\n"
     ]
    }
   ],
   "source": [
    "!wget https://raw.githubusercontent.com/alexeygrigorev/mlbookcamp-code/master/chapter-06-trees/CreditScoring.csv"
   ]
  },
  {
   "cell_type": "markdown",
   "id": "ec19fa1c",
   "metadata": {
    "papermill": {
     "duration": 0.038177,
     "end_time": "2021-10-03T15:34:04.455233",
     "exception": false,
     "start_time": "2021-10-03T15:34:04.417056",
     "status": "completed"
    },
    "tags": []
   },
   "source": [
    "## Preparation\n",
    "We'll talk about this dataset in more details in week 6. But for now, use the following code to get started"
   ]
  },
  {
   "cell_type": "code",
   "execution_count": 3,
   "id": "5d355718",
   "metadata": {
    "execution": {
     "iopub.execute_input": "2021-10-03T15:34:04.541756Z",
     "iopub.status.busy": "2021-10-03T15:34:04.540628Z",
     "iopub.status.idle": "2021-10-03T15:34:04.556783Z",
     "shell.execute_reply": "2021-10-03T15:34:04.556048Z",
     "shell.execute_reply.started": "2021-10-03T15:31:57.089507Z"
    },
    "papermill": {
     "duration": 0.06223,
     "end_time": "2021-10-03T15:34:04.556937",
     "exception": false,
     "start_time": "2021-10-03T15:34:04.494707",
     "status": "completed"
    },
    "tags": []
   },
   "outputs": [],
   "source": [
    "df = pd.read_csv('CreditScoring.csv')\n",
    "df.columns = df.columns.str.lower()"
   ]
  },
  {
   "cell_type": "code",
   "execution_count": 4,
   "id": "d6ff3be6",
   "metadata": {
    "execution": {
     "iopub.execute_input": "2021-10-03T15:34:04.645855Z",
     "iopub.status.busy": "2021-10-03T15:34:04.645102Z",
     "iopub.status.idle": "2021-10-03T15:34:04.664815Z",
     "shell.execute_reply": "2021-10-03T15:34:04.665328Z",
     "shell.execute_reply.started": "2021-10-03T15:31:57.107618Z"
    },
    "papermill": {
     "duration": 0.069384,
     "end_time": "2021-10-03T15:34:04.665528",
     "exception": false,
     "start_time": "2021-10-03T15:34:04.596144",
     "status": "completed"
    },
    "tags": []
   },
   "outputs": [
    {
     "data": {
      "text/html": [
       "<div>\n",
       "<style scoped>\n",
       "    .dataframe tbody tr th:only-of-type {\n",
       "        vertical-align: middle;\n",
       "    }\n",
       "\n",
       "    .dataframe tbody tr th {\n",
       "        vertical-align: top;\n",
       "    }\n",
       "\n",
       "    .dataframe thead th {\n",
       "        text-align: right;\n",
       "    }\n",
       "</style>\n",
       "<table border=\"1\" class=\"dataframe\">\n",
       "  <thead>\n",
       "    <tr style=\"text-align: right;\">\n",
       "      <th></th>\n",
       "      <th>status</th>\n",
       "      <th>seniority</th>\n",
       "      <th>home</th>\n",
       "      <th>time</th>\n",
       "      <th>age</th>\n",
       "      <th>marital</th>\n",
       "      <th>records</th>\n",
       "      <th>job</th>\n",
       "      <th>expenses</th>\n",
       "      <th>income</th>\n",
       "      <th>assets</th>\n",
       "      <th>debt</th>\n",
       "      <th>amount</th>\n",
       "      <th>price</th>\n",
       "    </tr>\n",
       "  </thead>\n",
       "  <tbody>\n",
       "    <tr>\n",
       "      <th>0</th>\n",
       "      <td>1</td>\n",
       "      <td>9</td>\n",
       "      <td>1</td>\n",
       "      <td>60</td>\n",
       "      <td>30</td>\n",
       "      <td>2</td>\n",
       "      <td>1</td>\n",
       "      <td>3</td>\n",
       "      <td>73</td>\n",
       "      <td>129</td>\n",
       "      <td>0</td>\n",
       "      <td>0</td>\n",
       "      <td>800</td>\n",
       "      <td>846</td>\n",
       "    </tr>\n",
       "    <tr>\n",
       "      <th>1</th>\n",
       "      <td>1</td>\n",
       "      <td>17</td>\n",
       "      <td>1</td>\n",
       "      <td>60</td>\n",
       "      <td>58</td>\n",
       "      <td>3</td>\n",
       "      <td>1</td>\n",
       "      <td>1</td>\n",
       "      <td>48</td>\n",
       "      <td>131</td>\n",
       "      <td>0</td>\n",
       "      <td>0</td>\n",
       "      <td>1000</td>\n",
       "      <td>1658</td>\n",
       "    </tr>\n",
       "    <tr>\n",
       "      <th>2</th>\n",
       "      <td>2</td>\n",
       "      <td>10</td>\n",
       "      <td>2</td>\n",
       "      <td>36</td>\n",
       "      <td>46</td>\n",
       "      <td>2</td>\n",
       "      <td>2</td>\n",
       "      <td>3</td>\n",
       "      <td>90</td>\n",
       "      <td>200</td>\n",
       "      <td>3000</td>\n",
       "      <td>0</td>\n",
       "      <td>2000</td>\n",
       "      <td>2985</td>\n",
       "    </tr>\n",
       "    <tr>\n",
       "      <th>3</th>\n",
       "      <td>1</td>\n",
       "      <td>0</td>\n",
       "      <td>1</td>\n",
       "      <td>60</td>\n",
       "      <td>24</td>\n",
       "      <td>1</td>\n",
       "      <td>1</td>\n",
       "      <td>1</td>\n",
       "      <td>63</td>\n",
       "      <td>182</td>\n",
       "      <td>2500</td>\n",
       "      <td>0</td>\n",
       "      <td>900</td>\n",
       "      <td>1325</td>\n",
       "    </tr>\n",
       "    <tr>\n",
       "      <th>4</th>\n",
       "      <td>1</td>\n",
       "      <td>0</td>\n",
       "      <td>1</td>\n",
       "      <td>36</td>\n",
       "      <td>26</td>\n",
       "      <td>1</td>\n",
       "      <td>1</td>\n",
       "      <td>1</td>\n",
       "      <td>46</td>\n",
       "      <td>107</td>\n",
       "      <td>0</td>\n",
       "      <td>0</td>\n",
       "      <td>310</td>\n",
       "      <td>910</td>\n",
       "    </tr>\n",
       "    <tr>\n",
       "      <th>...</th>\n",
       "      <td>...</td>\n",
       "      <td>...</td>\n",
       "      <td>...</td>\n",
       "      <td>...</td>\n",
       "      <td>...</td>\n",
       "      <td>...</td>\n",
       "      <td>...</td>\n",
       "      <td>...</td>\n",
       "      <td>...</td>\n",
       "      <td>...</td>\n",
       "      <td>...</td>\n",
       "      <td>...</td>\n",
       "      <td>...</td>\n",
       "      <td>...</td>\n",
       "    </tr>\n",
       "    <tr>\n",
       "      <th>4450</th>\n",
       "      <td>2</td>\n",
       "      <td>1</td>\n",
       "      <td>1</td>\n",
       "      <td>60</td>\n",
       "      <td>39</td>\n",
       "      <td>2</td>\n",
       "      <td>1</td>\n",
       "      <td>1</td>\n",
       "      <td>69</td>\n",
       "      <td>92</td>\n",
       "      <td>0</td>\n",
       "      <td>0</td>\n",
       "      <td>900</td>\n",
       "      <td>1020</td>\n",
       "    </tr>\n",
       "    <tr>\n",
       "      <th>4451</th>\n",
       "      <td>1</td>\n",
       "      <td>22</td>\n",
       "      <td>2</td>\n",
       "      <td>60</td>\n",
       "      <td>46</td>\n",
       "      <td>2</td>\n",
       "      <td>1</td>\n",
       "      <td>1</td>\n",
       "      <td>60</td>\n",
       "      <td>75</td>\n",
       "      <td>3000</td>\n",
       "      <td>600</td>\n",
       "      <td>950</td>\n",
       "      <td>1263</td>\n",
       "    </tr>\n",
       "    <tr>\n",
       "      <th>4452</th>\n",
       "      <td>2</td>\n",
       "      <td>0</td>\n",
       "      <td>2</td>\n",
       "      <td>24</td>\n",
       "      <td>37</td>\n",
       "      <td>2</td>\n",
       "      <td>1</td>\n",
       "      <td>2</td>\n",
       "      <td>60</td>\n",
       "      <td>90</td>\n",
       "      <td>3500</td>\n",
       "      <td>0</td>\n",
       "      <td>500</td>\n",
       "      <td>963</td>\n",
       "    </tr>\n",
       "    <tr>\n",
       "      <th>4453</th>\n",
       "      <td>1</td>\n",
       "      <td>0</td>\n",
       "      <td>1</td>\n",
       "      <td>48</td>\n",
       "      <td>23</td>\n",
       "      <td>1</td>\n",
       "      <td>1</td>\n",
       "      <td>3</td>\n",
       "      <td>49</td>\n",
       "      <td>140</td>\n",
       "      <td>0</td>\n",
       "      <td>0</td>\n",
       "      <td>550</td>\n",
       "      <td>550</td>\n",
       "    </tr>\n",
       "    <tr>\n",
       "      <th>4454</th>\n",
       "      <td>1</td>\n",
       "      <td>5</td>\n",
       "      <td>2</td>\n",
       "      <td>60</td>\n",
       "      <td>32</td>\n",
       "      <td>2</td>\n",
       "      <td>1</td>\n",
       "      <td>3</td>\n",
       "      <td>60</td>\n",
       "      <td>140</td>\n",
       "      <td>4000</td>\n",
       "      <td>1000</td>\n",
       "      <td>1350</td>\n",
       "      <td>1650</td>\n",
       "    </tr>\n",
       "  </tbody>\n",
       "</table>\n",
       "<p>4455 rows × 14 columns</p>\n",
       "</div>"
      ],
      "text/plain": [
       "      status  seniority  home  time  age  marital  records  job  expenses  \\\n",
       "0          1          9     1    60   30        2        1    3        73   \n",
       "1          1         17     1    60   58        3        1    1        48   \n",
       "2          2         10     2    36   46        2        2    3        90   \n",
       "3          1          0     1    60   24        1        1    1        63   \n",
       "4          1          0     1    36   26        1        1    1        46   \n",
       "...      ...        ...   ...   ...  ...      ...      ...  ...       ...   \n",
       "4450       2          1     1    60   39        2        1    1        69   \n",
       "4451       1         22     2    60   46        2        1    1        60   \n",
       "4452       2          0     2    24   37        2        1    2        60   \n",
       "4453       1          0     1    48   23        1        1    3        49   \n",
       "4454       1          5     2    60   32        2        1    3        60   \n",
       "\n",
       "      income  assets  debt  amount  price  \n",
       "0        129       0     0     800    846  \n",
       "1        131       0     0    1000   1658  \n",
       "2        200    3000     0    2000   2985  \n",
       "3        182    2500     0     900   1325  \n",
       "4        107       0     0     310    910  \n",
       "...      ...     ...   ...     ...    ...  \n",
       "4450      92       0     0     900   1020  \n",
       "4451      75    3000   600     950   1263  \n",
       "4452      90    3500     0     500    963  \n",
       "4453     140       0     0     550    550  \n",
       "4454     140    4000  1000    1350   1650  \n",
       "\n",
       "[4455 rows x 14 columns]"
      ]
     },
     "execution_count": 4,
     "metadata": {},
     "output_type": "execute_result"
    }
   ],
   "source": [
    "df"
   ]
  },
  {
   "cell_type": "markdown",
   "id": "4e524400",
   "metadata": {
    "papermill": {
     "duration": 0.039132,
     "end_time": "2021-10-03T15:34:04.744036",
     "exception": false,
     "start_time": "2021-10-03T15:34:04.704904",
     "status": "completed"
    },
    "tags": []
   },
   "source": [
    "Some of the features are encoded as numbers. Use the following code to de-code them:"
   ]
  },
  {
   "cell_type": "code",
   "execution_count": 5,
   "id": "22d37b16",
   "metadata": {
    "execution": {
     "iopub.execute_input": "2021-10-03T15:34:04.838513Z",
     "iopub.status.busy": "2021-10-03T15:34:04.837541Z",
     "iopub.status.idle": "2021-10-03T15:34:04.849142Z",
     "shell.execute_reply": "2021-10-03T15:34:04.849711Z",
     "shell.execute_reply.started": "2021-10-03T15:31:57.130873Z"
    },
    "papermill": {
     "duration": 0.066361,
     "end_time": "2021-10-03T15:34:04.849890",
     "exception": false,
     "start_time": "2021-10-03T15:34:04.783529",
     "status": "completed"
    },
    "tags": []
   },
   "outputs": [],
   "source": [
    "status_values = {\n",
    "    1: 'ok',\n",
    "    2: 'default',\n",
    "    0: 'unk'\n",
    "}\n",
    "\n",
    "df.status = df.status.map(status_values)\n",
    "\n",
    "\n",
    "home_values = {\n",
    "    1: 'rent',\n",
    "    2: 'owner',\n",
    "    3: 'private',\n",
    "    4: 'ignore',\n",
    "    5: 'parents',\n",
    "    6: 'other',\n",
    "    0: 'unk'\n",
    "}\n",
    "\n",
    "df.home = df.home.map(home_values)\n",
    "\n",
    "marital_values = {\n",
    "    1: 'single',\n",
    "    2: 'married',\n",
    "    3: 'widow',\n",
    "    4: 'separated',\n",
    "    5: 'divorced',\n",
    "    0: 'unk'\n",
    "}\n",
    "df.marital = df.marital.map(marital_values)\n",
    "\n",
    "records_values = {\n",
    "    1: 'no',\n",
    "    2: 'yes',\n",
    "    0: 'unk'\n",
    "}\n",
    "\n",
    "df.records = df.records.map(records_values)\n",
    "\n",
    "job_values = {\n",
    "    1: 'fixed',\n",
    "    2: 'partime',\n",
    "    3: 'freelance',\n",
    "    4: 'others',\n",
    "    0: 'unk'\n",
    "}\n",
    "\n",
    "df.job = df.job.map(job_values)"
   ]
  },
  {
   "cell_type": "markdown",
   "id": "652dafe8",
   "metadata": {
    "papermill": {
     "duration": 0.039679,
     "end_time": "2021-10-03T15:34:04.929354",
     "exception": false,
     "start_time": "2021-10-03T15:34:04.889675",
     "status": "completed"
    },
    "tags": []
   },
   "source": [
    "Prepare the numerical variables:"
   ]
  },
  {
   "cell_type": "code",
   "execution_count": 6,
   "id": "5ab2e506",
   "metadata": {
    "execution": {
     "iopub.execute_input": "2021-10-03T15:34:05.011906Z",
     "iopub.status.busy": "2021-10-03T15:34:05.011234Z",
     "iopub.status.idle": "2021-10-03T15:34:05.017834Z",
     "shell.execute_reply": "2021-10-03T15:34:05.018473Z",
     "shell.execute_reply.started": "2021-10-03T15:31:57.149420Z"
    },
    "papermill": {
     "duration": 0.049801,
     "end_time": "2021-10-03T15:34:05.018654",
     "exception": false,
     "start_time": "2021-10-03T15:34:04.968853",
     "status": "completed"
    },
    "tags": []
   },
   "outputs": [],
   "source": [
    "for c in ['income', 'assets', 'debt']:\n",
    "    df[c] = df[c].replace(to_replace=99999999, value=0)"
   ]
  },
  {
   "cell_type": "markdown",
   "id": "7d8a280b",
   "metadata": {
    "papermill": {
     "duration": 0.037544,
     "end_time": "2021-10-03T15:34:05.096194",
     "exception": false,
     "start_time": "2021-10-03T15:34:05.058650",
     "status": "completed"
    },
    "tags": []
   },
   "source": [
    "Remove clients with unknown default status"
   ]
  },
  {
   "cell_type": "code",
   "execution_count": 7,
   "id": "c789855b",
   "metadata": {
    "execution": {
     "iopub.execute_input": "2021-10-03T15:34:05.179684Z",
     "iopub.status.busy": "2021-10-03T15:34:05.178519Z",
     "iopub.status.idle": "2021-10-03T15:34:05.182363Z",
     "shell.execute_reply": "2021-10-03T15:34:05.182872Z",
     "shell.execute_reply.started": "2021-10-03T15:31:57.162466Z"
    },
    "papermill": {
     "duration": 0.04898,
     "end_time": "2021-10-03T15:34:05.183074",
     "exception": false,
     "start_time": "2021-10-03T15:34:05.134094",
     "status": "completed"
    },
    "tags": []
   },
   "outputs": [],
   "source": [
    "df = df[df.status != 'unk'].reset_index(drop=True)"
   ]
  },
  {
   "cell_type": "markdown",
   "id": "8afb74d6",
   "metadata": {
    "papermill": {
     "duration": 0.037493,
     "end_time": "2021-10-03T15:34:05.259187",
     "exception": false,
     "start_time": "2021-10-03T15:34:05.221694",
     "status": "completed"
    },
    "tags": []
   },
   "source": [
    "Create the target variable"
   ]
  },
  {
   "cell_type": "code",
   "execution_count": 8,
   "id": "a8b5b48e",
   "metadata": {
    "execution": {
     "iopub.execute_input": "2021-10-03T15:34:05.339320Z",
     "iopub.status.busy": "2021-10-03T15:34:05.338671Z",
     "iopub.status.idle": "2021-10-03T15:34:05.346105Z",
     "shell.execute_reply": "2021-10-03T15:34:05.345550Z",
     "shell.execute_reply.started": "2021-10-03T15:31:57.177741Z"
    },
    "papermill": {
     "duration": 0.048986,
     "end_time": "2021-10-03T15:34:05.346251",
     "exception": false,
     "start_time": "2021-10-03T15:34:05.297265",
     "status": "completed"
    },
    "tags": []
   },
   "outputs": [],
   "source": [
    "df['default'] = (df.status == 'default').astype(int)\n",
    "del df['status']"
   ]
  },
  {
   "cell_type": "code",
   "execution_count": 9,
   "id": "1a12df04",
   "metadata": {
    "execution": {
     "iopub.execute_input": "2021-10-03T15:34:05.436880Z",
     "iopub.status.busy": "2021-10-03T15:34:05.436038Z",
     "iopub.status.idle": "2021-10-03T15:34:05.439815Z",
     "shell.execute_reply": "2021-10-03T15:34:05.439191Z",
     "shell.execute_reply.started": "2021-10-03T15:31:57.190287Z"
    },
    "papermill": {
     "duration": 0.055721,
     "end_time": "2021-10-03T15:34:05.439948",
     "exception": false,
     "start_time": "2021-10-03T15:34:05.384227",
     "status": "completed"
    },
    "tags": []
   },
   "outputs": [
    {
     "data": {
      "text/html": [
       "<div>\n",
       "<style scoped>\n",
       "    .dataframe tbody tr th:only-of-type {\n",
       "        vertical-align: middle;\n",
       "    }\n",
       "\n",
       "    .dataframe tbody tr th {\n",
       "        vertical-align: top;\n",
       "    }\n",
       "\n",
       "    .dataframe thead th {\n",
       "        text-align: right;\n",
       "    }\n",
       "</style>\n",
       "<table border=\"1\" class=\"dataframe\">\n",
       "  <thead>\n",
       "    <tr style=\"text-align: right;\">\n",
       "      <th></th>\n",
       "      <th>seniority</th>\n",
       "      <th>home</th>\n",
       "      <th>time</th>\n",
       "      <th>age</th>\n",
       "      <th>marital</th>\n",
       "      <th>records</th>\n",
       "      <th>job</th>\n",
       "      <th>expenses</th>\n",
       "      <th>income</th>\n",
       "      <th>assets</th>\n",
       "      <th>debt</th>\n",
       "      <th>amount</th>\n",
       "      <th>price</th>\n",
       "      <th>default</th>\n",
       "    </tr>\n",
       "  </thead>\n",
       "  <tbody>\n",
       "    <tr>\n",
       "      <th>0</th>\n",
       "      <td>9</td>\n",
       "      <td>rent</td>\n",
       "      <td>60</td>\n",
       "      <td>30</td>\n",
       "      <td>married</td>\n",
       "      <td>no</td>\n",
       "      <td>freelance</td>\n",
       "      <td>73</td>\n",
       "      <td>129</td>\n",
       "      <td>0</td>\n",
       "      <td>0</td>\n",
       "      <td>800</td>\n",
       "      <td>846</td>\n",
       "      <td>0</td>\n",
       "    </tr>\n",
       "    <tr>\n",
       "      <th>1</th>\n",
       "      <td>17</td>\n",
       "      <td>rent</td>\n",
       "      <td>60</td>\n",
       "      <td>58</td>\n",
       "      <td>widow</td>\n",
       "      <td>no</td>\n",
       "      <td>fixed</td>\n",
       "      <td>48</td>\n",
       "      <td>131</td>\n",
       "      <td>0</td>\n",
       "      <td>0</td>\n",
       "      <td>1000</td>\n",
       "      <td>1658</td>\n",
       "      <td>0</td>\n",
       "    </tr>\n",
       "    <tr>\n",
       "      <th>2</th>\n",
       "      <td>10</td>\n",
       "      <td>owner</td>\n",
       "      <td>36</td>\n",
       "      <td>46</td>\n",
       "      <td>married</td>\n",
       "      <td>yes</td>\n",
       "      <td>freelance</td>\n",
       "      <td>90</td>\n",
       "      <td>200</td>\n",
       "      <td>3000</td>\n",
       "      <td>0</td>\n",
       "      <td>2000</td>\n",
       "      <td>2985</td>\n",
       "      <td>1</td>\n",
       "    </tr>\n",
       "    <tr>\n",
       "      <th>3</th>\n",
       "      <td>0</td>\n",
       "      <td>rent</td>\n",
       "      <td>60</td>\n",
       "      <td>24</td>\n",
       "      <td>single</td>\n",
       "      <td>no</td>\n",
       "      <td>fixed</td>\n",
       "      <td>63</td>\n",
       "      <td>182</td>\n",
       "      <td>2500</td>\n",
       "      <td>0</td>\n",
       "      <td>900</td>\n",
       "      <td>1325</td>\n",
       "      <td>0</td>\n",
       "    </tr>\n",
       "    <tr>\n",
       "      <th>4</th>\n",
       "      <td>0</td>\n",
       "      <td>rent</td>\n",
       "      <td>36</td>\n",
       "      <td>26</td>\n",
       "      <td>single</td>\n",
       "      <td>no</td>\n",
       "      <td>fixed</td>\n",
       "      <td>46</td>\n",
       "      <td>107</td>\n",
       "      <td>0</td>\n",
       "      <td>0</td>\n",
       "      <td>310</td>\n",
       "      <td>910</td>\n",
       "      <td>0</td>\n",
       "    </tr>\n",
       "  </tbody>\n",
       "</table>\n",
       "</div>"
      ],
      "text/plain": [
       "   seniority   home  time  age  marital records        job  expenses  income  \\\n",
       "0          9   rent    60   30  married      no  freelance        73     129   \n",
       "1         17   rent    60   58    widow      no      fixed        48     131   \n",
       "2         10  owner    36   46  married     yes  freelance        90     200   \n",
       "3          0   rent    60   24   single      no      fixed        63     182   \n",
       "4          0   rent    36   26   single      no      fixed        46     107   \n",
       "\n",
       "   assets  debt  amount  price  default  \n",
       "0       0     0     800    846        0  \n",
       "1       0     0    1000   1658        0  \n",
       "2    3000     0    2000   2985        1  \n",
       "3    2500     0     900   1325        0  \n",
       "4       0     0     310    910        0  "
      ]
     },
     "execution_count": 9,
     "metadata": {},
     "output_type": "execute_result"
    }
   ],
   "source": [
    "df.head()"
   ]
  },
  {
   "cell_type": "markdown",
   "id": "243abdbd",
   "metadata": {
    "papermill": {
     "duration": 0.037813,
     "end_time": "2021-10-03T15:34:05.515995",
     "exception": false,
     "start_time": "2021-10-03T15:34:05.478182",
     "status": "completed"
    },
    "tags": []
   },
   "source": [
    "## Your code\n",
    "\n",
    "What are the categorical variables? What are the numerical?"
   ]
  },
  {
   "cell_type": "code",
   "execution_count": 10,
   "id": "2d400bb2",
   "metadata": {
    "execution": {
     "iopub.execute_input": "2021-10-03T15:34:05.599004Z",
     "iopub.status.busy": "2021-10-03T15:34:05.598267Z",
     "iopub.status.idle": "2021-10-03T15:34:05.606757Z",
     "shell.execute_reply": "2021-10-03T15:34:05.607266Z",
     "shell.execute_reply.started": "2021-10-03T15:31:57.213333Z"
    },
    "papermill": {
     "duration": 0.053522,
     "end_time": "2021-10-03T15:34:05.607452",
     "exception": false,
     "start_time": "2021-10-03T15:34:05.553930",
     "status": "completed"
    },
    "tags": []
   },
   "outputs": [
    {
     "name": "stdout",
     "output_type": "stream",
     "text": [
      "Categorical variables: ['home', 'marital', 'records', 'job']\n",
      "Numerical variables: ['seniority', 'time', 'age', 'expenses', 'income', 'assets', 'debt', 'amount', 'price', 'default']\n"
     ]
    }
   ],
   "source": [
    "print(f'Categorical variables: {list(df.select_dtypes(include=\"object\").columns)}')\n",
    "print(f'Numerical variables: {list(df.select_dtypes(exclude=\"object\").columns)}')"
   ]
  },
  {
   "cell_type": "markdown",
   "id": "2de4074f",
   "metadata": {
    "papermill": {
     "duration": 0.038981,
     "end_time": "2021-10-03T15:34:05.684712",
     "exception": false,
     "start_time": "2021-10-03T15:34:05.645731",
     "status": "completed"
    },
    "tags": []
   },
   "source": [
    "Split the data into 3 parts: train/validation/test with 60%/20%/20% distribution. Use train_test_split funciton for that with random_state=1"
   ]
  },
  {
   "cell_type": "code",
   "execution_count": 11,
   "id": "54e7b8d3",
   "metadata": {
    "execution": {
     "iopub.execute_input": "2021-10-03T15:34:05.766619Z",
     "iopub.status.busy": "2021-10-03T15:34:05.765551Z",
     "iopub.status.idle": "2021-10-03T15:34:05.948420Z",
     "shell.execute_reply": "2021-10-03T15:34:05.948933Z",
     "shell.execute_reply.started": "2021-10-03T15:31:57.228367Z"
    },
    "papermill": {
     "duration": 0.225517,
     "end_time": "2021-10-03T15:34:05.949126",
     "exception": false,
     "start_time": "2021-10-03T15:34:05.723609",
     "status": "completed"
    },
    "tags": []
   },
   "outputs": [
    {
     "data": {
      "text/plain": [
       "(2672, 891, 891)"
      ]
     },
     "execution_count": 11,
     "metadata": {},
     "output_type": "execute_result"
    }
   ],
   "source": [
    "from sklearn.model_selection import train_test_split\n",
    "\n",
    "full_train, test = train_test_split(df, test_size=0.2, random_state=1)\n",
    "train, val = train_test_split(full_train, test_size=0.25, random_state=1)\n",
    "len(train), len(val), len(test)"
   ]
  },
  {
   "cell_type": "markdown",
   "id": "8e26da82",
   "metadata": {
    "papermill": {
     "duration": 0.041492,
     "end_time": "2021-10-03T15:34:06.031283",
     "exception": false,
     "start_time": "2021-10-03T15:34:05.989791",
     "status": "completed"
    },
    "tags": []
   },
   "source": [
    "## Question 1\n",
    "\n",
    "ROC AUC could also be used to evaluate feature importance of numerical variables.\n",
    "\n",
    "Let's do that\n",
    "\n",
    "* For each numerical variable, use it as score and compute AUC with the \"default\" variable\n",
    "* Use the training dataset for that\n",
    "\n",
    "If your AUC is < 0.5, invert this variable by putting \"-\" in front\n",
    "\n",
    "(e.g. -df_train['expenses'])\n",
    "\n",
    "AUC can go below 0.5 if the variable is negatively correlated with the target varialble. You can change the direction of the correlation by negating this variable - then negative correlation becomes positive."
   ]
  },
  {
   "cell_type": "code",
   "execution_count": 12,
   "id": "db0a8cb8",
   "metadata": {
    "execution": {
     "iopub.execute_input": "2021-10-03T15:34:06.115467Z",
     "iopub.status.busy": "2021-10-03T15:34:06.114417Z",
     "iopub.status.idle": "2021-10-03T15:34:06.157696Z",
     "shell.execute_reply": "2021-10-03T15:34:06.157180Z",
     "shell.execute_reply.started": "2021-10-03T15:31:57.244807Z"
    },
    "papermill": {
     "duration": 0.086164,
     "end_time": "2021-10-03T15:34:06.157843",
     "exception": false,
     "start_time": "2021-10-03T15:34:06.071679",
     "status": "completed"
    },
    "tags": []
   },
   "outputs": [
    {
     "name": "stdout",
     "output_type": "stream",
     "text": [
      "seniority : 0.7094\n",
      "time      : 0.5609\n",
      "age       : 0.5733\n",
      "expenses  : 0.5009\n",
      "income    : 0.6820\n",
      "assets    : 0.6486\n",
      "debt      : 0.5048\n",
      "amount    : 0.5911\n",
      "price     : 0.5043\n"
     ]
    }
   ],
   "source": [
    "from sklearn.metrics import roc_auc_score\n",
    "\n",
    "for col in df.drop(\"default\", axis=1).select_dtypes(exclude=\"object\").columns:\n",
    "    auc_score = roc_auc_score(train.default, train[col])\n",
    "    if auc_score < 0.5:\n",
    "        auc_score = roc_auc_score(train.default, -train[col])\n",
    "    print(f'{col:<10}: {auc_score:.4f}')"
   ]
  },
  {
   "cell_type": "markdown",
   "id": "ec9f1364",
   "metadata": {
    "papermill": {
     "duration": 0.039012,
     "end_time": "2021-10-03T15:34:06.235903",
     "exception": false,
     "start_time": "2021-10-03T15:34:06.196891",
     "status": "completed"
    },
    "tags": []
   },
   "source": [
    "Which numerical variable (among the following 4) has the highest AUC?\n",
    "\n",
    "* seniority\n",
    "* time\n",
    "* income\n",
    "* debt\n",
    "\n",
    "## Training the model\n",
    "\n",
    "From now on, use these columns only:\n",
    "\n",
    "    ['seniority', 'income', 'assets', 'records', 'job', 'home']\n",
    "Apply one-hot-encoding using DictVectorizer and train the logistic regression with these parameters:\n",
    "\n",
    "    LogisticRegression(solver='liblinear', C=1.0, max_iter=1000)"
   ]
  },
  {
   "cell_type": "code",
   "execution_count": 13,
   "id": "d2d63fd3",
   "metadata": {
    "execution": {
     "iopub.execute_input": "2021-10-03T15:34:06.323280Z",
     "iopub.status.busy": "2021-10-03T15:34:06.322522Z",
     "iopub.status.idle": "2021-10-03T15:34:06.496338Z",
     "shell.execute_reply": "2021-10-03T15:34:06.496871Z",
     "shell.execute_reply.started": "2021-10-03T15:31:57.285981Z"
    },
    "papermill": {
     "duration": 0.221406,
     "end_time": "2021-10-03T15:34:06.497061",
     "exception": false,
     "start_time": "2021-10-03T15:34:06.275655",
     "status": "completed"
    },
    "tags": []
   },
   "outputs": [],
   "source": [
    "from sklearn.feature_extraction import DictVectorizer\n",
    "from sklearn.linear_model import LogisticRegression\n",
    "\n",
    "# Apply one-hot-encoding using DictVectorizer\n",
    "features = ['seniority', 'income', 'assets', 'records', 'job', 'home']\n",
    "\n",
    "dv = DictVectorizer(sparse=False)\n",
    "\n",
    "train_dict = train[features].to_dict(orient='records')\n",
    "val_dict = val[features].to_dict(orient='records')\n",
    "\n",
    "X_train = dv.fit_transform(train_dict)\n",
    "X_val = dv.transform(val_dict)\n",
    "\n",
    "y_train = train.default\n",
    "y_val = val.default\n",
    "\n",
    "# train the logistic regression\n",
    "model = LogisticRegression(solver='liblinear', C=1.0, max_iter=1000)\n",
    "model.fit(X_train, y_train)\n",
    "\n",
    "# get probabilities on validation dataset\n",
    "predictions = model.predict_proba(X_val)[:, 1]"
   ]
  },
  {
   "cell_type": "code",
   "execution_count": 14,
   "id": "6b629d64",
   "metadata": {
    "execution": {
     "iopub.execute_input": "2021-10-03T15:34:06.638636Z",
     "iopub.status.busy": "2021-10-03T15:34:06.637312Z",
     "iopub.status.idle": "2021-10-03T15:34:06.639364Z",
     "shell.execute_reply": "2021-10-03T15:34:06.639887Z",
     "shell.execute_reply.started": "2021-10-03T15:31:57.376356Z"
    },
    "papermill": {
     "duration": 0.075792,
     "end_time": "2021-10-03T15:34:06.640051",
     "exception": false,
     "start_time": "2021-10-03T15:34:06.564259",
     "status": "completed"
    },
    "tags": []
   },
   "outputs": [],
   "source": [
    "# function to get TPR (recall), FPR scores\n",
    "# for a given range of thresholds\n",
    "\n",
    "def tpr_fpr_dataframe(y_val, y_pred, thresholds):\n",
    "    scores = []\n",
    "\n",
    "    for t in thresholds:\n",
    "        actual_positive = (y_val == 1)\n",
    "        actual_negative = (y_val == 0)\n",
    "\n",
    "        predict_positive = (y_pred >= t)\n",
    "        predict_negative = (y_pred < t)\n",
    "\n",
    "        tp = (predict_positive & actual_positive).sum()\n",
    "        tn = (predict_negative & actual_negative).sum()\n",
    "\n",
    "        fp = (predict_positive & actual_negative).sum()\n",
    "        fn = (predict_negative & actual_positive).sum()\n",
    "\n",
    "        scores.append((t, tp, fp, fn, tn))\n",
    "\n",
    "    columns = ['threshold', 'tp', 'fp', 'fn', 'tn']\n",
    "    df_scores = pd.DataFrame(scores, columns=columns)\n",
    "\n",
    "    df_scores['tpr'] = df_scores.tp / (df_scores.tp + df_scores.fn)\n",
    "    df_scores['fpr'] = df_scores.fp / (df_scores.fp + df_scores.tn)\n",
    "        \n",
    "    return df_scores"
   ]
  },
  {
   "cell_type": "code",
   "execution_count": 15,
   "id": "f54b7f36",
   "metadata": {
    "execution": {
     "iopub.execute_input": "2021-10-03T15:34:06.722687Z",
     "iopub.status.busy": "2021-10-03T15:34:06.721664Z",
     "iopub.status.idle": "2021-10-03T15:34:06.817942Z",
     "shell.execute_reply": "2021-10-03T15:34:06.818484Z",
     "shell.execute_reply.started": "2021-10-03T15:31:57.388970Z"
    },
    "papermill": {
     "duration": 0.139443,
     "end_time": "2021-10-03T15:34:06.818649",
     "exception": false,
     "start_time": "2021-10-03T15:34:06.679206",
     "status": "completed"
    },
    "tags": []
   },
   "outputs": [
    {
     "data": {
      "text/html": [
       "<div>\n",
       "<style scoped>\n",
       "    .dataframe tbody tr th:only-of-type {\n",
       "        vertical-align: middle;\n",
       "    }\n",
       "\n",
       "    .dataframe tbody tr th {\n",
       "        vertical-align: top;\n",
       "    }\n",
       "\n",
       "    .dataframe thead th {\n",
       "        text-align: right;\n",
       "    }\n",
       "</style>\n",
       "<table border=\"1\" class=\"dataframe\">\n",
       "  <thead>\n",
       "    <tr style=\"text-align: right;\">\n",
       "      <th></th>\n",
       "      <th>threshold</th>\n",
       "      <th>tp</th>\n",
       "      <th>fp</th>\n",
       "      <th>fn</th>\n",
       "      <th>tn</th>\n",
       "      <th>tpr</th>\n",
       "      <th>fpr</th>\n",
       "    </tr>\n",
       "  </thead>\n",
       "  <tbody>\n",
       "    <tr>\n",
       "      <th>50</th>\n",
       "      <td>0.5</td>\n",
       "      <td>114</td>\n",
       "      <td>64</td>\n",
       "      <td>132</td>\n",
       "      <td>581</td>\n",
       "      <td>0.463415</td>\n",
       "      <td>0.099225</td>\n",
       "    </tr>\n",
       "  </tbody>\n",
       "</table>\n",
       "</div>"
      ],
      "text/plain": [
       "    threshold   tp  fp   fn   tn       tpr       fpr\n",
       "50        0.5  114  64  132  581  0.463415  0.099225"
      ]
     },
     "execution_count": 15,
     "metadata": {},
     "output_type": "execute_result"
    }
   ],
   "source": [
    "thresholds = np.arange(0, 1.01, 0.01)\n",
    "df_scores = tpr_fpr_dataframe(y_val, predictions, thresholds)\n",
    "df_scores.loc[df_scores.threshold == 0.5, :]"
   ]
  },
  {
   "cell_type": "code",
   "execution_count": 16,
   "id": "594f3194",
   "metadata": {
    "execution": {
     "iopub.execute_input": "2021-10-03T15:34:06.904229Z",
     "iopub.status.busy": "2021-10-03T15:34:06.903254Z",
     "iopub.status.idle": "2021-10-03T15:34:06.919478Z",
     "shell.execute_reply": "2021-10-03T15:34:06.920403Z",
     "shell.execute_reply.started": "2021-10-03T15:31:57.543422Z"
    },
    "papermill": {
     "duration": 0.062697,
     "end_time": "2021-10-03T15:34:06.920635",
     "exception": false,
     "start_time": "2021-10-03T15:34:06.857938",
     "status": "completed"
    },
    "tags": []
   },
   "outputs": [
    {
     "name": "stdout",
     "output_type": "stream",
     "text": [
      "645 246\n",
      "0.7239057239057238\n"
     ]
    }
   ],
   "source": [
    "num_neg = (y_val == 0).sum()\n",
    "num_pos = (y_val == 1).sum()\n",
    "print(num_neg, num_pos)\n",
    "y_ideal = np.repeat([0, 1], [num_neg, num_pos])\n",
    "y_ideal_pred = np.linspace(0, 1, len(y_val))\n",
    "print(1 - y_val.mean())\n",
    "df_ideal = tpr_fpr_dataframe(y_ideal, y_ideal_pred, thresholds)"
   ]
  },
  {
   "cell_type": "code",
   "execution_count": 17,
   "id": "9da4c431",
   "metadata": {
    "execution": {
     "iopub.execute_input": "2021-10-03T15:34:07.005268Z",
     "iopub.status.busy": "2021-10-03T15:34:07.004301Z",
     "iopub.status.idle": "2021-10-03T15:34:07.262828Z",
     "shell.execute_reply": "2021-10-03T15:34:07.263315Z",
     "shell.execute_reply.started": "2021-10-03T15:31:57.562388Z"
    },
    "papermill": {
     "duration": 0.302562,
     "end_time": "2021-10-03T15:34:07.263532",
     "exception": false,
     "start_time": "2021-10-03T15:34:06.960970",
     "status": "completed"
    },
    "tags": []
   },
   "outputs": [
    {
     "data": {
      "text/plain": [
       "<matplotlib.legend.Legend at 0x7faefc6efd90>"
      ]
     },
     "execution_count": 17,
     "metadata": {},
     "output_type": "execute_result"
    },
    {
     "data": {
      "image/png": "[encoded data removed]",
      "text/plain": [
       "<Figure size 432x288 with 1 Axes>"
      ]
     },
     "metadata": {
      "needs_background": "light"
     },
     "output_type": "display_data"
    }
   ],
   "source": [
    "plt.plot(df_ideal.threshold, df_ideal['tpr'], label='TPR ideal')\n",
    "plt.plot(df_ideal.threshold, df_ideal['fpr'], label='FPR ideal')\n",
    "plt.plot(df_scores.threshold, df_scores['tpr'], label='TPR', color='black')\n",
    "plt.plot(df_scores.threshold, df_scores['fpr'], label='FPR', color='blue')\n",
    "plt.xlabel('threshold')\n",
    "plt.title('TPR and FPR curves')\n",
    "plt.legend()"
   ]
  },
  {
   "cell_type": "code",
   "execution_count": 18,
   "id": "497ee3f0",
   "metadata": {
    "execution": {
     "iopub.execute_input": "2021-10-03T15:34:07.351795Z",
     "iopub.status.busy": "2021-10-03T15:34:07.350802Z",
     "iopub.status.idle": "2021-10-03T15:34:07.555313Z",
     "shell.execute_reply": "2021-10-03T15:34:07.555872Z",
     "shell.execute_reply.started": "2021-10-03T15:31:57.798560Z"
    },
    "papermill": {
     "duration": 0.249731,
     "end_time": "2021-10-03T15:34:07.556042",
     "exception": false,
     "start_time": "2021-10-03T15:34:07.306311",
     "status": "completed"
    },
    "tags": []
   },
   "outputs": [
    {
     "data": {
      "text/plain": [
       "<matplotlib.legend.Legend at 0x7faef45f60d0>"
      ]
     },
     "execution_count": 18,
     "metadata": {},
     "output_type": "execute_result"
    },
    {
     "data": {
      "image/png": "[encoded data removed]",
      "text/plain": [
       "<Figure size 360x360 with 1 Axes>"
      ]
     },
     "metadata": {
      "needs_background": "light"
     },
     "output_type": "display_data"
    }
   ],
   "source": [
    "plt.figure(figsize=(5, 5))\n",
    "\n",
    "plt.plot(df_scores.fpr, df_scores.tpr, label='Model')\n",
    "plt.plot([0, 1], [0, 1], label='Random', linestyle='--')\n",
    "\n",
    "plt.xlabel('FPR')\n",
    "plt.ylabel('TPR')\n",
    "plt.title('ROC curve calculated with thresholds')\n",
    "plt.legend()"
   ]
  },
  {
   "cell_type": "code",
   "execution_count": 19,
   "id": "3a297869",
   "metadata": {
    "execution": {
     "iopub.execute_input": "2021-10-03T15:34:07.646433Z",
     "iopub.status.busy": "2021-10-03T15:34:07.645427Z",
     "iopub.status.idle": "2021-10-03T15:34:07.976740Z",
     "shell.execute_reply": "2021-10-03T15:34:07.977212Z",
     "shell.execute_reply.started": "2021-10-03T15:31:58.010110Z"
    },
    "papermill": {
     "duration": 0.378401,
     "end_time": "2021-10-03T15:34:07.977414",
     "exception": false,
     "start_time": "2021-10-03T15:34:07.599013",
     "status": "completed"
    },
    "tags": []
   },
   "outputs": [
    {
     "data": {
      "text/plain": [
       "<matplotlib.legend.Legend at 0x7faef454da50>"
      ]
     },
     "execution_count": 19,
     "metadata": {},
     "output_type": "execute_result"
    },
    {
     "data": {
      "image/png": "[encoded data removed]",
      "text/plain": [
       "<Figure size 360x360 with 1 Axes>"
      ]
     },
     "metadata": {
      "needs_background": "light"
     },
     "output_type": "display_data"
    }
   ],
   "source": [
    "from sklearn.metrics import auc, roc_curve\n",
    "\n",
    "fpr, tpr, thresholds = roc_curve(y_val, predictions)\n",
    "\n",
    "plt.figure(figsize=(5, 5))\n",
    "\n",
    "plt.plot(fpr, tpr, label='Model')\n",
    "plt.plot([0, 1], [0, 1], label='Random', linestyle='--')\n",
    "\n",
    "plt.xlabel('FPR')\n",
    "plt.ylabel('TPR')\n",
    "plt.title('ROC curve with sklearn metric')\n",
    "plt.legend()"
   ]
  },
  {
   "cell_type": "markdown",
   "id": "61ee632a",
   "metadata": {
    "papermill": {
     "duration": 0.046226,
     "end_time": "2021-10-03T15:34:08.067755",
     "exception": false,
     "start_time": "2021-10-03T15:34:08.021529",
     "status": "completed"
    },
    "tags": []
   },
   "source": [
    "## Question 2\n",
    "\n",
    "What's the AUC of this model on the validation dataset? (round to 3 digits)\n",
    "\n",
    "* 0.512\n",
    "* 0.612\n",
    "* 0.712\n",
    "* 0.812"
   ]
  },
  {
   "cell_type": "code",
   "execution_count": 20,
   "id": "0bf3d9f5",
   "metadata": {
    "execution": {
     "iopub.execute_input": "2021-10-03T15:34:08.160738Z",
     "iopub.status.busy": "2021-10-03T15:34:08.159739Z",
     "iopub.status.idle": "2021-10-03T15:34:08.168338Z",
     "shell.execute_reply": "2021-10-03T15:34:08.167806Z",
     "shell.execute_reply.started": "2021-10-03T15:31:58.218443Z"
    },
    "papermill": {
     "duration": 0.056379,
     "end_time": "2021-10-03T15:34:08.168491",
     "exception": false,
     "start_time": "2021-10-03T15:34:08.112112",
     "status": "completed"
    },
    "tags": []
   },
   "outputs": [
    {
     "data": {
      "text/plain": [
       "0.812"
      ]
     },
     "execution_count": 20,
     "metadata": {},
     "output_type": "execute_result"
    }
   ],
   "source": [
    "# ROC-AUC with predictions and `roc_auc_score` metric\n",
    "auc_score = roc_auc_score(y_val, predictions)\n",
    "round(auc_score, 3)"
   ]
  },
  {
   "cell_type": "markdown",
   "id": "f34c8690",
   "metadata": {
    "papermill": {
     "duration": 0.045508,
     "end_time": "2021-10-03T15:34:08.258466",
     "exception": false,
     "start_time": "2021-10-03T15:34:08.212958",
     "status": "completed"
    },
    "tags": []
   },
   "source": [
    "## Question 3\n",
    "\n",
    "Now let's compute precision and recall for our model.\n",
    "\n",
    "* Evaluate the model on all thresholds from 0.0 to 1.0 with step 0.01\n",
    "* For each threshold, compute precision and recall\n",
    "* Plot them"
   ]
  },
  {
   "cell_type": "code",
   "execution_count": 21,
   "id": "94f02e8a",
   "metadata": {
    "execution": {
     "iopub.execute_input": "2021-10-03T15:34:08.352730Z",
     "iopub.status.busy": "2021-10-03T15:34:08.351722Z",
     "iopub.status.idle": "2021-10-03T15:34:08.357466Z",
     "shell.execute_reply": "2021-10-03T15:34:08.357978Z",
     "shell.execute_reply.started": "2021-10-03T15:31:58.229380Z"
    },
    "papermill": {
     "duration": 0.055103,
     "end_time": "2021-10-03T15:34:08.358154",
     "exception": false,
     "start_time": "2021-10-03T15:34:08.303051",
     "status": "completed"
    },
    "tags": []
   },
   "outputs": [],
   "source": [
    "df_scores['precision'] = df_scores.tp / (df_scores.tp + df_scores.fp)"
   ]
  },
  {
   "cell_type": "code",
   "execution_count": 22,
   "id": "b4d664a7",
   "metadata": {
    "execution": {
     "iopub.execute_input": "2021-10-03T15:34:08.452209Z",
     "iopub.status.busy": "2021-10-03T15:34:08.451138Z",
     "iopub.status.idle": "2021-10-03T15:34:08.664739Z",
     "shell.execute_reply": "2021-10-03T15:34:08.664174Z",
     "shell.execute_reply.started": "2021-10-03T15:31:58.238137Z"
    },
    "papermill": {
     "duration": 0.262142,
     "end_time": "2021-10-03T15:34:08.664878",
     "exception": false,
     "start_time": "2021-10-03T15:34:08.402736",
     "status": "completed"
    },
    "tags": []
   },
   "outputs": [
    {
     "data": {
      "text/plain": [
       "<matplotlib.legend.Legend at 0x7faef44a36d0>"
      ]
     },
     "execution_count": 22,
     "metadata": {},
     "output_type": "execute_result"
    },
    {
     "data": {
      "image/png": "[encoded data removed]",
      "text/plain": [
       "<Figure size 432x288 with 1 Axes>"
      ]
     },
     "metadata": {
      "needs_background": "light"
     },
     "output_type": "display_data"
    }
   ],
   "source": [
    "plt.plot(df_scores.threshold, df_scores['tpr'], label='recall')\n",
    "plt.plot(df_scores.threshold, df_scores['precision'], label='precision')\n",
    "plt.xlabel('threshold')\n",
    "plt.title('Precision-Recall curves')\n",
    "plt.grid()\n",
    "plt.legend()"
   ]
  },
  {
   "cell_type": "markdown",
   "id": "1f5de5ec",
   "metadata": {
    "papermill": {
     "duration": 0.045778,
     "end_time": "2021-10-03T15:34:08.756645",
     "exception": false,
     "start_time": "2021-10-03T15:34:08.710867",
     "status": "completed"
    },
    "tags": []
   },
   "source": [
    "At which threshold precision and recall curves intersect?\n",
    "\n",
    "* 0.2\n",
    "* 0.4\n",
    "* 0.6\n",
    "* 0.8"
   ]
  },
  {
   "cell_type": "code",
   "execution_count": 23,
   "id": "1135f5fd",
   "metadata": {
    "execution": {
     "iopub.execute_input": "2021-10-03T15:34:08.854287Z",
     "iopub.status.busy": "2021-10-03T15:34:08.853653Z",
     "iopub.status.idle": "2021-10-03T15:34:08.858847Z",
     "shell.execute_reply": "2021-10-03T15:34:08.858335Z",
     "shell.execute_reply.started": "2021-10-03T15:31:58.464588Z"
    },
    "papermill": {
     "duration": 0.056287,
     "end_time": "2021-10-03T15:34:08.858989",
     "exception": false,
     "start_time": "2021-10-03T15:34:08.802702",
     "status": "completed"
    },
    "tags": []
   },
   "outputs": [
    {
     "data": {
      "text/plain": [
       "0.4"
      ]
     },
     "execution_count": 23,
     "metadata": {},
     "output_type": "execute_result"
    }
   ],
   "source": [
    "# find threshold at which precision and recall curves intersect\n",
    "df_scores.iloc[(df_scores['precision'] - df_scores['tpr']).abs().argmin(), 0]"
   ]
  },
  {
   "cell_type": "markdown",
   "id": "6fe3e6c4",
   "metadata": {
    "papermill": {
     "duration": 0.048595,
     "end_time": "2021-10-03T15:34:08.954470",
     "exception": false,
     "start_time": "2021-10-03T15:34:08.905875",
     "status": "completed"
    },
    "tags": []
   },
   "source": [
    "## Quesiton 4\n",
    "\n",
    "Precision and recall are conflicting - when one grows, the other goes down. That's why they are often combined into the F1 score - a metrics that takes into account both\n",
    "\n",
    "This is the formula for computing F1:\n",
    "$$F_1 = 2 \\cdot \\cfrac{P \\cdot R}{P + R}$$\n",
    "\n",
    "Where $P$ is precision and $R$ is recall.\n",
    "\n",
    "Let's compute F1 for all thresholds from 0.0 to 1.0 with increment 0.01\n"
   ]
  },
  {
   "cell_type": "code",
   "execution_count": 24,
   "id": "df8ac634",
   "metadata": {
    "execution": {
     "iopub.execute_input": "2021-10-03T15:34:09.053959Z",
     "iopub.status.busy": "2021-10-03T15:34:09.053260Z",
     "iopub.status.idle": "2021-10-03T15:34:09.058818Z",
     "shell.execute_reply": "2021-10-03T15:34:09.059364Z",
     "shell.execute_reply.started": "2021-10-03T15:31:58.475274Z"
    },
    "papermill": {
     "duration": 0.057132,
     "end_time": "2021-10-03T15:34:09.059568",
     "exception": false,
     "start_time": "2021-10-03T15:34:09.002436",
     "status": "completed"
    },
    "tags": []
   },
   "outputs": [],
   "source": [
    "df_scores['f1'] = 2 * (df_scores.precision * df_scores.tpr)/(df_scores.precision + df_scores.tpr)"
   ]
  },
  {
   "cell_type": "markdown",
   "id": "6c5ab7e8",
   "metadata": {
    "papermill": {
     "duration": 0.046169,
     "end_time": "2021-10-03T15:34:09.152166",
     "exception": false,
     "start_time": "2021-10-03T15:34:09.105997",
     "status": "completed"
    },
    "tags": []
   },
   "source": [
    "At which threshold F1 is maximal?\n",
    "\n",
    "* 0.1\n",
    "* 0.3\n",
    "* 0.5\n",
    "* 0.7"
   ]
  },
  {
   "cell_type": "code",
   "execution_count": 25,
   "id": "897643f0",
   "metadata": {
    "execution": {
     "iopub.execute_input": "2021-10-03T15:34:09.247718Z",
     "iopub.status.busy": "2021-10-03T15:34:09.247060Z",
     "iopub.status.idle": "2021-10-03T15:34:09.253767Z",
     "shell.execute_reply": "2021-10-03T15:34:09.254276Z",
     "shell.execute_reply.started": "2021-10-03T15:31:58.488475Z"
    },
    "papermill": {
     "duration": 0.056247,
     "end_time": "2021-10-03T15:34:09.254476",
     "exception": false,
     "start_time": "2021-10-03T15:34:09.198229",
     "status": "completed"
    },
    "tags": []
   },
   "outputs": [
    {
     "name": "stdout",
     "output_type": "stream",
     "text": [
      "threshold      0.300000\n",
      "tp           187.000000\n",
      "fp           162.000000\n",
      "fn            59.000000\n",
      "tn           483.000000\n",
      "tpr            0.760163\n",
      "fpr            0.251163\n",
      "precision      0.535817\n",
      "f1             0.628571\n",
      "Name: 30, dtype: float64\n"
     ]
    }
   ],
   "source": [
    "print(df_scores.iloc[df_scores['f1'].argmax(), :])"
   ]
  },
  {
   "cell_type": "code",
   "execution_count": 26,
   "id": "99d01683",
   "metadata": {
    "execution": {
     "iopub.execute_input": "2021-10-03T15:34:09.352804Z",
     "iopub.status.busy": "2021-10-03T15:34:09.352082Z",
     "iopub.status.idle": "2021-10-03T15:34:09.357706Z",
     "shell.execute_reply": "2021-10-03T15:34:09.358230Z",
     "shell.execute_reply.started": "2021-10-03T15:31:58.503285Z"
    },
    "papermill": {
     "duration": 0.056288,
     "end_time": "2021-10-03T15:34:09.358419",
     "exception": false,
     "start_time": "2021-10-03T15:34:09.302131",
     "status": "completed"
    },
    "tags": []
   },
   "outputs": [
    {
     "data": {
      "text/plain": [
       "0.3"
      ]
     },
     "execution_count": 26,
     "metadata": {},
     "output_type": "execute_result"
    }
   ],
   "source": [
    "df_scores.iloc[df_scores['f1'].argmax(), 0]"
   ]
  },
  {
   "cell_type": "code",
   "execution_count": 27,
   "id": "77ded23b",
   "metadata": {
    "execution": {
     "iopub.execute_input": "2021-10-03T15:34:09.455272Z",
     "iopub.status.busy": "2021-10-03T15:34:09.454634Z",
     "iopub.status.idle": "2021-10-03T15:34:09.462129Z",
     "shell.execute_reply": "2021-10-03T15:34:09.462620Z",
     "shell.execute_reply.started": "2021-10-03T15:31:58.516360Z"
    },
    "papermill": {
     "duration": 0.057565,
     "end_time": "2021-10-03T15:34:09.462796",
     "exception": false,
     "start_time": "2021-10-03T15:34:09.405231",
     "status": "completed"
    },
    "tags": []
   },
   "outputs": [
    {
     "name": "stdout",
     "output_type": "stream",
     "text": [
      "Best threshold maximizing F1 score: 0.3162\n"
     ]
    }
   ],
   "source": [
    "from sklearn.metrics import precision_recall_curve\n",
    "\n",
    "# function to determine the best threshold\n",
    "def find_best_threshold(y_true, y_prob):\n",
    "    \"\"\"Find the best threshold for maximum F1.\"\"\"\n",
    "    precisions, recalls, thresholds = precision_recall_curve(y_true, y_prob)\n",
    "    f1s = (2 * precisions * recalls) / (precisions + recalls)\n",
    "    return thresholds[np.argmax(f1s)]\n",
    "\n",
    "# Best threshold for f1\n",
    "threshold = find_best_threshold(y_val, predictions)\n",
    "print(f'Best threshold maximizing F1 score: {threshold:.4f}')"
   ]
  },
  {
   "cell_type": "markdown",
   "id": "b2c1b982",
   "metadata": {
    "papermill": {
     "duration": 0.047181,
     "end_time": "2021-10-03T15:34:09.557258",
     "exception": false,
     "start_time": "2021-10-03T15:34:09.510077",
     "status": "completed"
    },
    "tags": []
   },
   "source": [
    "## Question 5\n",
    "\n",
    "Use the KFold class from Scikit-Learn to evaluate our model on 5 different folds:\n",
    "\n",
    "    KFold(n_splits=5, shuffle=True, random_state=1)\n",
    "\n",
    "* Iterate over different folds of df_full_train\n",
    "* Split the data into train and validation\n",
    "* Train the model on train with these parameters: LogisticRegression(solver='liblinear', C=1.0, max_iter=1000)\n",
    "* Use AUC to evaluate the model on validation"
   ]
  },
  {
   "cell_type": "code",
   "execution_count": 28,
   "id": "8d1d15e4",
   "metadata": {
    "execution": {
     "iopub.execute_input": "2021-10-03T15:34:09.656113Z",
     "iopub.status.busy": "2021-10-03T15:34:09.655431Z",
     "iopub.status.idle": "2021-10-03T15:34:10.293393Z",
     "shell.execute_reply": "2021-10-03T15:34:10.294168Z",
     "shell.execute_reply.started": "2021-10-03T15:31:58.529197Z"
    },
    "papermill": {
     "duration": 0.689094,
     "end_time": "2021-10-03T15:34:10.294406",
     "exception": false,
     "start_time": "2021-10-03T15:34:09.605312",
     "status": "completed"
    },
    "tags": []
   },
   "outputs": [
    {
     "name": "stdout",
     "output_type": "stream",
     "text": [
      "fold 0 roc-auc score: 0.8256\n",
      "fold 1 roc-auc score: 0.8254\n",
      "fold 2 roc-auc score: 0.7893\n",
      "fold 3 roc-auc score: 0.8153\n",
      "fold 4 roc-auc score: 0.8055\n"
     ]
    }
   ],
   "source": [
    "from sklearn.model_selection import KFold\n",
    "\n",
    "scores = list()\n",
    "\n",
    "# Use the KFold class from Scikit-Learn\n",
    "kfold = KFold(n_splits=5, shuffle=True, random_state=1)\n",
    "\n",
    "# Iterate over different folds of `full_train`\n",
    "for fold, (train_idx, val_idx) in enumerate(kfold.split(full_train)):\n",
    "        \n",
    "        # Split the data into train and validation\n",
    "        df_train = full_train.iloc[train_idx]\n",
    "        df_val = full_train.iloc[val_idx]\n",
    "\n",
    "        y_train = df_train.default.values\n",
    "        y_val = df_val.default.values\n",
    "        \n",
    "        # Apply one-hot-encoding using DictVectorizer\n",
    "        train_dict = df_train[features].to_dict(orient='records')\n",
    "        val_dict = df_val[features].to_dict(orient='records')\n",
    "        \n",
    "        dv = DictVectorizer(sparse=False)\n",
    "\n",
    "        X_train = dv.fit_transform(train_dict)\n",
    "        X_val = dv.transform(val_dict)\n",
    "        \n",
    "        # Train Logistic regression on train part\n",
    "        model = LogisticRegression(solver='liblinear', C=1.0, max_iter=1000)\n",
    "        model.fit(X_train, y_train)\n",
    "\n",
    "        # Use AUC to evaluate the model on validation part\n",
    "        y_pred = model.predict_proba(X_val)[:, 1]\n",
    "        auc = roc_auc_score(y_val, y_pred)\n",
    "        \n",
    "        # save fold score\n",
    "        scores.append(auc)\n",
    "\n",
    "        print(f'fold {fold} roc-auc score: {auc:.4f}')"
   ]
  },
  {
   "cell_type": "markdown",
   "id": "cf4b1ea8",
   "metadata": {
    "papermill": {
     "duration": 0.057709,
     "end_time": "2021-10-03T15:34:10.444561",
     "exception": false,
     "start_time": "2021-10-03T15:34:10.386852",
     "status": "completed"
    },
    "tags": []
   },
   "source": [
    "ow large is standard devidation of the scores across different folds?\n",
    "\n",
    "* 0.001\n",
    "* 0.014\n",
    "* 0.09\n",
    "* 0.14"
   ]
  },
  {
   "cell_type": "code",
   "execution_count": 29,
   "id": "36c46130",
   "metadata": {
    "execution": {
     "iopub.execute_input": "2021-10-03T15:34:10.550115Z",
     "iopub.status.busy": "2021-10-03T15:34:10.549264Z",
     "iopub.status.idle": "2021-10-03T15:34:10.553494Z",
     "shell.execute_reply": "2021-10-03T15:34:10.552952Z",
     "shell.execute_reply.started": "2021-10-03T15:31:59.179136Z"
    },
    "papermill": {
     "duration": 0.060024,
     "end_time": "2021-10-03T15:34:10.553641",
     "exception": false,
     "start_time": "2021-10-03T15:34:10.493617",
     "status": "completed"
    },
    "tags": []
   },
   "outputs": [
    {
     "data": {
      "text/plain": [
       "0.014"
      ]
     },
     "execution_count": 29,
     "metadata": {},
     "output_type": "execute_result"
    }
   ],
   "source": [
    "round(np.std(scores), 3)"
   ]
  },
  {
   "cell_type": "markdown",
   "id": "39c39d95",
   "metadata": {
    "papermill": {
     "duration": 0.049309,
     "end_time": "2021-10-03T15:34:10.651609",
     "exception": false,
     "start_time": "2021-10-03T15:34:10.602300",
     "status": "completed"
    },
    "tags": []
   },
   "source": [
    "## Question 6\n",
    "\n",
    "Now let's use 5-Fold cross-validation to find the best parameter C\n",
    "\n",
    "* Iterate over the following C values: [0.01, 0.1, 1, 10]\n",
    "* Use these parametes for the model: LogisticRegression(solver='liblinear', C=C, max_iter=1000)\n",
    "* Compute the mean score as well as the std\n",
    "\n"
   ]
  },
  {
   "cell_type": "code",
   "execution_count": 30,
   "id": "b1ce71be",
   "metadata": {
    "execution": {
     "iopub.execute_input": "2021-10-03T15:34:10.752261Z",
     "iopub.status.busy": "2021-10-03T15:34:10.751228Z",
     "iopub.status.idle": "2021-10-03T15:34:13.386350Z",
     "shell.execute_reply": "2021-10-03T15:34:13.387986Z",
     "shell.execute_reply.started": "2021-10-03T15:31:59.189111Z"
    },
    "papermill": {
     "duration": 2.688491,
     "end_time": "2021-10-03T15:34:13.388441",
     "exception": false,
     "start_time": "2021-10-03T15:34:10.699950",
     "status": "completed"
    },
    "tags": []
   },
   "outputs": [
    {
     "name": "stdout",
     "output_type": "stream",
     "text": [
      "C=0.01  average roc-auc: 0.8077 +/- 0.012\n",
      "C=0.1   average roc-auc: 0.8129 +/- 0.014\n",
      "C=1     average roc-auc: 0.8122 +/- 0.014\n",
      "C=10    average roc-auc: 0.8141 +/- 0.015\n"
     ]
    }
   ],
   "source": [
    "scores = list()\n",
    "# C values\n",
    "Cs = [0.01, 0.1, 1, 10]\n",
    "\n",
    "kfold = KFold(n_splits=5, shuffle=True, random_state=1)\n",
    "\n",
    "# Iterate over the C values\n",
    "for C in Cs:\n",
    "    kfold_scores = list()\n",
    "    # Iterate over different folds of `full_train`\n",
    "    for train_idx, val_idx in kfold.split(full_train):\n",
    "            \n",
    "            df_train = full_train.iloc[train_idx, :]\n",
    "            df_val = full_train.iloc[val_idx, :]\n",
    "\n",
    "            y_train = df_train.default.values\n",
    "            y_val = df_val.default.values\n",
    "\n",
    "            train_dict = df_train[features].to_dict(orient='records')\n",
    "            val_dict = df_val[features].to_dict(orient='records')\n",
    "        \n",
    "            dv = DictVectorizer(sparse=False)\n",
    "        \n",
    "            X_train = dv.fit_transform(train_dict)\n",
    "            X_val = dv.transform(val_dict)\n",
    "\n",
    "            model = LogisticRegression(solver='liblinear', C=C, max_iter=1000)\n",
    "            model.fit(X_train, y_train)\n",
    "\n",
    "            y_pred = model.predict_proba(X_val)[:, 1]\n",
    "            auc = roc_auc_score(y_val, y_pred)\n",
    "            # save fold auc score\n",
    "            kfold_scores.append(auc)\n",
    "    \n",
    "    # compute the mean score as well as the std\n",
    "    mean_auc = np.mean(kfold_scores)\n",
    "    std = np.std(kfold_scores)\n",
    "    # save mean auc and std of current C value\n",
    "    kfold_scores.extend([mean_auc, std])\n",
    "    scores.append(kfold_scores)\n",
    "    \n",
    "    print(f'C={C:<5} average roc-auc: {mean_auc:.4f} +/- {std:.3f}')"
   ]
  },
  {
   "cell_type": "markdown",
   "id": "2f5b31bb",
   "metadata": {
    "papermill": {
     "duration": 0.058887,
     "end_time": "2021-10-03T15:34:13.537924",
     "exception": false,
     "start_time": "2021-10-03T15:34:13.479037",
     "status": "completed"
    },
    "tags": []
   },
   "source": [
    "Which C leads to the best mean score?\n",
    "\n",
    "* 0.01\n",
    "* 0.1\n",
    "* 1\n",
    "* 10\n",
    "\n",
    "If you have ties, select the score with the lowest std. If you still have ties, select the smallest C"
   ]
  },
  {
   "cell_type": "code",
   "execution_count": 31,
   "id": "b76be1c9",
   "metadata": {
    "execution": {
     "iopub.execute_input": "2021-10-03T15:34:13.649488Z",
     "iopub.status.busy": "2021-10-03T15:34:13.648764Z",
     "iopub.status.idle": "2021-10-03T15:34:13.659854Z",
     "shell.execute_reply": "2021-10-03T15:34:13.659185Z",
     "shell.execute_reply.started": "2021-10-03T15:33:17.839514Z"
    },
    "papermill": {
     "duration": 0.069879,
     "end_time": "2021-10-03T15:34:13.660021",
     "exception": false,
     "start_time": "2021-10-03T15:34:13.590142",
     "status": "completed"
    },
    "tags": []
   },
   "outputs": [
    {
     "name": "stdout",
     "output_type": "stream",
     "text": [
      "ROC-AUC scores on 5-Fold cross-validation\n",
      "\n",
      "|     C |   fold_1 |   fold_2 |   fold_3 |   fold_4 |   fold_5 |   mean_auc |       std |\n",
      "|------:|---------:|---------:|---------:|---------:|---------:|-----------:|----------:|\n",
      "|  0.01 | 0.816078 | 0.82067  | 0.789    | 0.813701 | 0.79899  |   0.807688 | 0.0118321 |\n",
      "|  0.1  | 0.823295 | 0.825279 | 0.789358 | 0.821297 | 0.80528  |   0.812902 | 0.0137408 |\n",
      "|  1    | 0.825621 | 0.825408 | 0.789299 | 0.815342 | 0.80547  |   0.812228 | 0.0136691 |\n",
      "| 10    | 0.825592 | 0.825428 | 0.789259 | 0.824913 | 0.805526 |   0.814143 | 0.0146142 |\n"
     ]
    }
   ],
   "source": [
    "# creating dataframe from list of 5-Fold cross-validation scores\n",
    "df_accuracy = pd.DataFrame(scores, columns=['fold_1', 'fold_2', 'fold_3', 'fold_4', \n",
    "                                        'fold_5', 'mean_auc', 'std'], \n",
    "                       index=[str(c) for c in Cs]).rename_axis('C')\n",
    "print('ROC-AUC scores on 5-Fold cross-validation\\n')\n",
    "print(df_accuracy.to_markdown())"
   ]
  },
  {
   "cell_type": "code",
   "execution_count": 32,
   "id": "1f6fe2ab",
   "metadata": {
    "execution": {
     "iopub.execute_input": "2021-10-03T15:34:13.766633Z",
     "iopub.status.busy": "2021-10-03T15:34:13.765859Z",
     "iopub.status.idle": "2021-10-03T15:34:13.772012Z",
     "shell.execute_reply": "2021-10-03T15:34:13.771320Z",
     "shell.execute_reply.started": "2021-10-03T15:33:28.625985Z"
    },
    "papermill": {
     "duration": 0.060427,
     "end_time": "2021-10-03T15:34:13.772159",
     "exception": false,
     "start_time": "2021-10-03T15:34:13.711732",
     "status": "completed"
    },
    "tags": []
   },
   "outputs": [
    {
     "data": {
      "text/plain": [
       "'10'"
      ]
     },
     "execution_count": 32,
     "metadata": {},
     "output_type": "execute_result"
    }
   ],
   "source": [
    "df_accuracy.mean_auc.idxmax()"
   ]
  }
 ],
 "metadata": {
  "kernelspec": {
   "display_name": "Python 3",
   "language": "python",
   "name": "python3"
  },
  "language_info": {
   "codemirror_mode": {
    "name": "ipython",
    "version": 3
   },
   "file_extension": ".py",
   "mimetype": "text/x-python",
   "name": "python",
   "nbconvert_exporter": "python",
   "pygments_lexer": "ipython3",
   "version": "3.7.10"
  },
  "papermill": {
   "default_parameters": {},
   "duration": 21.866601,
   "end_time": "2021-10-03T15:34:15.049536",
   "environment_variables": {},
   "exception": null,
   "input_path": "__notebook__.ipynb",
   "output_path": "__notebook__.ipynb",
   "parameters": {},
   "start_time": "2021-10-03T15:33:53.182935",
   "version": "2.3.3"
  }
 },
 "nbformat": 4,
 "nbformat_minor": 5
}
