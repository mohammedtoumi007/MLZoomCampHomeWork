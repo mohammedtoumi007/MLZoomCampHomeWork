{
 "cells": [
  {
   "cell_type": "markdown",
   "id": "5311e0e5",
   "metadata": {
    "_cell_guid": "b1076dfc-b9ad-4769-8c92-a6c4dae69d19",
    "_uuid": "8f2839f25d086af736a60e9eeb907d3b93b6e0e5",
    "papermill": {
     "duration": 0.022975,
     "end_time": "2021-09-27T15:17:26.323870",
     "exception": false,
     "start_time": "2021-09-27T15:17:26.300895",
     "status": "completed"
    },
    "tags": []
   },
   "source": [
    "## This Week 3 Questions\n",
    "Notebook is a part of FREE ML course by Glexey Grigorev. [List Of The Questions](https://github.com/alexeygrigorev/mlbookcamp-code/blob/master/course-zoomcamp/03-classification/homework.md)"
   ]
  },
  {
   "cell_type": "markdown",
   "id": "a92bde15",
   "metadata": {
    "papermill": {
     "duration": 0.021702,
     "end_time": "2021-09-27T15:17:26.369784",
     "exception": false,
     "start_time": "2021-09-27T15:17:26.348082",
     "status": "completed"
    },
    "tags": []
   },
   "source": [
    "## Importing Libraries"
   ]
  },
  {
   "cell_type": "code",
   "execution_count": 1,
   "id": "aeb51d16",
   "metadata": {
    "execution": {
     "iopub.execute_input": "2021-09-27T15:17:26.426521Z",
     "iopub.status.busy": "2021-09-27T15:17:26.425801Z",
     "iopub.status.idle": "2021-09-27T15:17:27.932632Z",
     "shell.execute_reply": "2021-09-27T15:17:27.931907Z",
     "shell.execute_reply.started": "2021-09-27T14:52:17.768265Z"
    },
    "papermill": {
     "duration": 1.541244,
     "end_time": "2021-09-27T15:17:27.932805",
     "exception": false,
     "start_time": "2021-09-27T15:17:26.391561",
     "status": "completed"
    },
    "tags": []
   },
   "outputs": [],
   "source": [
    "import numpy as np\n",
    "import pandas as pd\n",
    "import matplotlib.pyplot as plt\n",
    "import seaborn as sns\n",
    "from sklearn.model_selection import train_test_split\n",
    "from sklearn.metrics import mutual_info_score, mean_squared_error\n",
    "from sklearn.feature_extraction import DictVectorizer\n",
    "from sklearn.linear_model import LogisticRegression, Ridge\n",
    "import warnings"
   ]
  },
  {
   "cell_type": "markdown",
   "id": "d431e1c6",
   "metadata": {
    "papermill": {
     "duration": 0.021358,
     "end_time": "2021-09-27T15:17:27.976151",
     "exception": false,
     "start_time": "2021-09-27T15:17:27.954793",
     "status": "completed"
    },
    "tags": []
   },
   "source": [
    "## Loading and Reading Data "
   ]
  },
  {
   "cell_type": "code",
   "execution_count": 2,
   "id": "c2d61c42",
   "metadata": {
    "execution": {
     "iopub.execute_input": "2021-09-27T15:17:28.025263Z",
     "iopub.status.busy": "2021-09-27T15:17:28.024622Z",
     "iopub.status.idle": "2021-09-27T15:17:28.339318Z",
     "shell.execute_reply": "2021-09-27T15:17:28.339822Z",
     "shell.execute_reply.started": "2021-09-27T14:52:50.292032Z"
    },
    "papermill": {
     "duration": 0.342134,
     "end_time": "2021-09-27T15:17:28.339998",
     "exception": false,
     "start_time": "2021-09-27T15:17:27.997864",
     "status": "completed"
    },
    "tags": []
   },
   "outputs": [
    {
     "data": {
      "text/html": [
       "<div>\n",
       "<style scoped>\n",
       "    .dataframe tbody tr th:only-of-type {\n",
       "        vertical-align: middle;\n",
       "    }\n",
       "\n",
       "    .dataframe tbody tr th {\n",
       "        vertical-align: top;\n",
       "    }\n",
       "\n",
       "    .dataframe thead th {\n",
       "        text-align: right;\n",
       "    }\n",
       "</style>\n",
       "<table border=\"1\" class=\"dataframe\">\n",
       "  <thead>\n",
       "    <tr style=\"text-align: right;\">\n",
       "      <th></th>\n",
       "      <th>id</th>\n",
       "      <th>name</th>\n",
       "      <th>host_id</th>\n",
       "      <th>host_name</th>\n",
       "      <th>neighbourhood_group</th>\n",
       "      <th>neighbourhood</th>\n",
       "      <th>latitude</th>\n",
       "      <th>longitude</th>\n",
       "      <th>room_type</th>\n",
       "      <th>price</th>\n",
       "      <th>minimum_nights</th>\n",
       "      <th>number_of_reviews</th>\n",
       "      <th>last_review</th>\n",
       "      <th>reviews_per_month</th>\n",
       "      <th>calculated_host_listings_count</th>\n",
       "      <th>availability_365</th>\n",
       "    </tr>\n",
       "  </thead>\n",
       "  <tbody>\n",
       "    <tr>\n",
       "      <th>0</th>\n",
       "      <td>2539</td>\n",
       "      <td>Clean &amp; quiet apt home by the park</td>\n",
       "      <td>2787</td>\n",
       "      <td>John</td>\n",
       "      <td>Brooklyn</td>\n",
       "      <td>Kensington</td>\n",
       "      <td>40.64749</td>\n",
       "      <td>-73.97237</td>\n",
       "      <td>Private room</td>\n",
       "      <td>149</td>\n",
       "      <td>1</td>\n",
       "      <td>9</td>\n",
       "      <td>2018-10-19</td>\n",
       "      <td>0.21</td>\n",
       "      <td>6</td>\n",
       "      <td>365</td>\n",
       "    </tr>\n",
       "    <tr>\n",
       "      <th>1</th>\n",
       "      <td>2595</td>\n",
       "      <td>Skylit Midtown Castle</td>\n",
       "      <td>2845</td>\n",
       "      <td>Jennifer</td>\n",
       "      <td>Manhattan</td>\n",
       "      <td>Midtown</td>\n",
       "      <td>40.75362</td>\n",
       "      <td>-73.98377</td>\n",
       "      <td>Entire home/apt</td>\n",
       "      <td>225</td>\n",
       "      <td>1</td>\n",
       "      <td>45</td>\n",
       "      <td>2019-05-21</td>\n",
       "      <td>0.38</td>\n",
       "      <td>2</td>\n",
       "      <td>355</td>\n",
       "    </tr>\n",
       "    <tr>\n",
       "      <th>2</th>\n",
       "      <td>3647</td>\n",
       "      <td>THE VILLAGE OF HARLEM....NEW YORK !</td>\n",
       "      <td>4632</td>\n",
       "      <td>Elisabeth</td>\n",
       "      <td>Manhattan</td>\n",
       "      <td>Harlem</td>\n",
       "      <td>40.80902</td>\n",
       "      <td>-73.94190</td>\n",
       "      <td>Private room</td>\n",
       "      <td>150</td>\n",
       "      <td>3</td>\n",
       "      <td>0</td>\n",
       "      <td>NaN</td>\n",
       "      <td>NaN</td>\n",
       "      <td>1</td>\n",
       "      <td>365</td>\n",
       "    </tr>\n",
       "    <tr>\n",
       "      <th>3</th>\n",
       "      <td>3831</td>\n",
       "      <td>Cozy Entire Floor of Brownstone</td>\n",
       "      <td>4869</td>\n",
       "      <td>LisaRoxanne</td>\n",
       "      <td>Brooklyn</td>\n",
       "      <td>Clinton Hill</td>\n",
       "      <td>40.68514</td>\n",
       "      <td>-73.95976</td>\n",
       "      <td>Entire home/apt</td>\n",
       "      <td>89</td>\n",
       "      <td>1</td>\n",
       "      <td>270</td>\n",
       "      <td>2019-07-05</td>\n",
       "      <td>4.64</td>\n",
       "      <td>1</td>\n",
       "      <td>194</td>\n",
       "    </tr>\n",
       "    <tr>\n",
       "      <th>4</th>\n",
       "      <td>5022</td>\n",
       "      <td>Entire Apt: Spacious Studio/Loft by central park</td>\n",
       "      <td>7192</td>\n",
       "      <td>Laura</td>\n",
       "      <td>Manhattan</td>\n",
       "      <td>East Harlem</td>\n",
       "      <td>40.79851</td>\n",
       "      <td>-73.94399</td>\n",
       "      <td>Entire home/apt</td>\n",
       "      <td>80</td>\n",
       "      <td>10</td>\n",
       "      <td>9</td>\n",
       "      <td>2018-11-19</td>\n",
       "      <td>0.10</td>\n",
       "      <td>1</td>\n",
       "      <td>0</td>\n",
       "    </tr>\n",
       "  </tbody>\n",
       "</table>\n",
       "</div>"
      ],
      "text/plain": [
       "     id                                              name  host_id  \\\n",
       "0  2539                Clean & quiet apt home by the park     2787   \n",
       "1  2595                             Skylit Midtown Castle     2845   \n",
       "2  3647               THE VILLAGE OF HARLEM....NEW YORK !     4632   \n",
       "3  3831                   Cozy Entire Floor of Brownstone     4869   \n",
       "4  5022  Entire Apt: Spacious Studio/Loft by central park     7192   \n",
       "\n",
       "     host_name neighbourhood_group neighbourhood  latitude  longitude  \\\n",
       "0         John            Brooklyn    Kensington  40.64749  -73.97237   \n",
       "1     Jennifer           Manhattan       Midtown  40.75362  -73.98377   \n",
       "2    Elisabeth           Manhattan        Harlem  40.80902  -73.94190   \n",
       "3  LisaRoxanne            Brooklyn  Clinton Hill  40.68514  -73.95976   \n",
       "4        Laura           Manhattan   East Harlem  40.79851  -73.94399   \n",
       "\n",
       "         room_type  price  minimum_nights  number_of_reviews last_review  \\\n",
       "0     Private room    149               1                  9  2018-10-19   \n",
       "1  Entire home/apt    225               1                 45  2019-05-21   \n",
       "2     Private room    150               3                  0         NaN   \n",
       "3  Entire home/apt     89               1                270  2019-07-05   \n",
       "4  Entire home/apt     80              10                  9  2018-11-19   \n",
       "\n",
       "   reviews_per_month  calculated_host_listings_count  availability_365  \n",
       "0               0.21                               6               365  \n",
       "1               0.38                               2               355  \n",
       "2                NaN                               1               365  \n",
       "3               4.64                               1               194  \n",
       "4               0.10                               1                 0  "
      ]
     },
     "execution_count": 2,
     "metadata": {},
     "output_type": "execute_result"
    }
   ],
   "source": [
    "data = pd.read_csv('../input/new-york-city-airbnb-open-data/AB_NYC_2019.csv')\n",
    "data.head()"
   ]
  },
  {
   "cell_type": "markdown",
   "id": "c1778e0f",
   "metadata": {
    "papermill": {
     "duration": 0.022698,
     "end_time": "2021-09-27T15:17:28.386843",
     "exception": false,
     "start_time": "2021-09-27T15:17:28.364145",
     "status": "completed"
    },
    "tags": []
   },
   "source": [
    "## Features used for this Project"
   ]
  },
  {
   "cell_type": "code",
   "execution_count": 3,
   "id": "f9c0a563",
   "metadata": {
    "execution": {
     "iopub.execute_input": "2021-09-27T15:17:28.444453Z",
     "iopub.status.busy": "2021-09-27T15:17:28.443774Z",
     "iopub.status.idle": "2021-09-27T15:17:28.496959Z",
     "shell.execute_reply": "2021-09-27T15:17:28.496297Z",
     "shell.execute_reply.started": "2021-09-27T14:53:24.217720Z"
    },
    "papermill": {
     "duration": 0.087612,
     "end_time": "2021-09-27T15:17:28.497099",
     "exception": false,
     "start_time": "2021-09-27T15:17:28.409487",
     "status": "completed"
    },
    "tags": []
   },
   "outputs": [
    {
     "data": {
      "text/html": [
       "<div>\n",
       "<style scoped>\n",
       "    .dataframe tbody tr th:only-of-type {\n",
       "        vertical-align: middle;\n",
       "    }\n",
       "\n",
       "    .dataframe tbody tr th {\n",
       "        vertical-align: top;\n",
       "    }\n",
       "\n",
       "    .dataframe thead th {\n",
       "        text-align: right;\n",
       "    }\n",
       "</style>\n",
       "<table border=\"1\" class=\"dataframe\">\n",
       "  <thead>\n",
       "    <tr style=\"text-align: right;\">\n",
       "      <th></th>\n",
       "      <th>latitude</th>\n",
       "      <th>longitude</th>\n",
       "      <th>price</th>\n",
       "      <th>minimum_nights</th>\n",
       "      <th>number_of_reviews</th>\n",
       "      <th>reviews_per_month</th>\n",
       "      <th>calculated_host_listings_count</th>\n",
       "      <th>availability_365</th>\n",
       "    </tr>\n",
       "  </thead>\n",
       "  <tbody>\n",
       "    <tr>\n",
       "      <th>count</th>\n",
       "      <td>48895.000000</td>\n",
       "      <td>48895.000000</td>\n",
       "      <td>48895.000000</td>\n",
       "      <td>48895.000000</td>\n",
       "      <td>48895.000000</td>\n",
       "      <td>38843.000000</td>\n",
       "      <td>48895.000000</td>\n",
       "      <td>48895.000000</td>\n",
       "    </tr>\n",
       "    <tr>\n",
       "      <th>mean</th>\n",
       "      <td>40.728949</td>\n",
       "      <td>-73.952170</td>\n",
       "      <td>152.720687</td>\n",
       "      <td>7.029962</td>\n",
       "      <td>23.274466</td>\n",
       "      <td>1.373221</td>\n",
       "      <td>7.143982</td>\n",
       "      <td>112.781327</td>\n",
       "    </tr>\n",
       "    <tr>\n",
       "      <th>std</th>\n",
       "      <td>0.054530</td>\n",
       "      <td>0.046157</td>\n",
       "      <td>240.154170</td>\n",
       "      <td>20.510550</td>\n",
       "      <td>44.550582</td>\n",
       "      <td>1.680442</td>\n",
       "      <td>32.952519</td>\n",
       "      <td>131.622289</td>\n",
       "    </tr>\n",
       "    <tr>\n",
       "      <th>min</th>\n",
       "      <td>40.499790</td>\n",
       "      <td>-74.244420</td>\n",
       "      <td>0.000000</td>\n",
       "      <td>1.000000</td>\n",
       "      <td>0.000000</td>\n",
       "      <td>0.010000</td>\n",
       "      <td>1.000000</td>\n",
       "      <td>0.000000</td>\n",
       "    </tr>\n",
       "    <tr>\n",
       "      <th>25%</th>\n",
       "      <td>40.690100</td>\n",
       "      <td>-73.983070</td>\n",
       "      <td>69.000000</td>\n",
       "      <td>1.000000</td>\n",
       "      <td>1.000000</td>\n",
       "      <td>0.190000</td>\n",
       "      <td>1.000000</td>\n",
       "      <td>0.000000</td>\n",
       "    </tr>\n",
       "    <tr>\n",
       "      <th>50%</th>\n",
       "      <td>40.723070</td>\n",
       "      <td>-73.955680</td>\n",
       "      <td>106.000000</td>\n",
       "      <td>3.000000</td>\n",
       "      <td>5.000000</td>\n",
       "      <td>0.720000</td>\n",
       "      <td>1.000000</td>\n",
       "      <td>45.000000</td>\n",
       "    </tr>\n",
       "    <tr>\n",
       "      <th>75%</th>\n",
       "      <td>40.763115</td>\n",
       "      <td>-73.936275</td>\n",
       "      <td>175.000000</td>\n",
       "      <td>5.000000</td>\n",
       "      <td>24.000000</td>\n",
       "      <td>2.020000</td>\n",
       "      <td>2.000000</td>\n",
       "      <td>227.000000</td>\n",
       "    </tr>\n",
       "    <tr>\n",
       "      <th>max</th>\n",
       "      <td>40.913060</td>\n",
       "      <td>-73.712990</td>\n",
       "      <td>10000.000000</td>\n",
       "      <td>1250.000000</td>\n",
       "      <td>629.000000</td>\n",
       "      <td>58.500000</td>\n",
       "      <td>327.000000</td>\n",
       "      <td>365.000000</td>\n",
       "    </tr>\n",
       "  </tbody>\n",
       "</table>\n",
       "</div>"
      ],
      "text/plain": [
       "           latitude     longitude         price  minimum_nights  \\\n",
       "count  48895.000000  48895.000000  48895.000000    48895.000000   \n",
       "mean      40.728949    -73.952170    152.720687        7.029962   \n",
       "std        0.054530      0.046157    240.154170       20.510550   \n",
       "min       40.499790    -74.244420      0.000000        1.000000   \n",
       "25%       40.690100    -73.983070     69.000000        1.000000   \n",
       "50%       40.723070    -73.955680    106.000000        3.000000   \n",
       "75%       40.763115    -73.936275    175.000000        5.000000   \n",
       "max       40.913060    -73.712990  10000.000000     1250.000000   \n",
       "\n",
       "       number_of_reviews  reviews_per_month  calculated_host_listings_count  \\\n",
       "count       48895.000000       38843.000000                    48895.000000   \n",
       "mean           23.274466           1.373221                        7.143982   \n",
       "std            44.550582           1.680442                       32.952519   \n",
       "min             0.000000           0.010000                        1.000000   \n",
       "25%             1.000000           0.190000                        1.000000   \n",
       "50%             5.000000           0.720000                        1.000000   \n",
       "75%            24.000000           2.020000                        2.000000   \n",
       "max           629.000000          58.500000                      327.000000   \n",
       "\n",
       "       availability_365  \n",
       "count      48895.000000  \n",
       "mean         112.781327  \n",
       "std          131.622289  \n",
       "min            0.000000  \n",
       "25%            0.000000  \n",
       "50%           45.000000  \n",
       "75%          227.000000  \n",
       "max          365.000000  "
      ]
     },
     "execution_count": 3,
     "metadata": {},
     "output_type": "execute_result"
    }
   ],
   "source": [
    "features  = [\n",
    "    'neighbourhood_group',\n",
    "    'room_type',\n",
    "    'latitude',\n",
    "    'longitude',\n",
    "    'price',\n",
    "    'minimum_nights',\n",
    "    'number_of_reviews',\n",
    "    'reviews_per_month',\n",
    "    'calculated_host_listings_count',\n",
    "    'availability_365'\n",
    "]\n",
    "df = data[features]\n",
    "\"\"\"Checking description of this project's data set\"\"\"\n",
    "df.describe()"
   ]
  },
  {
   "cell_type": "markdown",
   "id": "addf9fe6",
   "metadata": {
    "papermill": {
     "duration": 0.022762,
     "end_time": "2021-09-27T15:17:28.543085",
     "exception": false,
     "start_time": "2021-09-27T15:17:28.520323",
     "status": "completed"
    },
    "tags": []
   },
   "source": [
    "## Missing Values? Impute them with 0"
   ]
  },
  {
   "cell_type": "code",
   "execution_count": 4,
   "id": "3b2472e7",
   "metadata": {
    "execution": {
     "iopub.execute_input": "2021-09-27T15:17:28.607652Z",
     "iopub.status.busy": "2021-09-27T15:17:28.606951Z",
     "iopub.status.idle": "2021-09-27T15:17:28.732043Z",
     "shell.execute_reply": "2021-09-27T15:17:28.732950Z",
     "shell.execute_reply.started": "2021-09-27T14:55:39.448241Z"
    },
    "papermill": {
     "duration": 0.166908,
     "end_time": "2021-09-27T15:17:28.733343",
     "exception": false,
     "start_time": "2021-09-27T15:17:28.566435",
     "status": "completed"
    },
    "tags": []
   },
   "outputs": [
    {
     "name": "stdout",
     "output_type": "stream",
     "text": [
      "Before Imputing Missing Values\n"
     ]
    },
    {
     "data": {
      "text/html": [
       "<style type=\"text/css\">\n",
       "#T_cedda_row0_col1 {\n",
       "  background-color: #08306b;\n",
       "  color: #f1f1f1;\n",
       "}\n",
       "#T_cedda_row1_col1, #T_cedda_row2_col1, #T_cedda_row3_col1, #T_cedda_row4_col1, #T_cedda_row5_col1, #T_cedda_row6_col1, #T_cedda_row7_col1, #T_cedda_row8_col1, #T_cedda_row9_col1 {\n",
       "  background-color: #f7fbff;\n",
       "  color: #000000;\n",
       "}\n",
       "</style>\n",
       "<table id=\"T_cedda_\">\n",
       "  <thead>\n",
       "    <tr>\n",
       "      <th class=\"blank level0\" >&nbsp;</th>\n",
       "      <th class=\"col_heading level0 col0\" >Variables</th>\n",
       "      <th class=\"col_heading level0 col1\" >Missing Values</th>\n",
       "    </tr>\n",
       "  </thead>\n",
       "  <tbody>\n",
       "    <tr>\n",
       "      <th id=\"T_cedda_level0_row0\" class=\"row_heading level0 row0\" >7</th>\n",
       "      <td id=\"T_cedda_row0_col0\" class=\"data row0 col0\" >reviews_per_month</td>\n",
       "      <td id=\"T_cedda_row0_col1\" class=\"data row0 col1\" >10052</td>\n",
       "    </tr>\n",
       "    <tr>\n",
       "      <th id=\"T_cedda_level0_row1\" class=\"row_heading level0 row1\" >0</th>\n",
       "      <td id=\"T_cedda_row1_col0\" class=\"data row1 col0\" >neighbourhood_group</td>\n",
       "      <td id=\"T_cedda_row1_col1\" class=\"data row1 col1\" >0</td>\n",
       "    </tr>\n",
       "    <tr>\n",
       "      <th id=\"T_cedda_level0_row2\" class=\"row_heading level0 row2\" >1</th>\n",
       "      <td id=\"T_cedda_row2_col0\" class=\"data row2 col0\" >room_type</td>\n",
       "      <td id=\"T_cedda_row2_col1\" class=\"data row2 col1\" >0</td>\n",
       "    </tr>\n",
       "    <tr>\n",
       "      <th id=\"T_cedda_level0_row3\" class=\"row_heading level0 row3\" >2</th>\n",
       "      <td id=\"T_cedda_row3_col0\" class=\"data row3 col0\" >latitude</td>\n",
       "      <td id=\"T_cedda_row3_col1\" class=\"data row3 col1\" >0</td>\n",
       "    </tr>\n",
       "    <tr>\n",
       "      <th id=\"T_cedda_level0_row4\" class=\"row_heading level0 row4\" >3</th>\n",
       "      <td id=\"T_cedda_row4_col0\" class=\"data row4 col0\" >longitude</td>\n",
       "      <td id=\"T_cedda_row4_col1\" class=\"data row4 col1\" >0</td>\n",
       "    </tr>\n",
       "    <tr>\n",
       "      <th id=\"T_cedda_level0_row5\" class=\"row_heading level0 row5\" >4</th>\n",
       "      <td id=\"T_cedda_row5_col0\" class=\"data row5 col0\" >price</td>\n",
       "      <td id=\"T_cedda_row5_col1\" class=\"data row5 col1\" >0</td>\n",
       "    </tr>\n",
       "    <tr>\n",
       "      <th id=\"T_cedda_level0_row6\" class=\"row_heading level0 row6\" >5</th>\n",
       "      <td id=\"T_cedda_row6_col0\" class=\"data row6 col0\" >minimum_nights</td>\n",
       "      <td id=\"T_cedda_row6_col1\" class=\"data row6 col1\" >0</td>\n",
       "    </tr>\n",
       "    <tr>\n",
       "      <th id=\"T_cedda_level0_row7\" class=\"row_heading level0 row7\" >6</th>\n",
       "      <td id=\"T_cedda_row7_col0\" class=\"data row7 col0\" >number_of_reviews</td>\n",
       "      <td id=\"T_cedda_row7_col1\" class=\"data row7 col1\" >0</td>\n",
       "    </tr>\n",
       "    <tr>\n",
       "      <th id=\"T_cedda_level0_row8\" class=\"row_heading level0 row8\" >8</th>\n",
       "      <td id=\"T_cedda_row8_col0\" class=\"data row8 col0\" >calculated_host_listings_count</td>\n",
       "      <td id=\"T_cedda_row8_col1\" class=\"data row8 col1\" >0</td>\n",
       "    </tr>\n",
       "    <tr>\n",
       "      <th id=\"T_cedda_level0_row9\" class=\"row_heading level0 row9\" >9</th>\n",
       "      <td id=\"T_cedda_row9_col0\" class=\"data row9 col0\" >availability_365</td>\n",
       "      <td id=\"T_cedda_row9_col1\" class=\"data row9 col1\" >0</td>\n",
       "    </tr>\n",
       "  </tbody>\n",
       "</table>\n"
      ],
      "text/plain": [
       "<pandas.io.formats.style.Styler at 0x7fe1c8b04d90>"
      ]
     },
     "metadata": {},
     "output_type": "display_data"
    },
    {
     "name": "stdout",
     "output_type": "stream",
     "text": [
      "After Imputing Missing Values\n"
     ]
    },
    {
     "name": "stderr",
     "output_type": "stream",
     "text": [
      "/opt/conda/lib/python3.7/site-packages/pandas/core/frame.py:5177: SettingWithCopyWarning: \n",
      "A value is trying to be set on a copy of a slice from a DataFrame\n",
      "\n",
      "See the caveats in the documentation: https://pandas.pydata.org/pandas-docs/stable/user_guide/indexing.html#returning-a-view-versus-a-copy\n",
      "  downcast=downcast,\n"
     ]
    },
    {
     "data": {
      "text/html": [
       "<style type=\"text/css\">\n",
       "#T_99044_row0_col1, #T_99044_row1_col1, #T_99044_row2_col1, #T_99044_row3_col1, #T_99044_row4_col1, #T_99044_row5_col1, #T_99044_row6_col1, #T_99044_row7_col1, #T_99044_row8_col1, #T_99044_row9_col1 {\n",
       "  background-color: #f7fbff;\n",
       "  color: #000000;\n",
       "}\n",
       "</style>\n",
       "<table id=\"T_99044_\">\n",
       "  <thead>\n",
       "    <tr>\n",
       "      <th class=\"blank level0\" >&nbsp;</th>\n",
       "      <th class=\"col_heading level0 col0\" >Variables</th>\n",
       "      <th class=\"col_heading level0 col1\" >Missing Values</th>\n",
       "    </tr>\n",
       "  </thead>\n",
       "  <tbody>\n",
       "    <tr>\n",
       "      <th id=\"T_99044_level0_row0\" class=\"row_heading level0 row0\" >0</th>\n",
       "      <td id=\"T_99044_row0_col0\" class=\"data row0 col0\" >neighbourhood_group</td>\n",
       "      <td id=\"T_99044_row0_col1\" class=\"data row0 col1\" >0</td>\n",
       "    </tr>\n",
       "    <tr>\n",
       "      <th id=\"T_99044_level0_row1\" class=\"row_heading level0 row1\" >1</th>\n",
       "      <td id=\"T_99044_row1_col0\" class=\"data row1 col0\" >room_type</td>\n",
       "      <td id=\"T_99044_row1_col1\" class=\"data row1 col1\" >0</td>\n",
       "    </tr>\n",
       "    <tr>\n",
       "      <th id=\"T_99044_level0_row2\" class=\"row_heading level0 row2\" >2</th>\n",
       "      <td id=\"T_99044_row2_col0\" class=\"data row2 col0\" >latitude</td>\n",
       "      <td id=\"T_99044_row2_col1\" class=\"data row2 col1\" >0</td>\n",
       "    </tr>\n",
       "    <tr>\n",
       "      <th id=\"T_99044_level0_row3\" class=\"row_heading level0 row3\" >3</th>\n",
       "      <td id=\"T_99044_row3_col0\" class=\"data row3 col0\" >longitude</td>\n",
       "      <td id=\"T_99044_row3_col1\" class=\"data row3 col1\" >0</td>\n",
       "    </tr>\n",
       "    <tr>\n",
       "      <th id=\"T_99044_level0_row4\" class=\"row_heading level0 row4\" >4</th>\n",
       "      <td id=\"T_99044_row4_col0\" class=\"data row4 col0\" >price</td>\n",
       "      <td id=\"T_99044_row4_col1\" class=\"data row4 col1\" >0</td>\n",
       "    </tr>\n",
       "    <tr>\n",
       "      <th id=\"T_99044_level0_row5\" class=\"row_heading level0 row5\" >5</th>\n",
       "      <td id=\"T_99044_row5_col0\" class=\"data row5 col0\" >minimum_nights</td>\n",
       "      <td id=\"T_99044_row5_col1\" class=\"data row5 col1\" >0</td>\n",
       "    </tr>\n",
       "    <tr>\n",
       "      <th id=\"T_99044_level0_row6\" class=\"row_heading level0 row6\" >6</th>\n",
       "      <td id=\"T_99044_row6_col0\" class=\"data row6 col0\" >number_of_reviews</td>\n",
       "      <td id=\"T_99044_row6_col1\" class=\"data row6 col1\" >0</td>\n",
       "    </tr>\n",
       "    <tr>\n",
       "      <th id=\"T_99044_level0_row7\" class=\"row_heading level0 row7\" >7</th>\n",
       "      <td id=\"T_99044_row7_col0\" class=\"data row7 col0\" >reviews_per_month</td>\n",
       "      <td id=\"T_99044_row7_col1\" class=\"data row7 col1\" >0</td>\n",
       "    </tr>\n",
       "    <tr>\n",
       "      <th id=\"T_99044_level0_row8\" class=\"row_heading level0 row8\" >8</th>\n",
       "      <td id=\"T_99044_row8_col0\" class=\"data row8 col0\" >calculated_host_listings_count</td>\n",
       "      <td id=\"T_99044_row8_col1\" class=\"data row8 col1\" >0</td>\n",
       "    </tr>\n",
       "    <tr>\n",
       "      <th id=\"T_99044_level0_row9\" class=\"row_heading level0 row9\" >9</th>\n",
       "      <td id=\"T_99044_row9_col0\" class=\"data row9 col0\" >availability_365</td>\n",
       "      <td id=\"T_99044_row9_col1\" class=\"data row9 col1\" >0</td>\n",
       "    </tr>\n",
       "  </tbody>\n",
       "</table>\n"
      ],
      "text/plain": [
       "<pandas.io.formats.style.Styler at 0x7fe1be4c1d50>"
      ]
     },
     "metadata": {},
     "output_type": "display_data"
    }
   ],
   "source": [
    "from IPython.display import display\n",
    "missing_vals = df.isnull().sum()\n",
    "print(\"Before Imputing Missing Values\")\n",
    "display(missing_vals.to_frame().reset_index().rename({'index': 'Variables', 0: 'Missing Values'}, axis = 1).sort_values(by = 'Missing Values', ascending = False).style.background_gradient('Blues'))\n",
    "\n",
    "\n",
    "df.fillna(0, inplace = True)\n",
    "print(\"After Imputing Missing Values\")\n",
    "display(df.isnull().sum().to_frame().reset_index().rename({'index': 'Variables', 0: 'Missing Values'}, axis = 1).style.background_gradient('Blues'))"
   ]
  },
  {
   "cell_type": "markdown",
   "id": "2da7797f",
   "metadata": {
    "papermill": {
     "duration": 0.025195,
     "end_time": "2021-09-27T15:17:28.784507",
     "exception": false,
     "start_time": "2021-09-27T15:17:28.759312",
     "status": "completed"
    },
    "tags": []
   },
   "source": [
    "## Q1. What is the most frequent observation (mode) for the column 'neighbourhood_group'?"
   ]
  },
  {
   "cell_type": "code",
   "execution_count": 5,
   "id": "b07f88e1",
   "metadata": {
    "execution": {
     "iopub.execute_input": "2021-09-27T15:17:28.851273Z",
     "iopub.status.busy": "2021-09-27T15:17:28.850236Z",
     "iopub.status.idle": "2021-09-27T15:17:28.856226Z",
     "shell.execute_reply": "2021-09-27T15:17:28.855313Z",
     "shell.execute_reply.started": "2021-09-27T14:56:18.242546Z"
    },
    "papermill": {
     "duration": 0.044862,
     "end_time": "2021-09-27T15:17:28.856441",
     "exception": false,
     "start_time": "2021-09-27T15:17:28.811579",
     "status": "completed"
    },
    "tags": []
   },
   "outputs": [
    {
     "name": "stdout",
     "output_type": "stream",
     "text": [
      "Mode for variable 'neighbourhood_group': Manhattan    21661\n",
      "Name: neighbourhood_group, dtype: int64\n"
     ]
    }
   ],
   "source": [
    "print(\"Mode for variable 'neighbourhood_group': %s\" %(df['neighbourhood_group'].value_counts().head(1)))"
   ]
  },
  {
   "cell_type": "markdown",
   "id": "4d9b4b6e",
   "metadata": {
    "papermill": {
     "duration": 0.025457,
     "end_time": "2021-09-27T15:17:28.908511",
     "exception": false,
     "start_time": "2021-09-27T15:17:28.883054",
     "status": "completed"
    },
    "tags": []
   },
   "source": [
    "## Split the data\n",
    "\n",
    "    * Split your data in train/val/test sets, with 60%/20%/20% distribution.\n",
    "    * Use Scikit-Learn for that (the train_test_split function) and set the seed to 42.\n",
    "    * Make sure that the target value ('price') is not in your dataframe.\n"
   ]
  },
  {
   "cell_type": "code",
   "execution_count": 6,
   "id": "add11dbe",
   "metadata": {
    "execution": {
     "iopub.execute_input": "2021-09-27T15:17:28.969631Z",
     "iopub.status.busy": "2021-09-27T15:17:28.967763Z",
     "iopub.status.idle": "2021-09-27T15:17:28.987681Z",
     "shell.execute_reply": "2021-09-27T15:17:28.987004Z",
     "shell.execute_reply.started": "2021-09-27T14:57:14.349490Z"
    },
    "papermill": {
     "duration": 0.053765,
     "end_time": "2021-09-27T15:17:28.987834",
     "exception": false,
     "start_time": "2021-09-27T15:17:28.934069",
     "status": "completed"
    },
    "tags": []
   },
   "outputs": [],
   "source": [
    "from sklearn.model_selection import train_test_split\n",
    "df_full_train, df_test = train_test_split(df, test_size=0.2, random_state=42)\n",
    "df_train, df_val = train_test_split(df_full_train, test_size=0.2, random_state=42)\n",
    "len(df_train), len(df_val), len(df_test)\n",
    "\n",
    "df_train = df_train.reset_index(drop=True)\n",
    "df_val = df_val.reset_index(drop=True)\n",
    "df_test = df_test.reset_index(drop=True)"
   ]
  },
  {
   "cell_type": "markdown",
   "id": "0a2abcc9",
   "metadata": {
    "papermill": {
     "duration": 0.02543,
     "end_time": "2021-09-27T15:17:29.039142",
     "exception": false,
     "start_time": "2021-09-27T15:17:29.013712",
     "status": "completed"
    },
    "tags": []
   },
   "source": [
    "## Q2:\n",
    "\n",
    "    * Create the correlation matrix for the numerical features of your train dataset.\n",
    "        - In a correlation matrix, you compute the correlation coefficient between every pair of features in the dataset.\n",
    "    * What are the two features that have the biggest correlation in this dataset?\n"
   ]
  },
  {
   "cell_type": "code",
   "execution_count": 7,
   "id": "8f59d07c",
   "metadata": {
    "execution": {
     "iopub.execute_input": "2021-09-27T15:17:29.100458Z",
     "iopub.status.busy": "2021-09-27T15:17:29.099771Z",
     "iopub.status.idle": "2021-09-27T15:17:29.128522Z",
     "shell.execute_reply": "2021-09-27T15:17:29.127910Z",
     "shell.execute_reply.started": "2021-09-27T15:16:17.621692Z"
    },
    "papermill": {
     "duration": 0.063588,
     "end_time": "2021-09-27T15:17:29.128672",
     "exception": false,
     "start_time": "2021-09-27T15:17:29.065084",
     "status": "completed"
    },
    "tags": []
   },
   "outputs": [
    {
     "data": {
      "text/html": [
       "<div>\n",
       "<style scoped>\n",
       "    .dataframe tbody tr th:only-of-type {\n",
       "        vertical-align: middle;\n",
       "    }\n",
       "\n",
       "    .dataframe tbody tr th {\n",
       "        vertical-align: top;\n",
       "    }\n",
       "\n",
       "    .dataframe thead th {\n",
       "        text-align: right;\n",
       "    }\n",
       "</style>\n",
       "<table border=\"1\" class=\"dataframe\">\n",
       "  <thead>\n",
       "    <tr style=\"text-align: right;\">\n",
       "      <th></th>\n",
       "      <th>latitude</th>\n",
       "      <th>longitude</th>\n",
       "      <th>price</th>\n",
       "      <th>minimum_nights</th>\n",
       "      <th>number_of_reviews</th>\n",
       "      <th>reviews_per_month</th>\n",
       "      <th>calculated_host_listings_count</th>\n",
       "      <th>availability_365</th>\n",
       "    </tr>\n",
       "  </thead>\n",
       "  <tbody>\n",
       "    <tr>\n",
       "      <th>latitude</th>\n",
       "      <td>1.000000</td>\n",
       "      <td>0.084788</td>\n",
       "      <td>0.033939</td>\n",
       "      <td>0.024869</td>\n",
       "      <td>-0.015389</td>\n",
       "      <td>-0.018758</td>\n",
       "      <td>0.019517</td>\n",
       "      <td>-0.010983</td>\n",
       "    </tr>\n",
       "    <tr>\n",
       "      <th>longitude</th>\n",
       "      <td>0.084788</td>\n",
       "      <td>1.000000</td>\n",
       "      <td>-0.150019</td>\n",
       "      <td>-0.062747</td>\n",
       "      <td>0.059094</td>\n",
       "      <td>0.138516</td>\n",
       "      <td>-0.114713</td>\n",
       "      <td>0.082731</td>\n",
       "    </tr>\n",
       "    <tr>\n",
       "      <th>price</th>\n",
       "      <td>0.033939</td>\n",
       "      <td>-0.150019</td>\n",
       "      <td>1.000000</td>\n",
       "      <td>0.042799</td>\n",
       "      <td>-0.047954</td>\n",
       "      <td>-0.050564</td>\n",
       "      <td>0.057472</td>\n",
       "      <td>0.081829</td>\n",
       "    </tr>\n",
       "    <tr>\n",
       "      <th>minimum_nights</th>\n",
       "      <td>0.024869</td>\n",
       "      <td>-0.062747</td>\n",
       "      <td>0.042799</td>\n",
       "      <td>1.000000</td>\n",
       "      <td>-0.080116</td>\n",
       "      <td>-0.124905</td>\n",
       "      <td>0.127960</td>\n",
       "      <td>0.144303</td>\n",
       "    </tr>\n",
       "    <tr>\n",
       "      <th>number_of_reviews</th>\n",
       "      <td>-0.015389</td>\n",
       "      <td>0.059094</td>\n",
       "      <td>-0.047954</td>\n",
       "      <td>-0.080116</td>\n",
       "      <td>1.000000</td>\n",
       "      <td>0.589407</td>\n",
       "      <td>-0.072376</td>\n",
       "      <td>0.172028</td>\n",
       "    </tr>\n",
       "    <tr>\n",
       "      <th>reviews_per_month</th>\n",
       "      <td>-0.018758</td>\n",
       "      <td>0.138516</td>\n",
       "      <td>-0.050564</td>\n",
       "      <td>-0.124905</td>\n",
       "      <td>0.589407</td>\n",
       "      <td>1.000000</td>\n",
       "      <td>-0.047312</td>\n",
       "      <td>0.163732</td>\n",
       "    </tr>\n",
       "    <tr>\n",
       "      <th>calculated_host_listings_count</th>\n",
       "      <td>0.019517</td>\n",
       "      <td>-0.114713</td>\n",
       "      <td>0.057472</td>\n",
       "      <td>0.127960</td>\n",
       "      <td>-0.072376</td>\n",
       "      <td>-0.047312</td>\n",
       "      <td>1.000000</td>\n",
       "      <td>0.225701</td>\n",
       "    </tr>\n",
       "    <tr>\n",
       "      <th>availability_365</th>\n",
       "      <td>-0.010983</td>\n",
       "      <td>0.082731</td>\n",
       "      <td>0.081829</td>\n",
       "      <td>0.144303</td>\n",
       "      <td>0.172028</td>\n",
       "      <td>0.163732</td>\n",
       "      <td>0.225701</td>\n",
       "      <td>1.000000</td>\n",
       "    </tr>\n",
       "  </tbody>\n",
       "</table>\n",
       "</div>"
      ],
      "text/plain": [
       "                                latitude  longitude     price  minimum_nights  \\\n",
       "latitude                        1.000000   0.084788  0.033939        0.024869   \n",
       "longitude                       0.084788   1.000000 -0.150019       -0.062747   \n",
       "price                           0.033939  -0.150019  1.000000        0.042799   \n",
       "minimum_nights                  0.024869  -0.062747  0.042799        1.000000   \n",
       "number_of_reviews              -0.015389   0.059094 -0.047954       -0.080116   \n",
       "reviews_per_month              -0.018758   0.138516 -0.050564       -0.124905   \n",
       "calculated_host_listings_count  0.019517  -0.114713  0.057472        0.127960   \n",
       "availability_365               -0.010983   0.082731  0.081829        0.144303   \n",
       "\n",
       "                                number_of_reviews  reviews_per_month  \\\n",
       "latitude                                -0.015389          -0.018758   \n",
       "longitude                                0.059094           0.138516   \n",
       "price                                   -0.047954          -0.050564   \n",
       "minimum_nights                          -0.080116          -0.124905   \n",
       "number_of_reviews                        1.000000           0.589407   \n",
       "reviews_per_month                        0.589407           1.000000   \n",
       "calculated_host_listings_count          -0.072376          -0.047312   \n",
       "availability_365                         0.172028           0.163732   \n",
       "\n",
       "                                calculated_host_listings_count  \\\n",
       "latitude                                              0.019517   \n",
       "longitude                                            -0.114713   \n",
       "price                                                 0.057472   \n",
       "minimum_nights                                        0.127960   \n",
       "number_of_reviews                                    -0.072376   \n",
       "reviews_per_month                                    -0.047312   \n",
       "calculated_host_listings_count                        1.000000   \n",
       "availability_365                                      0.225701   \n",
       "\n",
       "                                availability_365  \n",
       "latitude                               -0.010983  \n",
       "longitude                               0.082731  \n",
       "price                                   0.081829  \n",
       "minimum_nights                          0.144303  \n",
       "number_of_reviews                       0.172028  \n",
       "reviews_per_month                       0.163732  \n",
       "calculated_host_listings_count          0.225701  \n",
       "availability_365                        1.000000  "
      ]
     },
     "metadata": {},
     "output_type": "display_data"
    }
   ],
   "source": [
    "\"\"\"Creating List of Numerical and Categorical columns\"\"\"\n",
    "categorical = [col for col in df.columns if df[col].dtype == 'object']\n",
    "numerical = [col for col in df.columns if col not in categorical]\n",
    "\n",
    "\"\"\"Correlation of Numerical Columns\"\"\"\n",
    "display(df[numerical].corr())\n"
   ]
  },
  {
   "cell_type": "markdown",
   "id": "d47ea5a1",
   "metadata": {
    "papermill": {
     "duration": 0.026147,
     "end_time": "2021-09-27T15:17:29.181309",
     "exception": false,
     "start_time": "2021-09-27T15:17:29.155162",
     "status": "completed"
    },
    "tags": []
   },
   "source": [
    "## Highest Correlation is between\n",
    "\n",
    "    * reviews_per_month and number_of_reviews: 0.589407\n"
   ]
  },
  {
   "cell_type": "markdown",
   "id": "b3c204d5",
   "metadata": {
    "papermill": {
     "duration": 0.02607,
     "end_time": "2021-09-27T15:17:29.234006",
     "exception": false,
     "start_time": "2021-09-27T15:17:29.207936",
     "status": "completed"
    },
    "tags": []
   },
   "source": [
    "## Make price binary\n",
    "\n",
    "    * We need to turn the price variable from numeric into binary.\n",
    "    * Let's create a variable above_average which is 1 if the price is above (or equal to) 152.\n"
   ]
  },
  {
   "cell_type": "code",
   "execution_count": 8,
   "id": "6a88501e",
   "metadata": {
    "execution": {
     "iopub.execute_input": "2021-09-27T15:17:29.292863Z",
     "iopub.status.busy": "2021-09-27T15:17:29.292079Z",
     "iopub.status.idle": "2021-09-27T15:17:29.297566Z",
     "shell.execute_reply": "2021-09-27T15:17:29.296691Z",
     "shell.execute_reply.started": "2021-09-27T15:00:02.063623Z"
    },
    "papermill": {
     "duration": 0.037188,
     "end_time": "2021-09-27T15:17:29.297752",
     "exception": false,
     "start_time": "2021-09-27T15:17:29.260564",
     "status": "completed"
    },
    "tags": []
   },
   "outputs": [
    {
     "name": "stderr",
     "output_type": "stream",
     "text": [
      "/opt/conda/lib/python3.7/site-packages/ipykernel_launcher.py:2: SettingWithCopyWarning: \n",
      "A value is trying to be set on a copy of a slice from a DataFrame.\n",
      "Try using .loc[row_indexer,col_indexer] = value instead\n",
      "\n",
      "See the caveats in the documentation: https://pandas.pydata.org/pandas-docs/stable/user_guide/indexing.html#returning-a-view-versus-a-copy\n",
      "  \n"
     ]
    }
   ],
   "source": [
    "\"\"\"price variable from numeric into binary.\"\"\"\n",
    "df_full_train['above_average'] = (df_full_train['price'] >= 152).values.astype(int)"
   ]
  },
  {
   "cell_type": "markdown",
   "id": "101df490",
   "metadata": {
    "papermill": {
     "duration": 0.026532,
     "end_time": "2021-09-27T15:17:29.352670",
     "exception": false,
     "start_time": "2021-09-27T15:17:29.326138",
     "status": "completed"
    },
    "tags": []
   },
   "source": [
    "Q3:\n",
    "\n",
    "    * Calculate the mutual information score with the (binarized) price for the two categorical variables that we have. Use the training set only.\n",
    "    * Which of these two variables has bigger score?\n",
    "    * Round it to 2 decimal digits using round(score, 2)\n"
   ]
  },
  {
   "cell_type": "code",
   "execution_count": 9,
   "id": "217b6992",
   "metadata": {
    "execution": {
     "iopub.execute_input": "2021-09-27T15:17:29.413054Z",
     "iopub.status.busy": "2021-09-27T15:17:29.412230Z",
     "iopub.status.idle": "2021-09-27T15:17:29.530418Z",
     "shell.execute_reply": "2021-09-27T15:17:29.530937Z",
     "shell.execute_reply.started": "2021-09-27T15:00:55.210994Z"
    },
    "papermill": {
     "duration": 0.151522,
     "end_time": "2021-09-27T15:17:29.531107",
     "exception": false,
     "start_time": "2021-09-27T15:17:29.379585",
     "status": "completed"
    },
    "tags": []
   },
   "outputs": [
    {
     "data": {
      "text/plain": [
       "room_type              0.14\n",
       "neighbourhood_group    0.05\n",
       "dtype: float64"
      ]
     },
     "execution_count": 9,
     "metadata": {},
     "output_type": "execute_result"
    }
   ],
   "source": [
    "\"\"\"Mutual Information\"\"\"\n",
    "def mutual_info_bin_score(series):\n",
    "    return mutual_info_score(series, df_full_train.above_average)\n",
    "\n",
    "mi = df_full_train[categorical].apply(mutual_info_bin_score)\n",
    "mi.round(2).sort_values(ascending=False)    "
   ]
  },
  {
   "cell_type": "markdown",
   "id": "e4c77caa",
   "metadata": {
    "papermill": {
     "duration": 0.026914,
     "end_time": "2021-09-27T15:17:29.584956",
     "exception": false,
     "start_time": "2021-09-27T15:17:29.558042",
     "status": "completed"
    },
    "tags": []
   },
   "source": [
    "## Q4:\n",
    "\n",
    "    * Now let's train a logistic regression\n",
    "    * Remember that we have two categorical variables in the data. Include them using one-hot encoding.\n",
    "    * Fit the model on the training dataset.\n",
    "        - To make sure the results are reproducible across different versions of Scikit-Learn, fit the model with these parameters:\n",
    "        - model = LogisticRegression(solver='lbfgs', C=1.0, random_state=42)\n",
    "    * Calculate the accuracy on the validation dataset and rount it to 2 decimal digits.\n"
   ]
  },
  {
   "cell_type": "code",
   "execution_count": 10,
   "id": "a42eef7a",
   "metadata": {
    "execution": {
     "iopub.execute_input": "2021-09-27T15:17:29.648796Z",
     "iopub.status.busy": "2021-09-27T15:17:29.642160Z",
     "iopub.status.idle": "2021-09-27T15:17:29.651758Z",
     "shell.execute_reply": "2021-09-27T15:17:29.651203Z",
     "shell.execute_reply.started": "2021-09-27T15:02:06.582024Z"
    },
    "papermill": {
     "duration": 0.039966,
     "end_time": "2021-09-27T15:17:29.651917",
     "exception": false,
     "start_time": "2021-09-27T15:17:29.611951",
     "status": "completed"
    },
    "tags": []
   },
   "outputs": [],
   "source": [
    "\"\"\"Taking Care of Categorical variables\"\"\"\n",
    "y_train = (df_train['price'] >= 152).values.astype(int)\n",
    "y_val = (df_val['price'] >= 152).values.astype(int)\n",
    "y_test = (df_test['price'] >= 152).values.astype(int)\n",
    "\n",
    "del df_train['price']\n",
    "del df_val['price']\n",
    "del df_test['price']\n",
    "\n",
    "numerical.remove('price')\n",
    "\n",
    "decision = (y_val >= 152).astype(int)"
   ]
  },
  {
   "cell_type": "code",
   "execution_count": 11,
   "id": "11b9ad7b",
   "metadata": {
    "execution": {
     "iopub.execute_input": "2021-09-27T15:17:29.718246Z",
     "iopub.status.busy": "2021-09-27T15:17:29.717047Z",
     "iopub.status.idle": "2021-09-27T15:17:30.887431Z",
     "shell.execute_reply": "2021-09-27T15:17:30.888249Z",
     "shell.execute_reply.started": "2021-09-27T15:03:22.172893Z"
    },
    "papermill": {
     "duration": 1.20932,
     "end_time": "2021-09-27T15:17:30.888540",
     "exception": false,
     "start_time": "2021-09-27T15:17:29.679220",
     "status": "completed"
    },
    "tags": []
   },
   "outputs": [
    {
     "name": "stdout",
     "output_type": "stream",
     "text": [
      "0.7914110429447853\n"
     ]
    },
    {
     "data": {
      "text/html": [
       "<div>\n",
       "<style scoped>\n",
       "    .dataframe tbody tr th:only-of-type {\n",
       "        vertical-align: middle;\n",
       "    }\n",
       "\n",
       "    .dataframe tbody tr th {\n",
       "        vertical-align: top;\n",
       "    }\n",
       "\n",
       "    .dataframe thead th {\n",
       "        text-align: right;\n",
       "    }\n",
       "</style>\n",
       "<table border=\"1\" class=\"dataframe\">\n",
       "  <thead>\n",
       "    <tr style=\"text-align: right;\">\n",
       "      <th></th>\n",
       "      <th>probability</th>\n",
       "      <th>prediction</th>\n",
       "      <th>actual</th>\n",
       "      <th>correct</th>\n",
       "    </tr>\n",
       "  </thead>\n",
       "  <tbody>\n",
       "    <tr>\n",
       "      <th>0</th>\n",
       "      <td>0.028766</td>\n",
       "      <td>False</td>\n",
       "      <td>0</td>\n",
       "      <td>True</td>\n",
       "    </tr>\n",
       "    <tr>\n",
       "      <th>1</th>\n",
       "      <td>0.591596</td>\n",
       "      <td>True</td>\n",
       "      <td>0</td>\n",
       "      <td>False</td>\n",
       "    </tr>\n",
       "    <tr>\n",
       "      <th>2</th>\n",
       "      <td>0.413831</td>\n",
       "      <td>False</td>\n",
       "      <td>1</td>\n",
       "      <td>False</td>\n",
       "    </tr>\n",
       "    <tr>\n",
       "      <th>3</th>\n",
       "      <td>0.075227</td>\n",
       "      <td>False</td>\n",
       "      <td>0</td>\n",
       "      <td>True</td>\n",
       "    </tr>\n",
       "    <tr>\n",
       "      <th>4</th>\n",
       "      <td>0.813254</td>\n",
       "      <td>True</td>\n",
       "      <td>1</td>\n",
       "      <td>True</td>\n",
       "    </tr>\n",
       "  </tbody>\n",
       "</table>\n",
       "</div>"
      ],
      "text/plain": [
       "   probability  prediction  actual  correct\n",
       "0     0.028766       False       0     True\n",
       "1     0.591596        True       0    False\n",
       "2     0.413831       False       1    False\n",
       "3     0.075227       False       0     True\n",
       "4     0.813254        True       1     True"
      ]
     },
     "execution_count": 11,
     "metadata": {},
     "output_type": "execute_result"
    }
   ],
   "source": [
    "def calculate_accuracy(features):\n",
    "    # one-hot encoding datasets\n",
    "    dv = DictVectorizer(sparse=False)\n",
    "\n",
    "    train_dict = df_train[features].to_dict(orient='records')\n",
    "    val_dict = df_val[features].to_dict(orient='records')\n",
    "\n",
    "    X_train = dv.fit_transform(train_dict)\n",
    "    X_val = dv.transform(val_dict)\n",
    "\n",
    "    \"\"\"Fitting the Model on Training Set\"\"\"\n",
    "    model = LogisticRegression(solver='liblinear', C=1.0, random_state=42)\n",
    "    model.fit(X_train, y_train)\n",
    "\n",
    "    \"\"\"Using the model on validation\"\"\"\n",
    "    y_pred = model.predict_proba(X_val)[:,1]\n",
    "\n",
    "    \"\"\"Setting up Decision Threshold to 0.5\"\"\"\n",
    "    decision = (y_pred >= 0.5)\n",
    "\n",
    "    \"\"\"Calculating accuracy\"\"\"\n",
    "    accuracy = (y_val == decision).mean()\n",
    "    \n",
    "\n",
    "    df_pred = pd.DataFrame()\n",
    "    df_pred['probability'] = y_pred\n",
    "    df_pred['prediction'] = decision\n",
    "    df_pred['actual'] = y_val\n",
    "    df_pred['correct'] = df_pred.prediction == df_pred.actual\n",
    "    return accuracy, df_pred\n",
    "acc, df_pred = calculate_accuracy(numerical+categorical)    \n",
    "\n",
    "print(acc)\n",
    "df_pred.head()"
   ]
  },
  {
   "cell_type": "code",
   "execution_count": 12,
   "id": "1336ae4b",
   "metadata": {
    "execution": {
     "iopub.execute_input": "2021-09-27T15:17:30.987513Z",
     "iopub.status.busy": "2021-09-27T15:17:30.986809Z",
     "iopub.status.idle": "2021-09-27T15:17:32.173827Z",
     "shell.execute_reply": "2021-09-27T15:17:32.172988Z",
     "shell.execute_reply.started": "2021-09-27T15:03:38.275810Z"
    },
    "papermill": {
     "duration": 1.23553,
     "end_time": "2021-09-27T15:17:32.174056",
     "exception": false,
     "start_time": "2021-09-27T15:17:30.938526",
     "status": "completed"
    },
    "tags": []
   },
   "outputs": [
    {
     "data": {
      "text/plain": [
       "0.79"
      ]
     },
     "execution_count": 12,
     "metadata": {},
     "output_type": "execute_result"
    }
   ],
   "source": [
    "all_vars_accuracy,_ = calculate_accuracy(numerical+categorical)\n",
    "all_vars_accuracy.round(2)"
   ]
  },
  {
   "cell_type": "markdown",
   "id": "e614a042",
   "metadata": {
    "papermill": {
     "duration": 0.044953,
     "end_time": "2021-09-27T15:17:32.268704",
     "exception": false,
     "start_time": "2021-09-27T15:17:32.223751",
     "status": "completed"
    },
    "tags": []
   },
   "source": [
    "## Q5:\n",
    "\n",
    "    * We have 9 features: 7 numerical features and 2 categorical.\n",
    "    * Let's find the least useful one using the feature elimination technique.\n",
    "    * Train a model with all these features (using the same parameters as in Q4).\n",
    "    * Now exclude each feature from this set and train a model without it. Record the accuracy for each model.\n",
    "    * For each feature, calculate the difference between the original accuracy and the accuracy without the feature.\n",
    "    * Which of following feature has the smallest difference?\n",
    "        - neighbourhood_group\n",
    "        - room_type\n",
    "        - number_of_reviews\n",
    "        - reviews_per_month"
   ]
  },
  {
   "cell_type": "code",
   "execution_count": 13,
   "id": "a0bdf40c",
   "metadata": {
    "execution": {
     "iopub.execute_input": "2021-09-27T15:17:32.353201Z",
     "iopub.status.busy": "2021-09-27T15:17:32.348115Z",
     "iopub.status.idle": "2021-09-27T15:17:42.256318Z",
     "shell.execute_reply": "2021-09-27T15:17:42.257091Z",
     "shell.execute_reply.started": "2021-09-27T15:06:20.041594Z"
    },
    "papermill": {
     "duration": 9.960366,
     "end_time": "2021-09-27T15:17:42.257430",
     "exception": false,
     "start_time": "2021-09-27T15:17:32.297064",
     "status": "completed"
    },
    "tags": []
   },
   "outputs": [
    {
     "data": {
      "text/plain": [
       "{'Difference in accuracy when removing latitude': 0.005112474437627745,\n",
       " 'Difference in accuracy when removing longitude': 0.005240286298568542,\n",
       " 'Difference in accuracy when removing minimum_nights': 0.0001278118609406853,\n",
       " 'Difference in accuracy when removing number_of_reviews': -0.0005112474437628522,\n",
       " 'Difference in accuracy when removing reviews_per_month': -0.0001278118609406853,\n",
       " 'Difference in accuracy when removing calculated_host_listings_count': 0.0006390593047034265,\n",
       " 'Difference in accuracy when removing availability_365': 0.011247443762781195,\n",
       " 'Difference in accuracy when removing neighbourhood_group': 0.04115541922290389,\n",
       " 'Difference in accuracy when removing room_type': 0.06480061349693245}"
      ]
     },
     "execution_count": 13,
     "metadata": {},
     "output_type": "execute_result"
    }
   ],
   "source": [
    "useful_features = numerical + categorical\n",
    "diff = {}\n",
    "for i in useful_features:\n",
    "  features = useful_features.copy()\n",
    "  features.remove(i)\n",
    "  acc,_ = calculate_accuracy(features)\n",
    "  diff[\"Difference in accuracy when removing %s\"%i] = all_vars_accuracy - acc\n",
    "\n",
    "diff"
   ]
  },
  {
   "cell_type": "code",
   "execution_count": 14,
   "id": "625cdb12",
   "metadata": {
    "execution": {
     "iopub.execute_input": "2021-09-27T15:17:42.368328Z",
     "iopub.status.busy": "2021-09-27T15:17:42.367627Z",
     "iopub.status.idle": "2021-09-27T15:17:42.370522Z",
     "shell.execute_reply": "2021-09-27T15:17:42.371006Z",
     "shell.execute_reply.started": "2021-09-27T15:09:06.173428Z"
    },
    "papermill": {
     "duration": 0.062728,
     "end_time": "2021-09-27T15:17:42.371198",
     "exception": false,
     "start_time": "2021-09-27T15:17:42.308470",
     "status": "completed"
    },
    "tags": []
   },
   "outputs": [
    {
     "data": {
      "text/html": [
       "<style type=\"text/css\">\n",
       "#T_7ab78_row0_col0 {\n",
       "  background-color: #f7fbff;\n",
       "  color: #000000;\n",
       "}\n",
       "#T_7ab78_row1_col0 {\n",
       "  background-color: #f6faff;\n",
       "  color: #000000;\n",
       "}\n",
       "#T_7ab78_row2_col0 {\n",
       "  background-color: #f5fafe;\n",
       "  color: #000000;\n",
       "}\n",
       "#T_7ab78_row3_col0 {\n",
       "  background-color: #f4f9fe;\n",
       "  color: #000000;\n",
       "}\n",
       "#T_7ab78_row4_col0, #T_7ab78_row5_col0 {\n",
       "  background-color: #e6f0f9;\n",
       "  color: #000000;\n",
       "}\n",
       "#T_7ab78_row6_col0 {\n",
       "  background-color: #d3e4f3;\n",
       "  color: #000000;\n",
       "}\n",
       "#T_7ab78_row7_col0 {\n",
       "  background-color: #3e8ec4;\n",
       "  color: #f1f1f1;\n",
       "}\n",
       "#T_7ab78_row8_col0 {\n",
       "  background-color: #08306b;\n",
       "  color: #f1f1f1;\n",
       "}\n",
       "</style>\n",
       "<table id=\"T_7ab78_\">\n",
       "  <thead>\n",
       "    <tr>\n",
       "      <th class=\"blank level0\" >&nbsp;</th>\n",
       "      <th class=\"col_heading level0 col0\" >differences</th>\n",
       "    </tr>\n",
       "  </thead>\n",
       "  <tbody>\n",
       "    <tr>\n",
       "      <th id=\"T_7ab78_level0_row0\" class=\"row_heading level0 row0\" >Difference in accuracy when removing number_of_reviews</th>\n",
       "      <td id=\"T_7ab78_row0_col0\" class=\"data row0 col0\" >-0.000511</td>\n",
       "    </tr>\n",
       "    <tr>\n",
       "      <th id=\"T_7ab78_level0_row1\" class=\"row_heading level0 row1\" >Difference in accuracy when removing reviews_per_month</th>\n",
       "      <td id=\"T_7ab78_row1_col0\" class=\"data row1 col0\" >-0.000128</td>\n",
       "    </tr>\n",
       "    <tr>\n",
       "      <th id=\"T_7ab78_level0_row2\" class=\"row_heading level0 row2\" >Difference in accuracy when removing minimum_nights</th>\n",
       "      <td id=\"T_7ab78_row2_col0\" class=\"data row2 col0\" >0.000128</td>\n",
       "    </tr>\n",
       "    <tr>\n",
       "      <th id=\"T_7ab78_level0_row3\" class=\"row_heading level0 row3\" >Difference in accuracy when removing calculated_host_listings_count</th>\n",
       "      <td id=\"T_7ab78_row3_col0\" class=\"data row3 col0\" >0.000639</td>\n",
       "    </tr>\n",
       "    <tr>\n",
       "      <th id=\"T_7ab78_level0_row4\" class=\"row_heading level0 row4\" >Difference in accuracy when removing latitude</th>\n",
       "      <td id=\"T_7ab78_row4_col0\" class=\"data row4 col0\" >0.005112</td>\n",
       "    </tr>\n",
       "    <tr>\n",
       "      <th id=\"T_7ab78_level0_row5\" class=\"row_heading level0 row5\" >Difference in accuracy when removing longitude</th>\n",
       "      <td id=\"T_7ab78_row5_col0\" class=\"data row5 col0\" >0.005240</td>\n",
       "    </tr>\n",
       "    <tr>\n",
       "      <th id=\"T_7ab78_level0_row6\" class=\"row_heading level0 row6\" >Difference in accuracy when removing availability_365</th>\n",
       "      <td id=\"T_7ab78_row6_col0\" class=\"data row6 col0\" >0.011247</td>\n",
       "    </tr>\n",
       "    <tr>\n",
       "      <th id=\"T_7ab78_level0_row7\" class=\"row_heading level0 row7\" >Difference in accuracy when removing neighbourhood_group</th>\n",
       "      <td id=\"T_7ab78_row7_col0\" class=\"data row7 col0\" >0.041155</td>\n",
       "    </tr>\n",
       "    <tr>\n",
       "      <th id=\"T_7ab78_level0_row8\" class=\"row_heading level0 row8\" >Difference in accuracy when removing room_type</th>\n",
       "      <td id=\"T_7ab78_row8_col0\" class=\"data row8 col0\" >0.064801</td>\n",
       "    </tr>\n",
       "  </tbody>\n",
       "</table>\n"
      ],
      "text/plain": [
       "<pandas.io.formats.style.Styler at 0x7fe1be39e250>"
      ]
     },
     "execution_count": 14,
     "metadata": {},
     "output_type": "execute_result"
    }
   ],
   "source": [
    "pd.DataFrame(diff.values(), index = diff.keys()).rename({0: 'differences'}, axis = 1).sort_values(by = 'differences', ascending = True).style.background_gradient('Blues')"
   ]
  },
  {
   "cell_type": "markdown",
   "id": "0981f67a",
   "metadata": {
    "papermill": {
     "duration": 0.029823,
     "end_time": "2021-09-27T15:17:42.430592",
     "exception": false,
     "start_time": "2021-09-27T15:17:42.400769",
     "status": "completed"
    },
    "tags": []
   },
   "source": [
    "### Smallest Difference:\n",
    "\n",
    "    number_of_reviews (0.000895)\n"
   ]
  },
  {
   "cell_type": "markdown",
   "id": "d78d832c",
   "metadata": {
    "papermill": {
     "duration": 0.028926,
     "end_time": "2021-09-27T15:17:42.488747",
     "exception": false,
     "start_time": "2021-09-27T15:17:42.459821",
     "status": "completed"
    },
    "tags": []
   },
   "source": [
    "## Question 6:\n",
    "\n",
    "    * For this question, we'll see how to use a linear regression model from Scikit-Learn\n",
    "    * We'll need to use the original column 'price'. Apply the logarithmic transformation to this column.\n",
    "    * Fit the Ridge regression model on the training data.\n",
    "    * This model has a parameter alpha. Let's try the following values: [0, 0.01, 0.1, 1, 10]\n",
    "    * Which of these alphas leads to the best RMSE on the validation set? Round your RMSE scores to 3 decimal digits.\n"
   ]
  },
  {
   "cell_type": "code",
   "execution_count": 15,
   "id": "28775c34",
   "metadata": {
    "execution": {
     "iopub.execute_input": "2021-09-27T15:17:42.550491Z",
     "iopub.status.busy": "2021-09-27T15:17:42.549748Z",
     "iopub.status.idle": "2021-09-27T15:17:43.290283Z",
     "shell.execute_reply": "2021-09-27T15:17:43.290827Z",
     "shell.execute_reply.started": "2021-09-27T15:10:29.847240Z"
    },
    "papermill": {
     "duration": 0.773229,
     "end_time": "2021-09-27T15:17:43.291005",
     "exception": false,
     "start_time": "2021-09-27T15:17:42.517776",
     "status": "completed"
    },
    "tags": []
   },
   "outputs": [],
   "source": [
    "\"\"\"Preparing Data for Linear Regression with Price Variable included\"\"\"\n",
    "df_full_train, df_test = train_test_split(df, test_size=0.2, random_state=42)\n",
    "df_train, df_val = train_test_split(df_full_train, test_size=0.2, random_state=42)\n",
    "len(df_train), len(df_val), len(df_test)\n",
    "\n",
    "df_train = df_train.reset_index(drop=True)\n",
    "df_val = df_val.reset_index(drop=True)\n",
    "df_test = df_test.reset_index(drop=True)\n",
    "\n",
    "\"\"\"Creating List of Numerical and Categorical columns\"\"\"\n",
    "categorical = [col for col in df.columns if df[col].dtype == 'object']\n",
    "numerical = [col for col in df.columns if col not in categorical]\n",
    "\n",
    "\"\"\"Apply the log transformation to the price variable using the np.log1p() function.\"\"\"\n",
    "y_train = np.log1p(df_train['price'].values)\n",
    "y_val = np.log1p(df_val['price'].values)\n",
    "y_test = np.log1p(df_test['price'].values)\n",
    "\n",
    "\n",
    "\"\"\"Make sure that the target value ('price') is not in your dataframe.\"\"\"\n",
    "del df_train['price']\n",
    "del df_val['price']\n",
    "del df_test['price']\n",
    "\n",
    "\"\"\"Taking care of Categorical Variables\"\"\"\n",
    "dv = DictVectorizer(sparse=False)\n",
    "\n",
    "train_dict = df_train[features].to_dict(orient='records')\n",
    "val_dict = df_val[features].to_dict(orient='records')\n",
    "\n",
    "X_train = dv.fit_transform(train_dict)\n",
    "X_val = dv.transform(val_dict)"
   ]
  },
  {
   "cell_type": "code",
   "execution_count": 16,
   "id": "065de2a5",
   "metadata": {
    "execution": {
     "iopub.execute_input": "2021-09-27T15:17:43.356015Z",
     "iopub.status.busy": "2021-09-27T15:17:43.355329Z",
     "iopub.status.idle": "2021-09-27T15:17:43.424290Z",
     "shell.execute_reply": "2021-09-27T15:17:43.425142Z",
     "shell.execute_reply.started": "2021-09-27T15:10:40.814774Z"
    },
    "papermill": {
     "duration": 0.105437,
     "end_time": "2021-09-27T15:17:43.425415",
     "exception": false,
     "start_time": "2021-09-27T15:17:43.319978",
     "status": "completed"
    },
    "tags": []
   },
   "outputs": [
    {
     "name": "stdout",
     "output_type": "stream",
     "text": [
      "RMSE with alpha = 0 and not rounding to 3 digits: 0.6249924174058848\n",
      "RMSE with alpha = 0.01 and not rounding to 3 digits: 0.6250146864354889\n",
      "RMSE with alpha = 0.1 and not rounding to 3 digits: 0.6250139954471738\n",
      "RMSE with alpha = 1 and not rounding to 3 digits: 0.6250233985636761\n",
      "RMSE with alpha = 10 and not rounding to 3 digits: 0.625991202150716\n",
      " \n",
      "RMSE with rounding off to 3 digits\n",
      "{0: 0.625, 0.01: 0.625, 0.1: 0.625, 1: 0.625, 10: 0.626}\n"
     ]
    }
   ],
   "source": [
    "scores = {}\n",
    "for alpha in [0, 0.01, 0.1, 1, 10]:\n",
    "    model = Ridge(alpha=alpha)\n",
    "    model.fit(X_train, y_train)\n",
    "    y_pred = model.predict(X_val)\n",
    "    score = np.sqrt(mean_squared_error(y_val, y_pred))\n",
    "    scores[alpha] = score.round(3)\n",
    "    print(\"RMSE with alpha = %s and not rounding to 3 digits: %s\"%(alpha, score) )\n",
    "print(\" \\nRMSE with rounding off to 3 digits\")\n",
    "print(scores)"
   ]
  },
  {
   "cell_type": "code",
   "execution_count": 17,
   "id": "8122f0a2",
   "metadata": {
    "execution": {
     "iopub.execute_input": "2021-09-27T15:17:43.540606Z",
     "iopub.status.busy": "2021-09-27T15:17:43.539898Z",
     "iopub.status.idle": "2021-09-27T15:17:43.553855Z",
     "shell.execute_reply": "2021-09-27T15:17:43.554343Z",
     "shell.execute_reply.started": "2021-09-27T15:10:58.894672Z"
    },
    "papermill": {
     "duration": 0.076526,
     "end_time": "2021-09-27T15:17:43.554526",
     "exception": false,
     "start_time": "2021-09-27T15:17:43.478000",
     "status": "completed"
    },
    "tags": []
   },
   "outputs": [
    {
     "name": "stdout",
     "output_type": "stream",
     "text": [
      "Table of RMSE rounded to 3 digits\n"
     ]
    },
    {
     "data": {
      "text/html": [
       "<style type=\"text/css\">\n",
       "#T_b7e3f_row0_col0, #T_b7e3f_row1_col0, #T_b7e3f_row2_col0, #T_b7e3f_row3_col0 {\n",
       "  background-color: #f7fbff;\n",
       "  color: #000000;\n",
       "}\n",
       "#T_b7e3f_row4_col0 {\n",
       "  background-color: #08306b;\n",
       "  color: #f1f1f1;\n",
       "}\n",
       "</style>\n",
       "<table id=\"T_b7e3f_\">\n",
       "  <thead>\n",
       "    <tr>\n",
       "      <th class=\"blank level0\" >&nbsp;</th>\n",
       "      <th class=\"col_heading level0 col0\" >RMSE</th>\n",
       "    </tr>\n",
       "  </thead>\n",
       "  <tbody>\n",
       "    <tr>\n",
       "      <th id=\"T_b7e3f_level0_row0\" class=\"row_heading level0 row0\" >0.0</th>\n",
       "      <td id=\"T_b7e3f_row0_col0\" class=\"data row0 col0\" >0.625000</td>\n",
       "    </tr>\n",
       "    <tr>\n",
       "      <th id=\"T_b7e3f_level0_row1\" class=\"row_heading level0 row1\" >0.01</th>\n",
       "      <td id=\"T_b7e3f_row1_col0\" class=\"data row1 col0\" >0.625000</td>\n",
       "    </tr>\n",
       "    <tr>\n",
       "      <th id=\"T_b7e3f_level0_row2\" class=\"row_heading level0 row2\" >0.1</th>\n",
       "      <td id=\"T_b7e3f_row2_col0\" class=\"data row2 col0\" >0.625000</td>\n",
       "    </tr>\n",
       "    <tr>\n",
       "      <th id=\"T_b7e3f_level0_row3\" class=\"row_heading level0 row3\" >1.0</th>\n",
       "      <td id=\"T_b7e3f_row3_col0\" class=\"data row3 col0\" >0.625000</td>\n",
       "    </tr>\n",
       "    <tr>\n",
       "      <th id=\"T_b7e3f_level0_row4\" class=\"row_heading level0 row4\" >10.0</th>\n",
       "      <td id=\"T_b7e3f_row4_col0\" class=\"data row4 col0\" >0.626000</td>\n",
       "    </tr>\n",
       "  </tbody>\n",
       "</table>\n"
      ],
      "text/plain": [
       "<pandas.io.formats.style.Styler at 0x7fe1be4e34d0>"
      ]
     },
     "execution_count": 17,
     "metadata": {},
     "output_type": "execute_result"
    }
   ],
   "source": [
    "print(\"Table of RMSE rounded to 3 digits\")\n",
    "pd.DataFrame(scores.values(), index = scores.keys()).rename({0: 'RMSE'}, axis = 1).sort_values(by = 'RMSE', ascending = True).style.background_gradient('Blues')"
   ]
  },
  {
   "cell_type": "markdown",
   "id": "9a26de7a",
   "metadata": {
    "papermill": {
     "duration": 0.029926,
     "end_time": "2021-09-27T15:17:43.614567",
     "exception": false,
     "start_time": "2021-09-27T15:17:43.584641",
     "status": "completed"
    },
    "tags": []
   },
   "source": [
    "alpha that leads to the best RMSE: 0"
   ]
  }
 ],
 "metadata": {
  "kernelspec": {
   "display_name": "Python 3",
   "language": "python",
   "name": "python3"
  },
  "language_info": {
   "codemirror_mode": {
    "name": "ipython",
    "version": 3
   },
   "file_extension": ".py",
   "mimetype": "text/x-python",
   "name": "python",
   "nbconvert_exporter": "python",
   "pygments_lexer": "ipython3",
   "version": "3.7.10"
  },
  "papermill": {
   "default_parameters": {},
   "duration": 27.852322,
   "end_time": "2021-09-27T15:17:45.107513",
   "environment_variables": {},
   "exception": null,
   "input_path": "__notebook__.ipynb",
   "output_path": "__notebook__.ipynb",
   "parameters": {},
   "start_time": "2021-09-27T15:17:17.255191",
   "version": "2.3.3"
  }
 },
 "nbformat": 4,
 "nbformat_minor": 5
}
